{
  "nbformat": 4,
  "nbformat_minor": 0,
  "metadata": {
    "colab": {
      "provenance": [],
      "authorship_tag": "ABX9TyMTnBMlQEcGiFlgnlAP8dBQ",
      "include_colab_link": true
    },
    "kernelspec": {
      "name": "python3",
      "display_name": "Python 3"
    },
    "language_info": {
      "name": "python"
    }
  },
  "cells": [
    {
      "cell_type": "markdown",
      "metadata": {
        "id": "view-in-github",
        "colab_type": "text"
      },
      "source": [
        "<a href=\"https://colab.research.google.com/github/GaetanAm/Sentiment-Analysis-and-Impact-on-Financial-Markets/blob/main/notebooks/Stage1.ipynb\" target=\"_parent\"><img src=\"https://colab.research.google.com/assets/colab-badge.svg\" alt=\"Open In Colab\"/></a>"
      ]
    },
    {
      "cell_type": "markdown",
      "source": [
        "# **Stage 1: Machine Learning Project Notebook**\n",
        "\n",
        "## **1. Introduction**\n",
        "This notebook focuses on analyzing the impact of financial sentiments (from news articles and tweets) on stock price movements.\n",
        "\n",
        "The goal is to evaluate whether sentiment trends can predict price changes and their strength."
      ],
      "metadata": {
        "id": "yZG6nB0WdeMf"
      }
    },
    {
      "cell_type": "code",
      "source": [
        "# Required Libraries\n",
        "import pandas as pd\n",
        "import numpy as np\n",
        "import matplotlib.pyplot as plt\n",
        "import seaborn as sns\n",
        "import tweepy\n",
        "import snscrape.modules.twitter as sntwitter\n",
        "from google.colab import files\n",
        "from sklearn.model_selection import train_test_split\n",
        "from sklearn.metrics import accuracy_score, f1_score, precision_score, recall_score\n",
        "from sklearn.ensemble import RandomForestRegressor\n",
        "from transformers import pipeline\n",
        "from google.colab import userdata\n",
        "\n",
        "# Installer et importer yfinance pour récupérer les données boursières\n",
        "import yfinance as yf\n"
      ],
      "metadata": {
        "id": "hJL2h7VAdo1Z"
      },
      "execution_count": 128,
      "outputs": []
    },
    {
      "cell_type": "markdown",
      "source": [
        "## **2. Problem Formalization and ML Tasks**\n",
        "Objective:\n",
        "- Predict stock price movement based on sentiment analysis of financial news and tweets.\n",
        "\n",
        "ML Tasks:\n",
        "- Sentiment Classification.\n",
        "- Correlation and Regression Analysis.\n",
        "\n",
        "Models Chosen:\n",
        "- Twitter-roBERTa-base for tweets.\n",
        "- FinBERT for structured financial news.\n",
        "- Regression models to correlate sentiment scores with stock price changes."
      ],
      "metadata": {
        "id": "VPM8xkbze6jB"
      }
    },
    {
      "cell_type": "markdown",
      "source": [
        "## **3. Creation of the datasets**"
      ],
      "metadata": {
        "id": "5s7d-c6FfM4r"
      }
    },
    {
      "cell_type": "markdown",
      "source": [
        "### TWEETS DATASET"
      ],
      "metadata": {
        "id": "eduIi81Oi7j7"
      }
    },
    {
      "cell_type": "code",
      "source": [
        "# API key and configuration\n",
        "consumer_key_X = userdata.get('X_CONSUMER_KEY')\n",
        "consumer_secret_X = userdata.get('X_CONSUMER_SEC')\n",
        "access_token_X = userdata.get('X_TOKEN_ACCESS')\n",
        "access_token_secret_X = userdata.get('X_TOKEN_SECRET')\n",
        "\n",
        "# Authenticate with Twitter\n",
        "auth = tweepy.OAuthHandler(consumer_key_X, consumer_secret_X)\n",
        "auth.set_access_token(access_token_X, access_token_secret_X)\n",
        "api = tweepy.API(auth)\n",
        "\n",
        "# Example\n",
        "tweets = api.search_tweets(q=\"Apple OR AAPL\", lang=\"en\", count=5)\n",
        "for tweet in tweets:\n",
        "    print(tweet.text)"
      ],
      "metadata": {
        "colab": {
          "base_uri": "https://localhost:8080/",
          "height": 408
        },
        "id": "9VjP-SMffaUI",
        "outputId": "37dac651-9593-491d-a440-ead20f87099a"
      },
      "execution_count": 122,
      "outputs": [
        {
          "output_type": "error",
          "ename": "Forbidden",
          "evalue": "403 Forbidden\n453 - You currently have access to a subset of X API V2 endpoints and limited v1.1 endpoints (e.g. media post, oauth) only. If you need access to this endpoint, you may need a different access level. You can learn more here: https://developer.x.com/en/portal/product",
          "traceback": [
            "\u001b[0;31m---------------------------------------------------------------------------\u001b[0m",
            "\u001b[0;31mForbidden\u001b[0m                                 Traceback (most recent call last)",
            "\u001b[0;32m<ipython-input-122-8c6c38e84d47>\u001b[0m in \u001b[0;36m<cell line: 13>\u001b[0;34m()\u001b[0m\n\u001b[1;32m     11\u001b[0m \u001b[0;34m\u001b[0m\u001b[0m\n\u001b[1;32m     12\u001b[0m \u001b[0;31m# Example\u001b[0m\u001b[0;34m\u001b[0m\u001b[0;34m\u001b[0m\u001b[0m\n\u001b[0;32m---> 13\u001b[0;31m \u001b[0mtweets\u001b[0m \u001b[0;34m=\u001b[0m \u001b[0mapi\u001b[0m\u001b[0;34m.\u001b[0m\u001b[0msearch_tweets\u001b[0m\u001b[0;34m(\u001b[0m\u001b[0mq\u001b[0m\u001b[0;34m=\u001b[0m\u001b[0;34m\"Apple OR AAPL\"\u001b[0m\u001b[0;34m,\u001b[0m \u001b[0mlang\u001b[0m\u001b[0;34m=\u001b[0m\u001b[0;34m\"en\"\u001b[0m\u001b[0;34m,\u001b[0m \u001b[0mcount\u001b[0m\u001b[0;34m=\u001b[0m\u001b[0;36m5\u001b[0m\u001b[0;34m)\u001b[0m\u001b[0;34m\u001b[0m\u001b[0;34m\u001b[0m\u001b[0m\n\u001b[0m\u001b[1;32m     14\u001b[0m \u001b[0;32mfor\u001b[0m \u001b[0mtweet\u001b[0m \u001b[0;32min\u001b[0m \u001b[0mtweets\u001b[0m\u001b[0;34m:\u001b[0m\u001b[0;34m\u001b[0m\u001b[0;34m\u001b[0m\u001b[0m\n\u001b[1;32m     15\u001b[0m     \u001b[0mprint\u001b[0m\u001b[0;34m(\u001b[0m\u001b[0mtweet\u001b[0m\u001b[0;34m.\u001b[0m\u001b[0mtext\u001b[0m\u001b[0;34m)\u001b[0m\u001b[0;34m\u001b[0m\u001b[0;34m\u001b[0m\u001b[0m\n",
            "\u001b[0;32m/usr/local/lib/python3.10/dist-packages/tweepy/api.py\u001b[0m in \u001b[0;36mwrapper\u001b[0;34m(*args, **kwargs)\u001b[0m\n\u001b[1;32m     31\u001b[0m         \u001b[0;34m@\u001b[0m\u001b[0mfunctools\u001b[0m\u001b[0;34m.\u001b[0m\u001b[0mwraps\u001b[0m\u001b[0;34m(\u001b[0m\u001b[0mmethod\u001b[0m\u001b[0;34m)\u001b[0m\u001b[0;34m\u001b[0m\u001b[0;34m\u001b[0m\u001b[0m\n\u001b[1;32m     32\u001b[0m         \u001b[0;32mdef\u001b[0m \u001b[0mwrapper\u001b[0m\u001b[0;34m(\u001b[0m\u001b[0;34m*\u001b[0m\u001b[0margs\u001b[0m\u001b[0;34m,\u001b[0m \u001b[0;34m**\u001b[0m\u001b[0mkwargs\u001b[0m\u001b[0;34m)\u001b[0m\u001b[0;34m:\u001b[0m\u001b[0;34m\u001b[0m\u001b[0;34m\u001b[0m\u001b[0m\n\u001b[0;32m---> 33\u001b[0;31m             \u001b[0;32mreturn\u001b[0m \u001b[0mmethod\u001b[0m\u001b[0;34m(\u001b[0m\u001b[0;34m*\u001b[0m\u001b[0margs\u001b[0m\u001b[0;34m,\u001b[0m \u001b[0;34m**\u001b[0m\u001b[0mkwargs\u001b[0m\u001b[0;34m)\u001b[0m\u001b[0;34m\u001b[0m\u001b[0;34m\u001b[0m\u001b[0m\n\u001b[0m\u001b[1;32m     34\u001b[0m         \u001b[0mwrapper\u001b[0m\u001b[0;34m.\u001b[0m\u001b[0mpagination_mode\u001b[0m \u001b[0;34m=\u001b[0m \u001b[0mmode\u001b[0m\u001b[0;34m\u001b[0m\u001b[0;34m\u001b[0m\u001b[0m\n\u001b[1;32m     35\u001b[0m         \u001b[0;32mreturn\u001b[0m \u001b[0mwrapper\u001b[0m\u001b[0;34m\u001b[0m\u001b[0;34m\u001b[0m\u001b[0m\n",
            "\u001b[0;32m/usr/local/lib/python3.10/dist-packages/tweepy/api.py\u001b[0m in \u001b[0;36mwrapper\u001b[0;34m(*args, **kwargs)\u001b[0m\n\u001b[1;32m     44\u001b[0m             \u001b[0mkwargs\u001b[0m\u001b[0;34m[\u001b[0m\u001b[0;34m'payload_list'\u001b[0m\u001b[0;34m]\u001b[0m \u001b[0;34m=\u001b[0m \u001b[0mpayload_list\u001b[0m\u001b[0;34m\u001b[0m\u001b[0;34m\u001b[0m\u001b[0m\n\u001b[1;32m     45\u001b[0m             \u001b[0mkwargs\u001b[0m\u001b[0;34m[\u001b[0m\u001b[0;34m'payload_type'\u001b[0m\u001b[0;34m]\u001b[0m \u001b[0;34m=\u001b[0m \u001b[0mpayload_type\u001b[0m\u001b[0;34m\u001b[0m\u001b[0;34m\u001b[0m\u001b[0m\n\u001b[0;32m---> 46\u001b[0;31m             \u001b[0;32mreturn\u001b[0m \u001b[0mmethod\u001b[0m\u001b[0;34m(\u001b[0m\u001b[0;34m*\u001b[0m\u001b[0margs\u001b[0m\u001b[0;34m,\u001b[0m \u001b[0;34m**\u001b[0m\u001b[0mkwargs\u001b[0m\u001b[0;34m)\u001b[0m\u001b[0;34m\u001b[0m\u001b[0;34m\u001b[0m\u001b[0m\n\u001b[0m\u001b[1;32m     47\u001b[0m         \u001b[0mwrapper\u001b[0m\u001b[0;34m.\u001b[0m\u001b[0mpayload_list\u001b[0m \u001b[0;34m=\u001b[0m \u001b[0mpayload_list\u001b[0m\u001b[0;34m\u001b[0m\u001b[0;34m\u001b[0m\u001b[0m\n\u001b[1;32m     48\u001b[0m         \u001b[0mwrapper\u001b[0m\u001b[0;34m.\u001b[0m\u001b[0mpayload_type\u001b[0m \u001b[0;34m=\u001b[0m \u001b[0mpayload_type\u001b[0m\u001b[0;34m\u001b[0m\u001b[0;34m\u001b[0m\u001b[0m\n",
            "\u001b[0;32m/usr/local/lib/python3.10/dist-packages/tweepy/api.py\u001b[0m in \u001b[0;36msearch_tweets\u001b[0;34m(self, q, **kwargs)\u001b[0m\n\u001b[1;32m   1144\u001b[0m         \u001b[0;34m.\u001b[0m\u001b[0;34m.\u001b[0m \u001b[0m_Twitter\u001b[0m\u001b[0;31m'\u001b[0m\u001b[0ms\u001b[0m \u001b[0mdocumentation\u001b[0m \u001b[0mon\u001b[0m \u001b[0mthe\u001b[0m \u001b[0mstandard\u001b[0m \u001b[0msearch\u001b[0m \u001b[0mAPI\u001b[0m\u001b[0;34m:\u001b[0m \u001b[0mhttps\u001b[0m\u001b[0;34m:\u001b[0m\u001b[0;34m//\u001b[0m\u001b[0mdeveloper\u001b[0m\u001b[0;34m.\u001b[0m\u001b[0mtwitter\u001b[0m\u001b[0;34m.\u001b[0m\u001b[0mcom\u001b[0m\u001b[0;34m/\u001b[0m\u001b[0men\u001b[0m\u001b[0;34m/\u001b[0m\u001b[0mdocs\u001b[0m\u001b[0;34m/\u001b[0m\u001b[0mtwitter\u001b[0m\u001b[0;34m-\u001b[0m\u001b[0mapi\u001b[0m\u001b[0;34m/\u001b[0m\u001b[0mv1\u001b[0m\u001b[0;34m/\u001b[0m\u001b[0mtweets\u001b[0m\u001b[0;34m/\u001b[0m\u001b[0msearch\u001b[0m\u001b[0;34m/\u001b[0m\u001b[0moverview\u001b[0m\u001b[0;34m\u001b[0m\u001b[0;34m\u001b[0m\u001b[0m\n\u001b[1;32m   1145\u001b[0m         \"\"\"\n\u001b[0;32m-> 1146\u001b[0;31m         return self.request(\n\u001b[0m\u001b[1;32m   1147\u001b[0m             'GET', 'search/tweets', endpoint_parameters=(\n\u001b[1;32m   1148\u001b[0m                 \u001b[0;34m'q'\u001b[0m\u001b[0;34m,\u001b[0m \u001b[0;34m'geocode'\u001b[0m\u001b[0;34m,\u001b[0m \u001b[0;34m'lang'\u001b[0m\u001b[0;34m,\u001b[0m \u001b[0;34m'locale'\u001b[0m\u001b[0;34m,\u001b[0m \u001b[0;34m'result_type'\u001b[0m\u001b[0;34m,\u001b[0m \u001b[0;34m'count'\u001b[0m\u001b[0;34m,\u001b[0m\u001b[0;34m\u001b[0m\u001b[0;34m\u001b[0m\u001b[0m\n",
            "\u001b[0;32m/usr/local/lib/python3.10/dist-packages/tweepy/api.py\u001b[0m in \u001b[0;36mrequest\u001b[0;34m(self, method, endpoint, endpoint_parameters, params, headers, json_payload, parser, payload_list, payload_type, post_data, files, require_auth, return_cursors, upload_api, use_cache, **kwargs)\u001b[0m\n\u001b[1;32m    269\u001b[0m                 \u001b[0;32mraise\u001b[0m \u001b[0mUnauthorized\u001b[0m\u001b[0;34m(\u001b[0m\u001b[0mresp\u001b[0m\u001b[0;34m)\u001b[0m\u001b[0;34m\u001b[0m\u001b[0;34m\u001b[0m\u001b[0m\n\u001b[1;32m    270\u001b[0m             \u001b[0;32mif\u001b[0m \u001b[0mresp\u001b[0m\u001b[0;34m.\u001b[0m\u001b[0mstatus_code\u001b[0m \u001b[0;34m==\u001b[0m \u001b[0;36m403\u001b[0m\u001b[0;34m:\u001b[0m\u001b[0;34m\u001b[0m\u001b[0;34m\u001b[0m\u001b[0m\n\u001b[0;32m--> 271\u001b[0;31m                 \u001b[0;32mraise\u001b[0m \u001b[0mForbidden\u001b[0m\u001b[0;34m(\u001b[0m\u001b[0mresp\u001b[0m\u001b[0;34m)\u001b[0m\u001b[0;34m\u001b[0m\u001b[0;34m\u001b[0m\u001b[0m\n\u001b[0m\u001b[1;32m    272\u001b[0m             \u001b[0;32mif\u001b[0m \u001b[0mresp\u001b[0m\u001b[0;34m.\u001b[0m\u001b[0mstatus_code\u001b[0m \u001b[0;34m==\u001b[0m \u001b[0;36m404\u001b[0m\u001b[0;34m:\u001b[0m\u001b[0;34m\u001b[0m\u001b[0;34m\u001b[0m\u001b[0m\n\u001b[1;32m    273\u001b[0m                 \u001b[0;32mraise\u001b[0m \u001b[0mNotFound\u001b[0m\u001b[0;34m(\u001b[0m\u001b[0mresp\u001b[0m\u001b[0;34m)\u001b[0m\u001b[0;34m\u001b[0m\u001b[0;34m\u001b[0m\u001b[0m\n",
            "\u001b[0;31mForbidden\u001b[0m: 403 Forbidden\n453 - You currently have access to a subset of X API V2 endpoints and limited v1.1 endpoints (e.g. media post, oauth) only. If you need access to this endpoint, you may need a different access level. You can learn more here: https://developer.x.com/en/portal/product"
          ]
        }
      ]
    },
    {
      "cell_type": "code",
      "source": [
        "# Twitter API v2 key\n",
        "bearer_token = userdata.get('X_BEARER_TOKEN')\n",
        "\n",
        "# Create a client using Twitter API v2\n",
        "client = tweepy.Client(bearer_token=bearer_token)\n",
        "\n",
        "# Search recent tweets\n",
        "query = \"Apple OR AAPL lang:en\"\n",
        "tweets = client.search_recent_tweets(query=query, max_results=10)\n",
        "\n",
        "for tweet in tweets.data:\n",
        "    print(tweet.text)"
      ],
      "metadata": {
        "colab": {
          "base_uri": "https://localhost:8080/"
        },
        "id": "tEVKBbV2jTCB",
        "outputId": "72824bec-751d-486f-d503-17de3aee5d41"
      },
      "execution_count": 123,
      "outputs": [
        {
          "output_type": "stream",
          "name": "stdout",
          "text": [
            "RT @treblewoe: Since Silicon Valley hiring has everyone’s attention, here’s the experience of someone who was a hiring manager for over a d…\n",
            "RT @DonCorleone707: You no fit farm UK Apple Music 😂\n",
            "RT @TomJumboGrumbo: A puppy who only became available for adoption on Dec 18, Ebenezer #247668 is now at risk TBK in Apple Valley CA. Just…\n",
            "RT @synt_biz: @Apple_Dog_Sol cool apple\n",
            "RT @ValeriA_Tech: En 2022, Apple intentó destruir X (Twitter)\n",
            "\n",
            "Retiraron sus anuncios y amenazaron con bloquear Twitter de la App Store\n",
            "\n",
            "Pe…\n",
            "🚨 مجاني لوقت محدود ⌛️ \n",
            "\n",
            "📲تطبيق PicTool -Photo &amp; Image Toolbox  \n",
            "\n",
            "للايفون والايباد وفي ادوات رهيبة ويدعم العربي  \n",
            "\n",
            "https://t.co/93zIhR8f1h https://t.co/cbaOuPXUYj\n",
            "@b1g_damage Probably kinda similar to Apple Music on here but instead of adding something to the URL, delete everything after the first string of letters when you post the link it usually begins with ? That you need to delete\n",
            "RT @AORINGOHUZIN: 【The White Lounge in CINEMA 映像商品💿】\n",
            "⁡\n",
            "本日12月27日(金)リリース、\n",
            "『The White Lounge ㏌ CINEMA』Blu-ray/DVD\n",
            "特典映像「Documentary -- Episode…\n",
            "RT @treblewoe: Since Silicon Valley hiring has everyone’s attention, here’s the experience of someone who was a hiring manager for over a d…\n",
            "RT @LescoLlc: @amandajuliiiia Apple pie🥧\n"
          ]
        }
      ]
    },
    {
      "cell_type": "markdown",
      "source": [
        "\n",
        "### Apparently, the Tweepy library no longer works as expected due to the removal of free access to the Twitter API.\n",
        "\n",
        "An alternative using Twitter API v2 initially worked, but we encountered severe limitations due to request rate restrictions.\n",
        "\n",
        "Ultimately, this resulted in the following error:\n",
        "\n",
        "> TooManyRequests: 429 Too Many Requests.\n",
        "\n",
        "As a result, we decided to explore `snscrape` as another alternative for collecting tweets, although it also has limitations (e.g., SSL errors)."
      ],
      "metadata": {
        "id": "2GUlnMCsiRc1"
      }
    },
    {
      "cell_type": "code",
      "source": [
        "# Set up query and list to store tweets\n",
        "query = \"Apple OR AAPL lang:en\"\n",
        "tweets = []\n",
        "\n",
        "# Collect tweets with snscrape\n",
        "for tweet in sntwitter.TwitterSearchScraper(f\"{query}\").get_items():\n",
        "    if len(tweets) >= 10:  # Limit the number of tweets to collect\n",
        "        break\n",
        "    tweets.append(tweet.content)\n",
        "\n",
        "# Display collected tweets\n",
        "for tweet in tweets:\n",
        "    print(tweet)"
      ],
      "metadata": {
        "id": "nh6wPbQXksVK",
        "outputId": "be4cf7f3-c248-4410-f6bd-1a80aab948e6",
        "colab": {
          "base_uri": "https://localhost:8080/",
          "height": 428
        }
      },
      "execution_count": 129,
      "outputs": [
        {
          "output_type": "stream",
          "name": "stderr",
          "text": [
            "ERROR:snscrape.base:Error retrieving https://twitter.com/search?f=live&lang=en&q=Apple+OR+AAPL+lang%3Aen&src=spelling_expansion_revert_click: SSLError(MaxRetryError(\"HTTPSConnectionPool(host='twitter.com', port=443): Max retries exceeded with url: /search?f=live&lang=en&q=Apple+OR+AAPL+lang%3Aen&src=spelling_expansion_revert_click (Caused by SSLError(SSLCertVerificationError(1, '[SSL: CERTIFICATE_VERIFY_FAILED] certificate verify failed: unable to get local issuer certificate (_ssl.c:1007)')))\"))\n",
            "CRITICAL:snscrape.base:4 requests to https://twitter.com/search?f=live&lang=en&q=Apple+OR+AAPL+lang%3Aen&src=spelling_expansion_revert_click failed, giving up.\n",
            "CRITICAL:snscrape.base:Errors: SSLError(MaxRetryError(\"HTTPSConnectionPool(host='twitter.com', port=443): Max retries exceeded with url: /search?f=live&lang=en&q=Apple+OR+AAPL+lang%3Aen&src=spelling_expansion_revert_click (Caused by SSLError(SSLCertVerificationError(1, '[SSL: CERTIFICATE_VERIFY_FAILED] certificate verify failed: unable to get local issuer certificate (_ssl.c:1007)')))\")), SSLError(MaxRetryError(\"HTTPSConnectionPool(host='twitter.com', port=443): Max retries exceeded with url: /search?f=live&lang=en&q=Apple+OR+AAPL+lang%3Aen&src=spelling_expansion_revert_click (Caused by SSLError(SSLCertVerificationError(1, '[SSL: CERTIFICATE_VERIFY_FAILED] certificate verify failed: unable to get local issuer certificate (_ssl.c:1007)')))\")), SSLError(MaxRetryError(\"HTTPSConnectionPool(host='twitter.com', port=443): Max retries exceeded with url: /search?f=live&lang=en&q=Apple+OR+AAPL+lang%3Aen&src=spelling_expansion_revert_click (Caused by SSLError(SSLCertVerificationError(1, '[SSL: CERTIFICATE_VERIFY_FAILED] certificate verify failed: unable to get local issuer certificate (_ssl.c:1007)')))\")), SSLError(MaxRetryError(\"HTTPSConnectionPool(host='twitter.com', port=443): Max retries exceeded with url: /search?f=live&lang=en&q=Apple+OR+AAPL+lang%3Aen&src=spelling_expansion_revert_click (Caused by SSLError(SSLCertVerificationError(1, '[SSL: CERTIFICATE_VERIFY_FAILED] certificate verify failed: unable to get local issuer certificate (_ssl.c:1007)')))\"))\n"
          ]
        },
        {
          "output_type": "error",
          "ename": "ScraperException",
          "evalue": "4 requests to https://twitter.com/search?f=live&lang=en&q=Apple+OR+AAPL+lang%3Aen&src=spelling_expansion_revert_click failed, giving up.",
          "traceback": [
            "\u001b[0;31m---------------------------------------------------------------------------\u001b[0m",
            "\u001b[0;31mScraperException\u001b[0m                          Traceback (most recent call last)",
            "\u001b[0;32m<ipython-input-129-ae5441675a8d>\u001b[0m in \u001b[0;36m<cell line: 6>\u001b[0;34m()\u001b[0m\n\u001b[1;32m      4\u001b[0m \u001b[0;34m\u001b[0m\u001b[0m\n\u001b[1;32m      5\u001b[0m \u001b[0;31m# Collect tweets with snscrape\u001b[0m\u001b[0;34m\u001b[0m\u001b[0;34m\u001b[0m\u001b[0m\n\u001b[0;32m----> 6\u001b[0;31m \u001b[0;32mfor\u001b[0m \u001b[0mtweet\u001b[0m \u001b[0;32min\u001b[0m \u001b[0msntwitter\u001b[0m\u001b[0;34m.\u001b[0m\u001b[0mTwitterSearchScraper\u001b[0m\u001b[0;34m(\u001b[0m\u001b[0;34mf\"{query}\"\u001b[0m\u001b[0;34m)\u001b[0m\u001b[0;34m.\u001b[0m\u001b[0mget_items\u001b[0m\u001b[0;34m(\u001b[0m\u001b[0;34m)\u001b[0m\u001b[0;34m:\u001b[0m\u001b[0;34m\u001b[0m\u001b[0;34m\u001b[0m\u001b[0m\n\u001b[0m\u001b[1;32m      7\u001b[0m     \u001b[0;32mif\u001b[0m \u001b[0mlen\u001b[0m\u001b[0;34m(\u001b[0m\u001b[0mtweets\u001b[0m\u001b[0;34m)\u001b[0m \u001b[0;34m>=\u001b[0m \u001b[0;36m10\u001b[0m\u001b[0;34m:\u001b[0m  \u001b[0;31m# Limit the number of tweets to collect\u001b[0m\u001b[0;34m\u001b[0m\u001b[0;34m\u001b[0m\u001b[0m\n\u001b[1;32m      8\u001b[0m         \u001b[0;32mbreak\u001b[0m\u001b[0;34m\u001b[0m\u001b[0;34m\u001b[0m\u001b[0m\n",
            "\u001b[0;32m/usr/local/lib/python3.10/dist-packages/snscrape/modules/twitter.py\u001b[0m in \u001b[0;36mget_items\u001b[0;34m(self)\u001b[0m\n\u001b[1;32m   1761\u001b[0m                 \u001b[0mpaginationParams\u001b[0m \u001b[0;34m=\u001b[0m \u001b[0;34m{\u001b[0m\u001b[0;34m'variables'\u001b[0m\u001b[0;34m:\u001b[0m \u001b[0mpaginationVariables\u001b[0m\u001b[0;34m,\u001b[0m \u001b[0;34m'features'\u001b[0m\u001b[0;34m:\u001b[0m \u001b[0mfeatures\u001b[0m\u001b[0;34m}\u001b[0m\u001b[0;34m\u001b[0m\u001b[0;34m\u001b[0m\u001b[0m\n\u001b[1;32m   1762\u001b[0m \u001b[0;34m\u001b[0m\u001b[0m\n\u001b[0;32m-> 1763\u001b[0;31m                 \u001b[0;32mfor\u001b[0m \u001b[0mobj\u001b[0m \u001b[0;32min\u001b[0m \u001b[0mself\u001b[0m\u001b[0;34m.\u001b[0m\u001b[0m_iter_api_data\u001b[0m\u001b[0;34m(\u001b[0m\u001b[0;34m'https://twitter.com/i/api/graphql/7jT5GT59P8IFjgxwqnEdQw/SearchTimeline'\u001b[0m\u001b[0;34m,\u001b[0m \u001b[0m_TwitterAPIType\u001b[0m\u001b[0;34m.\u001b[0m\u001b[0mGRAPHQL\u001b[0m\u001b[0;34m,\u001b[0m \u001b[0mparams\u001b[0m\u001b[0;34m,\u001b[0m \u001b[0mpaginationParams\u001b[0m\u001b[0;34m,\u001b[0m \u001b[0mcursor\u001b[0m \u001b[0;34m=\u001b[0m \u001b[0mself\u001b[0m\u001b[0;34m.\u001b[0m\u001b[0m_cursor\u001b[0m\u001b[0;34m,\u001b[0m \u001b[0minstructionsPath\u001b[0m \u001b[0;34m=\u001b[0m \u001b[0;34m[\u001b[0m\u001b[0;34m'data'\u001b[0m\u001b[0;34m,\u001b[0m \u001b[0;34m'search_by_raw_query'\u001b[0m\u001b[0;34m,\u001b[0m \u001b[0;34m'search_timeline'\u001b[0m\u001b[0;34m,\u001b[0m \u001b[0;34m'timeline'\u001b[0m\u001b[0;34m,\u001b[0m \u001b[0;34m'instructions'\u001b[0m\u001b[0;34m]\u001b[0m\u001b[0;34m)\u001b[0m\u001b[0;34m:\u001b[0m\u001b[0;34m\u001b[0m\u001b[0;34m\u001b[0m\u001b[0m\n\u001b[0m\u001b[1;32m   1764\u001b[0m                         \u001b[0;32myield\u001b[0m \u001b[0;32mfrom\u001b[0m \u001b[0mself\u001b[0m\u001b[0;34m.\u001b[0m\u001b[0m_graphql_timeline_instructions_to_tweets\u001b[0m\u001b[0;34m(\u001b[0m\u001b[0mobj\u001b[0m\u001b[0;34m[\u001b[0m\u001b[0;34m'data'\u001b[0m\u001b[0;34m]\u001b[0m\u001b[0;34m[\u001b[0m\u001b[0;34m'search_by_raw_query'\u001b[0m\u001b[0;34m]\u001b[0m\u001b[0;34m[\u001b[0m\u001b[0;34m'search_timeline'\u001b[0m\u001b[0;34m]\u001b[0m\u001b[0;34m[\u001b[0m\u001b[0;34m'timeline'\u001b[0m\u001b[0;34m]\u001b[0m\u001b[0;34m[\u001b[0m\u001b[0;34m'instructions'\u001b[0m\u001b[0;34m]\u001b[0m\u001b[0;34m)\u001b[0m\u001b[0;34m\u001b[0m\u001b[0;34m\u001b[0m\u001b[0m\n\u001b[1;32m   1765\u001b[0m \u001b[0;34m\u001b[0m\u001b[0m\n",
            "\u001b[0;32m/usr/local/lib/python3.10/dist-packages/snscrape/modules/twitter.py\u001b[0m in \u001b[0;36m_iter_api_data\u001b[0;34m(self, endpoint, apiType, params, paginationParams, cursor, direction, instructionsPath)\u001b[0m\n\u001b[1;32m    913\u001b[0m                 \u001b[0;32mwhile\u001b[0m \u001b[0;32mTrue\u001b[0m\u001b[0;34m:\u001b[0m\u001b[0;34m\u001b[0m\u001b[0;34m\u001b[0m\u001b[0m\n\u001b[1;32m    914\u001b[0m                         \u001b[0m_logger\u001b[0m\u001b[0;34m.\u001b[0m\u001b[0minfo\u001b[0m\u001b[0;34m(\u001b[0m\u001b[0;34mf'Retrieving scroll page {cursor}'\u001b[0m\u001b[0;34m)\u001b[0m\u001b[0;34m\u001b[0m\u001b[0;34m\u001b[0m\u001b[0m\n\u001b[0;32m--> 915\u001b[0;31m                         \u001b[0mobj\u001b[0m \u001b[0;34m=\u001b[0m \u001b[0mself\u001b[0m\u001b[0;34m.\u001b[0m\u001b[0m_get_api_data\u001b[0m\u001b[0;34m(\u001b[0m\u001b[0mendpoint\u001b[0m\u001b[0;34m,\u001b[0m \u001b[0mapiType\u001b[0m\u001b[0;34m,\u001b[0m \u001b[0mreqParams\u001b[0m\u001b[0;34m,\u001b[0m \u001b[0minstructionsPath\u001b[0m \u001b[0;34m=\u001b[0m \u001b[0minstructionsPath\u001b[0m\u001b[0;34m)\u001b[0m\u001b[0;34m\u001b[0m\u001b[0;34m\u001b[0m\u001b[0m\n\u001b[0m\u001b[1;32m    916\u001b[0m                         \u001b[0;32myield\u001b[0m \u001b[0mobj\u001b[0m\u001b[0;34m\u001b[0m\u001b[0;34m\u001b[0m\u001b[0m\n\u001b[1;32m    917\u001b[0m \u001b[0;34m\u001b[0m\u001b[0m\n",
            "\u001b[0;32m/usr/local/lib/python3.10/dist-packages/snscrape/modules/twitter.py\u001b[0m in \u001b[0;36m_get_api_data\u001b[0;34m(self, endpoint, apiType, params, instructionsPath)\u001b[0m\n\u001b[1;32m    881\u001b[0m \u001b[0;34m\u001b[0m\u001b[0m\n\u001b[1;32m    882\u001b[0m         \u001b[0;32mdef\u001b[0m \u001b[0m_get_api_data\u001b[0m\u001b[0;34m(\u001b[0m\u001b[0mself\u001b[0m\u001b[0;34m,\u001b[0m \u001b[0mendpoint\u001b[0m\u001b[0;34m,\u001b[0m \u001b[0mapiType\u001b[0m\u001b[0;34m,\u001b[0m \u001b[0mparams\u001b[0m\u001b[0;34m,\u001b[0m \u001b[0minstructionsPath\u001b[0m \u001b[0;34m=\u001b[0m \u001b[0;32mNone\u001b[0m\u001b[0;34m)\u001b[0m\u001b[0;34m:\u001b[0m\u001b[0;34m\u001b[0m\u001b[0;34m\u001b[0m\u001b[0m\n\u001b[0;32m--> 883\u001b[0;31m                 \u001b[0mself\u001b[0m\u001b[0;34m.\u001b[0m\u001b[0m_ensure_guest_token\u001b[0m\u001b[0;34m(\u001b[0m\u001b[0;34m)\u001b[0m\u001b[0;34m\u001b[0m\u001b[0;34m\u001b[0m\u001b[0m\n\u001b[0m\u001b[1;32m    884\u001b[0m                 \u001b[0;32mif\u001b[0m \u001b[0mapiType\u001b[0m \u001b[0;32mis\u001b[0m \u001b[0m_TwitterAPIType\u001b[0m\u001b[0;34m.\u001b[0m\u001b[0mGRAPHQL\u001b[0m\u001b[0;34m:\u001b[0m\u001b[0;34m\u001b[0m\u001b[0;34m\u001b[0m\u001b[0m\n\u001b[1;32m    885\u001b[0m                         \u001b[0mparams\u001b[0m \u001b[0;34m=\u001b[0m \u001b[0murllib\u001b[0m\u001b[0;34m.\u001b[0m\u001b[0mparse\u001b[0m\u001b[0;34m.\u001b[0m\u001b[0murlencode\u001b[0m\u001b[0;34m(\u001b[0m\u001b[0;34m{\u001b[0m\u001b[0mk\u001b[0m\u001b[0;34m:\u001b[0m \u001b[0mjson\u001b[0m\u001b[0;34m.\u001b[0m\u001b[0mdumps\u001b[0m\u001b[0;34m(\u001b[0m\u001b[0mv\u001b[0m\u001b[0;34m,\u001b[0m \u001b[0mseparators\u001b[0m \u001b[0;34m=\u001b[0m \u001b[0;34m(\u001b[0m\u001b[0;34m','\u001b[0m\u001b[0;34m,\u001b[0m \u001b[0;34m':'\u001b[0m\u001b[0;34m)\u001b[0m\u001b[0;34m)\u001b[0m \u001b[0;32mfor\u001b[0m \u001b[0mk\u001b[0m\u001b[0;34m,\u001b[0m \u001b[0mv\u001b[0m \u001b[0;32min\u001b[0m \u001b[0mparams\u001b[0m\u001b[0;34m.\u001b[0m\u001b[0mitems\u001b[0m\u001b[0;34m(\u001b[0m\u001b[0;34m)\u001b[0m\u001b[0;34m}\u001b[0m\u001b[0;34m,\u001b[0m \u001b[0mquote_via\u001b[0m \u001b[0;34m=\u001b[0m \u001b[0murllib\u001b[0m\u001b[0;34m.\u001b[0m\u001b[0mparse\u001b[0m\u001b[0;34m.\u001b[0m\u001b[0mquote\u001b[0m\u001b[0;34m)\u001b[0m\u001b[0;34m\u001b[0m\u001b[0;34m\u001b[0m\u001b[0m\n",
            "\u001b[0;32m/usr/local/lib/python3.10/dist-packages/snscrape/modules/twitter.py\u001b[0m in \u001b[0;36m_ensure_guest_token\u001b[0;34m(self, url)\u001b[0m\n\u001b[1;32m    823\u001b[0m                 \u001b[0;32mif\u001b[0m \u001b[0mself\u001b[0m\u001b[0;34m.\u001b[0m\u001b[0m_guestTokenManager\u001b[0m\u001b[0;34m.\u001b[0m\u001b[0mtoken\u001b[0m \u001b[0;32mis\u001b[0m \u001b[0;32mNone\u001b[0m\u001b[0;34m:\u001b[0m\u001b[0;34m\u001b[0m\u001b[0;34m\u001b[0m\u001b[0m\n\u001b[1;32m    824\u001b[0m                         \u001b[0m_logger\u001b[0m\u001b[0;34m.\u001b[0m\u001b[0minfo\u001b[0m\u001b[0;34m(\u001b[0m\u001b[0;34m'Retrieving guest token'\u001b[0m\u001b[0;34m)\u001b[0m\u001b[0;34m\u001b[0m\u001b[0;34m\u001b[0m\u001b[0m\n\u001b[0;32m--> 825\u001b[0;31m                         \u001b[0mr\u001b[0m \u001b[0;34m=\u001b[0m \u001b[0mself\u001b[0m\u001b[0;34m.\u001b[0m\u001b[0m_get\u001b[0m\u001b[0;34m(\u001b[0m\u001b[0mself\u001b[0m\u001b[0;34m.\u001b[0m\u001b[0m_baseUrl\u001b[0m \u001b[0;32mif\u001b[0m \u001b[0murl\u001b[0m \u001b[0;32mis\u001b[0m \u001b[0;32mNone\u001b[0m \u001b[0;32melse\u001b[0m \u001b[0murl\u001b[0m\u001b[0;34m,\u001b[0m \u001b[0mresponseOkCallback\u001b[0m \u001b[0;34m=\u001b[0m \u001b[0mself\u001b[0m\u001b[0;34m.\u001b[0m\u001b[0m_check_guest_token_response\u001b[0m\u001b[0;34m)\u001b[0m\u001b[0;34m\u001b[0m\u001b[0;34m\u001b[0m\u001b[0m\n\u001b[0m\u001b[1;32m    826\u001b[0m                         \u001b[0;32mif\u001b[0m \u001b[0;34m(\u001b[0m\u001b[0mmatch\u001b[0m \u001b[0;34m:=\u001b[0m \u001b[0mre\u001b[0m\u001b[0;34m.\u001b[0m\u001b[0msearch\u001b[0m\u001b[0;34m(\u001b[0m\u001b[0;34mr'document\\.cookie = decodeURIComponent\\(\"gt=(\\d+); Max-Age=10800; Domain=\\.twitter\\.com; Path=/; Secure\"\\);'\u001b[0m\u001b[0;34m,\u001b[0m \u001b[0mr\u001b[0m\u001b[0;34m.\u001b[0m\u001b[0mtext\u001b[0m\u001b[0;34m)\u001b[0m\u001b[0;34m)\u001b[0m\u001b[0;34m:\u001b[0m\u001b[0;34m\u001b[0m\u001b[0;34m\u001b[0m\u001b[0m\n\u001b[1;32m    827\u001b[0m                                 \u001b[0m_logger\u001b[0m\u001b[0;34m.\u001b[0m\u001b[0mdebug\u001b[0m\u001b[0;34m(\u001b[0m\u001b[0;34m'Found guest token in HTML'\u001b[0m\u001b[0;34m)\u001b[0m\u001b[0;34m\u001b[0m\u001b[0;34m\u001b[0m\u001b[0m\n",
            "\u001b[0;32m/usr/local/lib/python3.10/dist-packages/snscrape/base.py\u001b[0m in \u001b[0;36m_get\u001b[0;34m(self, *args, **kwargs)\u001b[0m\n\u001b[1;32m    273\u001b[0m \u001b[0;34m\u001b[0m\u001b[0m\n\u001b[1;32m    274\u001b[0m         \u001b[0;32mdef\u001b[0m \u001b[0m_get\u001b[0m\u001b[0;34m(\u001b[0m\u001b[0mself\u001b[0m\u001b[0;34m,\u001b[0m \u001b[0;34m*\u001b[0m\u001b[0margs\u001b[0m\u001b[0;34m,\u001b[0m \u001b[0;34m**\u001b[0m\u001b[0mkwargs\u001b[0m\u001b[0;34m)\u001b[0m\u001b[0;34m:\u001b[0m\u001b[0;34m\u001b[0m\u001b[0;34m\u001b[0m\u001b[0m\n\u001b[0;32m--> 275\u001b[0;31m                 \u001b[0;32mreturn\u001b[0m \u001b[0mself\u001b[0m\u001b[0;34m.\u001b[0m\u001b[0m_request\u001b[0m\u001b[0;34m(\u001b[0m\u001b[0;34m'GET'\u001b[0m\u001b[0;34m,\u001b[0m \u001b[0;34m*\u001b[0m\u001b[0margs\u001b[0m\u001b[0;34m,\u001b[0m \u001b[0;34m**\u001b[0m\u001b[0mkwargs\u001b[0m\u001b[0;34m)\u001b[0m\u001b[0;34m\u001b[0m\u001b[0;34m\u001b[0m\u001b[0m\n\u001b[0m\u001b[1;32m    276\u001b[0m \u001b[0;34m\u001b[0m\u001b[0m\n\u001b[1;32m    277\u001b[0m         \u001b[0;32mdef\u001b[0m \u001b[0m_post\u001b[0m\u001b[0;34m(\u001b[0m\u001b[0mself\u001b[0m\u001b[0;34m,\u001b[0m \u001b[0;34m*\u001b[0m\u001b[0margs\u001b[0m\u001b[0;34m,\u001b[0m \u001b[0;34m**\u001b[0m\u001b[0mkwargs\u001b[0m\u001b[0;34m)\u001b[0m\u001b[0;34m:\u001b[0m\u001b[0;34m\u001b[0m\u001b[0;34m\u001b[0m\u001b[0m\n",
            "\u001b[0;32m/usr/local/lib/python3.10/dist-packages/snscrape/base.py\u001b[0m in \u001b[0;36m_request\u001b[0;34m(self, method, url, params, data, headers, timeout, responseOkCallback, allowRedirects, proxies)\u001b[0m\n\u001b[1;32m    269\u001b[0m                         \u001b[0m_logger\u001b[0m\u001b[0;34m.\u001b[0m\u001b[0mfatal\u001b[0m\u001b[0;34m(\u001b[0m\u001b[0mmsg\u001b[0m\u001b[0;34m)\u001b[0m\u001b[0;34m\u001b[0m\u001b[0;34m\u001b[0m\u001b[0m\n\u001b[1;32m    270\u001b[0m                         \u001b[0m_logger\u001b[0m\u001b[0;34m.\u001b[0m\u001b[0mfatal\u001b[0m\u001b[0;34m(\u001b[0m\u001b[0;34mf'Errors: {\", \".join(errors)}'\u001b[0m\u001b[0;34m)\u001b[0m\u001b[0;34m\u001b[0m\u001b[0;34m\u001b[0m\u001b[0m\n\u001b[0;32m--> 271\u001b[0;31m                         \u001b[0;32mraise\u001b[0m \u001b[0mScraperException\u001b[0m\u001b[0;34m(\u001b[0m\u001b[0mmsg\u001b[0m\u001b[0;34m)\u001b[0m\u001b[0;34m\u001b[0m\u001b[0;34m\u001b[0m\u001b[0m\n\u001b[0m\u001b[1;32m    272\u001b[0m                 \u001b[0;32mraise\u001b[0m \u001b[0mRuntimeError\u001b[0m\u001b[0;34m(\u001b[0m\u001b[0;34m'Reached unreachable code'\u001b[0m\u001b[0;34m)\u001b[0m\u001b[0;34m\u001b[0m\u001b[0;34m\u001b[0m\u001b[0m\n\u001b[1;32m    273\u001b[0m \u001b[0;34m\u001b[0m\u001b[0m\n",
            "\u001b[0;31mScraperException\u001b[0m: 4 requests to https://twitter.com/search?f=live&lang=en&q=Apple+OR+AAPL+lang%3Aen&src=spelling_expansion_revert_click failed, giving up."
          ]
        }
      ]
    },
    {
      "cell_type": "code",
      "source": [
        "# Téléchargement du fichier CSV contenant les données des articles\n",
        "uploaded = files.upload()"
      ],
      "metadata": {
        "id": "BIArZ_D6Hy9L",
        "outputId": "07e59309-d1e1-4c42-891a-886a98e23cd8",
        "colab": {
          "base_uri": "https://localhost:8080/",
          "height": 73
        }
      },
      "execution_count": 82,
      "outputs": [
        {
          "output_type": "display_data",
          "data": {
            "text/plain": [
              "<IPython.core.display.HTML object>"
            ],
            "text/html": [
              "\n",
              "     <input type=\"file\" id=\"files-071d4ec3-cd15-44bc-8f49-71bd42ab3f1d\" name=\"files[]\" multiple disabled\n",
              "        style=\"border:none\" />\n",
              "     <output id=\"result-071d4ec3-cd15-44bc-8f49-71bd42ab3f1d\">\n",
              "      Upload widget is only available when the cell has been executed in the\n",
              "      current browser session. Please rerun this cell to enable.\n",
              "      </output>\n",
              "      <script>// Copyright 2017 Google LLC\n",
              "//\n",
              "// Licensed under the Apache License, Version 2.0 (the \"License\");\n",
              "// you may not use this file except in compliance with the License.\n",
              "// You may obtain a copy of the License at\n",
              "//\n",
              "//      http://www.apache.org/licenses/LICENSE-2.0\n",
              "//\n",
              "// Unless required by applicable law or agreed to in writing, software\n",
              "// distributed under the License is distributed on an \"AS IS\" BASIS,\n",
              "// WITHOUT WARRANTIES OR CONDITIONS OF ANY KIND, either express or implied.\n",
              "// See the License for the specific language governing permissions and\n",
              "// limitations under the License.\n",
              "\n",
              "/**\n",
              " * @fileoverview Helpers for google.colab Python module.\n",
              " */\n",
              "(function(scope) {\n",
              "function span(text, styleAttributes = {}) {\n",
              "  const element = document.createElement('span');\n",
              "  element.textContent = text;\n",
              "  for (const key of Object.keys(styleAttributes)) {\n",
              "    element.style[key] = styleAttributes[key];\n",
              "  }\n",
              "  return element;\n",
              "}\n",
              "\n",
              "// Max number of bytes which will be uploaded at a time.\n",
              "const MAX_PAYLOAD_SIZE = 100 * 1024;\n",
              "\n",
              "function _uploadFiles(inputId, outputId) {\n",
              "  const steps = uploadFilesStep(inputId, outputId);\n",
              "  const outputElement = document.getElementById(outputId);\n",
              "  // Cache steps on the outputElement to make it available for the next call\n",
              "  // to uploadFilesContinue from Python.\n",
              "  outputElement.steps = steps;\n",
              "\n",
              "  return _uploadFilesContinue(outputId);\n",
              "}\n",
              "\n",
              "// This is roughly an async generator (not supported in the browser yet),\n",
              "// where there are multiple asynchronous steps and the Python side is going\n",
              "// to poll for completion of each step.\n",
              "// This uses a Promise to block the python side on completion of each step,\n",
              "// then passes the result of the previous step as the input to the next step.\n",
              "function _uploadFilesContinue(outputId) {\n",
              "  const outputElement = document.getElementById(outputId);\n",
              "  const steps = outputElement.steps;\n",
              "\n",
              "  const next = steps.next(outputElement.lastPromiseValue);\n",
              "  return Promise.resolve(next.value.promise).then((value) => {\n",
              "    // Cache the last promise value to make it available to the next\n",
              "    // step of the generator.\n",
              "    outputElement.lastPromiseValue = value;\n",
              "    return next.value.response;\n",
              "  });\n",
              "}\n",
              "\n",
              "/**\n",
              " * Generator function which is called between each async step of the upload\n",
              " * process.\n",
              " * @param {string} inputId Element ID of the input file picker element.\n",
              " * @param {string} outputId Element ID of the output display.\n",
              " * @return {!Iterable<!Object>} Iterable of next steps.\n",
              " */\n",
              "function* uploadFilesStep(inputId, outputId) {\n",
              "  const inputElement = document.getElementById(inputId);\n",
              "  inputElement.disabled = false;\n",
              "\n",
              "  const outputElement = document.getElementById(outputId);\n",
              "  outputElement.innerHTML = '';\n",
              "\n",
              "  const pickedPromise = new Promise((resolve) => {\n",
              "    inputElement.addEventListener('change', (e) => {\n",
              "      resolve(e.target.files);\n",
              "    });\n",
              "  });\n",
              "\n",
              "  const cancel = document.createElement('button');\n",
              "  inputElement.parentElement.appendChild(cancel);\n",
              "  cancel.textContent = 'Cancel upload';\n",
              "  const cancelPromise = new Promise((resolve) => {\n",
              "    cancel.onclick = () => {\n",
              "      resolve(null);\n",
              "    };\n",
              "  });\n",
              "\n",
              "  // Wait for the user to pick the files.\n",
              "  const files = yield {\n",
              "    promise: Promise.race([pickedPromise, cancelPromise]),\n",
              "    response: {\n",
              "      action: 'starting',\n",
              "    }\n",
              "  };\n",
              "\n",
              "  cancel.remove();\n",
              "\n",
              "  // Disable the input element since further picks are not allowed.\n",
              "  inputElement.disabled = true;\n",
              "\n",
              "  if (!files) {\n",
              "    return {\n",
              "      response: {\n",
              "        action: 'complete',\n",
              "      }\n",
              "    };\n",
              "  }\n",
              "\n",
              "  for (const file of files) {\n",
              "    const li = document.createElement('li');\n",
              "    li.append(span(file.name, {fontWeight: 'bold'}));\n",
              "    li.append(span(\n",
              "        `(${file.type || 'n/a'}) - ${file.size} bytes, ` +\n",
              "        `last modified: ${\n",
              "            file.lastModifiedDate ? file.lastModifiedDate.toLocaleDateString() :\n",
              "                                    'n/a'} - `));\n",
              "    const percent = span('0% done');\n",
              "    li.appendChild(percent);\n",
              "\n",
              "    outputElement.appendChild(li);\n",
              "\n",
              "    const fileDataPromise = new Promise((resolve) => {\n",
              "      const reader = new FileReader();\n",
              "      reader.onload = (e) => {\n",
              "        resolve(e.target.result);\n",
              "      };\n",
              "      reader.readAsArrayBuffer(file);\n",
              "    });\n",
              "    // Wait for the data to be ready.\n",
              "    let fileData = yield {\n",
              "      promise: fileDataPromise,\n",
              "      response: {\n",
              "        action: 'continue',\n",
              "      }\n",
              "    };\n",
              "\n",
              "    // Use a chunked sending to avoid message size limits. See b/62115660.\n",
              "    let position = 0;\n",
              "    do {\n",
              "      const length = Math.min(fileData.byteLength - position, MAX_PAYLOAD_SIZE);\n",
              "      const chunk = new Uint8Array(fileData, position, length);\n",
              "      position += length;\n",
              "\n",
              "      const base64 = btoa(String.fromCharCode.apply(null, chunk));\n",
              "      yield {\n",
              "        response: {\n",
              "          action: 'append',\n",
              "          file: file.name,\n",
              "          data: base64,\n",
              "        },\n",
              "      };\n",
              "\n",
              "      let percentDone = fileData.byteLength === 0 ?\n",
              "          100 :\n",
              "          Math.round((position / fileData.byteLength) * 100);\n",
              "      percent.textContent = `${percentDone}% done`;\n",
              "\n",
              "    } while (position < fileData.byteLength);\n",
              "  }\n",
              "\n",
              "  // All done.\n",
              "  yield {\n",
              "    response: {\n",
              "      action: 'complete',\n",
              "    }\n",
              "  };\n",
              "}\n",
              "\n",
              "scope.google = scope.google || {};\n",
              "scope.google.colab = scope.google.colab || {};\n",
              "scope.google.colab._files = {\n",
              "  _uploadFiles,\n",
              "  _uploadFilesContinue,\n",
              "};\n",
              "})(self);\n",
              "</script> "
            ]
          },
          "metadata": {}
        },
        {
          "output_type": "stream",
          "name": "stdout",
          "text": [
            "Saving tesla_news.csv to tesla_news (1).csv\n"
          ]
        }
      ]
    },
    {
      "cell_type": "code",
      "execution_count": 83,
      "metadata": {
        "colab": {
          "base_uri": "https://localhost:8080/"
        },
        "id": "GS84vR8KGKNV",
        "outputId": "d521a954-189e-4f4e-d22b-33fd40c99a55"
      },
      "outputs": [
        {
          "output_type": "stream",
          "name": "stdout",
          "text": [
            "                                               title publishedAt sentiment\n",
            "0  Tesla police cruiser, Trump voters love solar,...  2024-11-07  Positive\n",
            "1  Dow Jones Surges On Trump Win. What To Do As S...  2024-11-07  Positive\n",
            "2  Trump Lackey Elon Musk's Biggest Controversies...  2024-11-07  Negative\n",
            "3  How Elon Musk’s $130 million investment in Tru...  2024-11-07  Positive\n",
            "4                                          [Removed]  2024-11-07   Neutral\n",
            "<class 'pandas.core.frame.DataFrame'>\n",
            "RangeIndex: 4381 entries, 0 to 4380\n",
            "Data columns (total 3 columns):\n",
            " #   Column       Non-Null Count  Dtype \n",
            "---  ------       --------------  ----- \n",
            " 0   title        4380 non-null   object\n",
            " 1   publishedAt  4381 non-null   object\n",
            " 2   sentiment    4381 non-null   object\n",
            "dtypes: object(3)\n",
            "memory usage: 102.8+ KB\n",
            "None\n"
          ]
        }
      ],
      "source": [
        "# Chargement des données avec pandas\n",
        "file_path = \"tesla_news.csv\"  # Chemin du fichier CSV\n",
        "\n",
        "# Lecture du fichier CSV\n",
        "df = pd.read_csv(file_path)\n",
        "\n",
        "# Aperçu des premières lignes des données et vérification de la structure\n",
        "print(df.head())  # Affiche les 5 premières lignes\n",
        "print(df.info())  # Donne des informations sur le type des colonnes et les valeurs manquantes"
      ]
    },
    {
      "cell_type": "markdown",
      "source": [
        "Les colonnes contiennent :\n",
        "- **title** : le titre de l'article, texte non structué.\n",
        "- **publishedAt** : la date de publication, au format objet.\n",
        "- **sentiment** : sentiment associé (Positive, Neutral, Negative).\n"
      ],
      "metadata": {
        "id": "he2Q3n6cLodq"
      }
    },
    {
      "cell_type": "code",
      "source": [
        "# Récupération des données historiques pour l'action Tesla\n",
        "tesla = yf.Ticker(\"TSLA\")\n",
        "stock_data = tesla.history(start=\"2024-11-07\", end=\"2024-12-06\")\n",
        "\n",
        "# Filtrage pour ne garder que le prix de clôture\n",
        "stock_data = stock_data[[\"Close\"]]\n",
        "stock_data.reset_index(inplace=True)\n",
        "stock_data.rename(columns={\"Date\": \"publishedAt\", \"Close\": \"stock_price\"}, inplace=True)\n",
        "print(stock_data.head())"
      ],
      "metadata": {
        "id": "Zquyuq5EKtNv",
        "outputId": "2fdb7f20-13f8-45b5-ebe0-28730c44893d",
        "colab": {
          "base_uri": "https://localhost:8080/"
        }
      },
      "execution_count": 85,
      "outputs": [
        {
          "output_type": "stream",
          "name": "stdout",
          "text": [
            "                publishedAt  stock_price\n",
            "0 2024-11-07 00:00:00-05:00   296.910004\n",
            "1 2024-11-08 00:00:00-05:00   321.220001\n",
            "2 2024-11-11 00:00:00-05:00   350.000000\n",
            "3 2024-11-12 00:00:00-05:00   328.489990\n",
            "4 2024-11-13 00:00:00-05:00   330.239990\n"
          ]
        }
      ]
    },
    {
      "cell_type": "markdown",
      "source": [
        "La plage de dates du 7 novembre 2024 au 6 décembre 2024 a été choisie car elle correspond à la période de publication des articles dans le fichier « tesla_news.csv ».\n"
      ],
      "metadata": {
        "id": "F-3gqoCxL2iF"
      }
    },
    {
      "cell_type": "code",
      "source": [
        "# Conversion des dates pour aligner les deux datasets\n",
        "df['publishedAt'] = pd.to_datetime(df['publishedAt']).dt.tz_localize(None)\n",
        "stock_data['publishedAt'] = pd.to_datetime(stock_data['publishedAt']).dt.tz_localize(None)\n",
        "\n",
        "print(df['publishedAt'].dtype)\n",
        "print(stock_data['publishedAt'].dtype)\n",
        "\n",
        "# Fusion des deux jeux de données sur la colonne \"publishedAt\"\n",
        "merged_data = pd.merge(df, stock_data, on='publishedAt', how='inner')\n",
        "print(merged_data.head())"
      ],
      "metadata": {
        "id": "4dPzRq8ALLl9",
        "outputId": "9ddaf6a3-3450-4cd9-fd54-bbf2168ae691",
        "colab": {
          "base_uri": "https://localhost:8080/"
        }
      },
      "execution_count": 86,
      "outputs": [
        {
          "output_type": "stream",
          "name": "stdout",
          "text": [
            "datetime64[ns]\n",
            "datetime64[ns]\n",
            "                                               title publishedAt sentiment  \\\n",
            "0  Tesla police cruiser, Trump voters love solar,...  2024-11-07  Positive   \n",
            "1  Dow Jones Surges On Trump Win. What To Do As S...  2024-11-07  Positive   \n",
            "2  Trump Lackey Elon Musk's Biggest Controversies...  2024-11-07  Negative   \n",
            "3  How Elon Musk’s $130 million investment in Tru...  2024-11-07  Positive   \n",
            "4                                          [Removed]  2024-11-07   Neutral   \n",
            "\n",
            "   stock_price  \n",
            "0   296.910004  \n",
            "1   296.910004  \n",
            "2   296.910004  \n",
            "3   296.910004  \n",
            "4   296.910004  \n"
          ]
        }
      ]
    },
    {
      "cell_type": "markdown",
      "source": [
        "La méthode \"inner\" est utilisée pour ne conserver que les lignes où les dates sont présentes dans les deux jeux de données. Cela garantit une correspondance stricte entre les sentiments et les prix des actions disponibles, réduisant le bruit potentiel dans l'analyse.\n"
      ],
      "metadata": {
        "id": "VObjtMZgMGiU"
      }
    },
    {
      "cell_type": "code",
      "source": [
        "# Encodage des sentiments pour qu'ils soient utilisables par les modèles\n",
        "sentiment_map = {'Positive': 1, 'Neutral': 0, 'Negative': -1}\n",
        "merged_data['sentiment'] = merged_data['sentiment'].map(sentiment_map)\n",
        "\n",
        "# Séparation des données en variables explicatives (X) et variable cible (y)\n",
        "from sklearn.model_selection import train_test_split\n",
        "\n",
        "X = merged_data[['sentiment']]  # Variable explicative\n",
        "y = merged_data['stock_price']  # Variable cible\n",
        "X_train, X_test, y_train, y_test = train_test_split(X, y, test_size=0.2, random_state=42)\n",
        "\n",
        "print(merged_data.head())"
      ],
      "metadata": {
        "id": "O9iNR8zPLUJZ",
        "colab": {
          "base_uri": "https://localhost:8080/"
        },
        "outputId": "f8734d40-4c14-46d7-b81a-30320fd6f985"
      },
      "execution_count": 87,
      "outputs": [
        {
          "output_type": "stream",
          "name": "stdout",
          "text": [
            "                                               title publishedAt  sentiment  \\\n",
            "0  Tesla police cruiser, Trump voters love solar,...  2024-11-07        1.0   \n",
            "1  Dow Jones Surges On Trump Win. What To Do As S...  2024-11-07        1.0   \n",
            "2  Trump Lackey Elon Musk's Biggest Controversies...  2024-11-07       -1.0   \n",
            "3  How Elon Musk’s $130 million investment in Tru...  2024-11-07        1.0   \n",
            "4                                          [Removed]  2024-11-07        0.0   \n",
            "\n",
            "   stock_price  \n",
            "0   296.910004  \n",
            "1   296.910004  \n",
            "2   296.910004  \n",
            "3   296.910004  \n",
            "4   296.910004  \n"
          ]
        }
      ]
    },
    {
      "cell_type": "code",
      "source": [
        "print(merged_data['sentiment'].unique())"
      ],
      "metadata": {
        "colab": {
          "base_uri": "https://localhost:8080/"
        },
        "id": "6EwFQYDHJLGI",
        "outputId": "69f02901-a79f-43e3-88c8-14b899884783"
      },
      "execution_count": 88,
      "outputs": [
        {
          "output_type": "stream",
          "name": "stdout",
          "text": [
            "[ 1. -1.  0. nan]\n"
          ]
        }
      ]
    },
    {
      "cell_type": "code",
      "source": [
        "# Vérification des valeurs manquantes dans X_test\n",
        "print(X_test.isnull().sum())  # Compte des NaN par colonne\n",
        "print(X_test[X_test.isnull().any(axis=1)])  # Lignes contenant des NaN"
      ],
      "metadata": {
        "id": "wet_l88EOoB0",
        "outputId": "222a7e00-d6b8-4e5e-aaff-8974021007e6",
        "colab": {
          "base_uri": "https://localhost:8080/"
        }
      },
      "execution_count": 89,
      "outputs": [
        {
          "output_type": "stream",
          "name": "stdout",
          "text": [
            "sentiment    1\n",
            "dtype: int64\n",
            "     sentiment\n",
            "315        NaN\n"
          ]
        }
      ]
    },
    {
      "cell_type": "code",
      "source": [
        "X_test = X_test.dropna()\n",
        "y_test = y_test[X_test.index]  # Ajuster y_test pour correspondre aux indices mis à jour\n",
        "\n",
        "print(X_test.isnull().sum())"
      ],
      "metadata": {
        "id": "sLhe49VoPHB2",
        "colab": {
          "base_uri": "https://localhost:8080/"
        },
        "outputId": "089dd121-815f-455e-d2be-8eac9c9a7c50"
      },
      "execution_count": 90,
      "outputs": [
        {
          "output_type": "stream",
          "name": "stdout",
          "text": [
            "sentiment    0\n",
            "dtype: int64\n"
          ]
        }
      ]
    },
    {
      "cell_type": "code",
      "source": [
        "# Modélisation avec une régression linéaire\n",
        "from sklearn.linear_model import LinearRegression\n",
        "from sklearn.metrics import mean_squared_error, r2_score\n",
        "\n",
        "# Entraîner le modèle\n",
        "model = LinearRegression()\n",
        "model.fit(X_train, y_train)\n",
        "\n",
        "# Prédictions et évaluation\n",
        "y_pred = model.predict(X_test)\n",
        "mse = mean_squared_error(y_test, y_pred)\n",
        "r2 = r2_score(y_test, y_pred)\n",
        "print(f\"Mean Squared Error: {mse}\")\n",
        "print(f\"R^2 Score: {r2}\")"
      ],
      "metadata": {
        "id": "n2_mrtV9LVeb",
        "outputId": "75d85d5f-9346-49d8-dc9c-67b2e2d0d14c",
        "colab": {
          "base_uri": "https://localhost:8080/"
        }
      },
      "execution_count": 91,
      "outputs": [
        {
          "output_type": "stream",
          "name": "stdout",
          "text": [
            "Mean Squared Error: 292.4435299996879\n",
            "R^2 Score: -0.001134833974736127\n"
          ]
        }
      ]
    },
    {
      "cell_type": "markdown",
      "source": [
        "Le Mean Squared Error (MSE) représente la moyenne des carrés des erreurs entre les valeurs réelles et prédites. Il mesure l'écart moyen au carré entre les prédictions du modèle et les valeurs réelles. Plus le MSE est faible, meilleure est la qualité des prédictions. Ici il est très élevé ce qui nous indique que la prédiction est quasi inexistante.\n",
        "\n",
        "Le score R² est une mesure de la proportion de la variance dans la variable cible qui est expliquée par les variables explicatives. Un score faible (négatif ou proche de zéro) indique que le modèle explique très peu les variations des prix des actions Tesla en fonction des sentiments, ce qui suggère une faible prédictibilité basée uniquement sur ces données, ce qui est le cas ici.\n"
      ],
      "metadata": {
        "id": "mbObU7aUMhIG"
      }
    },
    {
      "cell_type": "code",
      "source": [
        "# Visualisation des prédictions vs valeurs réelles\n",
        "\n",
        "plt.scatter(y_test, y_pred)\n",
        "plt.xlabel(\"Valeurs réelles\")\n",
        "plt.ylabel(\"Prédictions\")\n",
        "plt.title(\"Relation entre les valeurs réelles et prédites\")\n",
        "plt.show()"
      ],
      "metadata": {
        "id": "M48_zysULW4R",
        "outputId": "a657a9ff-b380-4b07-ba0c-a9fb768f2770",
        "colab": {
          "base_uri": "https://localhost:8080/",
          "height": 472
        }
      },
      "execution_count": 92,
      "outputs": [
        {
          "output_type": "display_data",
          "data": {
            "text/plain": [
              "<Figure size 640x480 with 1 Axes>"
            ],
            "image/png": "[encoded data removed]"
          },
          "metadata": {}
        }
      ]
    },
    {
      "cell_type": "code",
      "source": [
        "# Modèle Random Forest\n",
        "# Entraîner un modèle Random Forest\n",
        "rf_model = RandomForestRegressor(random_state=42)\n",
        "rf_model.fit(X_train, y_train)\n",
        "\n",
        "# Prédictions et évaluation pour Random Forest\n",
        "y_pred_rf = rf_model.predict(X_test)\n",
        "mse_rf = mean_squared_error(y_test, y_pred_rf)\n",
        "r2_rf = r2_score(y_test, y_pred_rf)\n",
        "print(f\"Random Forest MSE: {mse_rf}\")\n",
        "print(f\"Random Forest R^2 Score: {r2_rf}\")"
      ],
      "metadata": {
        "colab": {
          "base_uri": "https://localhost:8080/"
        },
        "id": "mtCLmJNSBVUW",
        "outputId": "22c9a320-1eb3-4759-8866-73ff796bcb8f"
      },
      "execution_count": 93,
      "outputs": [
        {
          "output_type": "stream",
          "name": "stdout",
          "text": [
            "Random Forest MSE: 292.4204019931662\n",
            "Random Forest R^2 Score: -0.0010556588499890385\n"
          ]
        }
      ]
    },
    {
      "cell_type": "code",
      "source": [
        "# Ajouter sentiment et stock_price dans un DataFrame\n",
        "data_for_corr = merged_data[['sentiment', 'stock_price']]\n",
        "\n",
        "# Calcul de la corrélation\n",
        "correlation = data_for_corr.corr()\n",
        "print(correlation)"
      ],
      "metadata": {
        "colab": {
          "base_uri": "https://localhost:8080/"
        },
        "id": "mUabWWRqCMaN",
        "outputId": "3bcc744e-901b-440b-cba0-9bb58c45d004"
      },
      "execution_count": 94,
      "outputs": [
        {
          "output_type": "stream",
          "name": "stdout",
          "text": [
            "             sentiment  stock_price\n",
            "sentiment     1.000000    -0.025003\n",
            "stock_price  -0.025003     1.000000\n"
          ]
        }
      ]
    },
    {
      "cell_type": "markdown",
      "source": [
        "La corrélation mesure la relation linéaire entre deux variables. Une corrélation proche de 0 entre \"sentiment\" et \"stock_price\" indique qu'il n'y a pas de relation linéaire évidente entre ces deux variables. Cela suggère que les sentiments des articles n'influencent pas directement les prix des actions Tesla.\n",
        "\n",
        "Les variations de prix (différences entre les jours consécutifs) permettent d'analyser les changements quotidiens du prix de l'action Tesla, plutôt que les valeurs absolues. Cette approche peut révéler des relations subtiles entre les sentiments et les mouvements de marché qui ne seraient pas visibles dans une simple analyse des prix bruts.\n"
      ],
      "metadata": {
        "id": "6z95g3bzNixG"
      }
    },
    {
      "cell_type": "code",
      "source": [
        "# Calcul des variations de prix pour mieux comprendre l'impact des sentiments\n",
        "merged_data['price_change'] = merged_data['stock_price'].diff().fillna(0)\n",
        "\n",
        "# Corrélation entre sentiments et variations\n",
        "data_for_corr = merged_data[['sentiment', 'price_change']]\n",
        "correlation = data_for_corr.corr()\n",
        "print(correlation)"
      ],
      "metadata": {
        "colab": {
          "base_uri": "https://localhost:8080/"
        },
        "id": "JmknvGeYD4h6",
        "outputId": "d774e399-37f0-4861-d359-e43a7145a415"
      },
      "execution_count": 95,
      "outputs": [
        {
          "output_type": "stream",
          "name": "stdout",
          "text": [
            "              sentiment  price_change\n",
            "sentiment      1.000000      0.041904\n",
            "price_change   0.041904      1.000000\n"
          ]
        }
      ]
    },
    {
      "cell_type": "markdown",
      "source": [
        "La corrélation avec les variations est également très faible ce qui suggère qu'on ne peut pas utiliser la base de données tel quel.\n",
        "\n",
        "En filtrant les sentiments neutres, nous réduisons l'effet des données qui n'ont pas de contribution claire à la variabilité des prix des actions. Ce filtrage permet de se concentrer sur les relations entre les sentiments clairement positifs ou négatifs et les mouvements des prix, ce qui pourrait améliorer la corrélation et permettre une interprétation plus précise des résultats des modèles.\n"
      ],
      "metadata": {
        "id": "-FsOPxZtN8LQ"
      }
    },
    {
      "cell_type": "markdown",
      "source": [
        "### Vérification de la stratégie basée uniquement sur les sentiments positifs/négatifs"
      ],
      "metadata": {
        "id": "vuHVc9RgUQzS"
      }
    },
    {
      "cell_type": "code",
      "source": [
        "# Filtrage des articles neutres pour voir l'effet des sentiments positifs/négatifs\n",
        "filtered_data = merged_data[merged_data['sentiment'] != 0]\n",
        "\n",
        "# Vérifier les nouvelles dimensions des données\n",
        "print(\"Taille après filtrage :\", filtered_data.shape)\n",
        "print(filtered_data['sentiment'].value_counts())\n"
      ],
      "metadata": {
        "colab": {
          "base_uri": "https://localhost:8080/"
        },
        "id": "9Arcz69XEcD7",
        "outputId": "2f11d415-4937-41b1-d852-b0c66d2a4641"
      },
      "execution_count": 96,
      "outputs": [
        {
          "output_type": "stream",
          "name": "stdout",
          "text": [
            "Taille après filtrage : (1060, 5)\n",
            "sentiment\n",
            " 1.0    594\n",
            "-1.0    465\n",
            "Name: count, dtype: int64\n"
          ]
        }
      ]
    },
    {
      "cell_type": "code",
      "source": [
        "# Corrélation sur les données filtrées\n",
        "data_for_corr_filtered = filtered_data[['sentiment', 'stock_price']]\n",
        "correlation_filtered = data_for_corr_filtered.corr()\n",
        "print(correlation_filtered)\n"
      ],
      "metadata": {
        "colab": {
          "base_uri": "https://localhost:8080/"
        },
        "id": "rMHf77TYEfz4",
        "outputId": "86ab3f9b-3dfe-49a9-a013-9d789ea025c5"
      },
      "execution_count": 109,
      "outputs": [
        {
          "output_type": "stream",
          "name": "stdout",
          "text": [
            "             sentiment  stock_price\n",
            "sentiment     1.000000    -0.041215\n",
            "stock_price  -0.041215     1.000000\n"
          ]
        }
      ]
    },
    {
      "cell_type": "code",
      "source": [
        "# Redéfinir X et y\n",
        "X_filtered = filtered_data[['sentiment']]\n",
        "y_filtered = filtered_data['stock_price']\n",
        "\n",
        "from sklearn.model_selection import train_test_split\n",
        "X_filtered_train, X_filtered_test, y_filtered_train, y_filtered_test = train_test_split(X_filtered, y_filtered, test_size=0.2, random_state=42)\n",
        "\n",
        "print(\"Taille de X_filtered_train :\", X_filtered_train.shape)\n",
        "print(\"Taille de y_filtered_train :\", y_filtered_train.shape)\n"
      ],
      "metadata": {
        "colab": {
          "base_uri": "https://localhost:8080/"
        },
        "id": "ynhqf_0dEhDt",
        "outputId": "dac62349-32bc-45e7-edda-8ada0daaa473"
      },
      "execution_count": 98,
      "outputs": [
        {
          "output_type": "stream",
          "name": "stdout",
          "text": [
            "Taille de X_filtered_train : (848, 1)\n",
            "Taille de y_filtered_train : (848,)\n"
          ]
        }
      ]
    },
    {
      "cell_type": "code",
      "source": [
        "print(filtered_data['sentiment'].unique())"
      ],
      "metadata": {
        "colab": {
          "base_uri": "https://localhost:8080/"
        },
        "id": "4dQdX3m3FORV",
        "outputId": "a0a04e90-c279-4c47-e32b-60f1f55ab33c"
      },
      "execution_count": 99,
      "outputs": [
        {
          "output_type": "stream",
          "name": "stdout",
          "text": [
            "[ 1. -1. nan]\n"
          ]
        }
      ]
    },
    {
      "cell_type": "code",
      "source": [
        "X_filtered_train = X_filtered_train.dropna()\n",
        "y_filtered_train = y_filtered_train[X_filtered_train.index]  # Ajuster y_train pour correspondre à X_train\n",
        "print(X_filtered_train.isnull().sum())  # Doit afficher 0"
      ],
      "metadata": {
        "colab": {
          "base_uri": "https://localhost:8080/"
        },
        "id": "bAwS_nrWFU0G",
        "outputId": "f652f42b-cf75-46e9-c16d-5d6f806b05d1"
      },
      "execution_count": 100,
      "outputs": [
        {
          "output_type": "stream",
          "name": "stdout",
          "text": [
            "sentiment    0\n",
            "dtype: int64\n"
          ]
        }
      ]
    },
    {
      "cell_type": "code",
      "source": [
        "# Entraîner le modèle\n",
        "model = LinearRegression()\n",
        "model.fit(X_filtered_train, y_filtered_train)\n",
        "\n",
        "# Prédictions\n",
        "y_filtered_pred = model.predict(X_filtered_test)\n",
        "\n",
        "# Évaluation\n",
        "mse_filtered = mean_squared_error(y_filtered_test, y_filtered_pred)\n",
        "r2_filtered = r2_score(y_filtered_test, y_filtered_pred)\n",
        "\n",
        "print(f\"Mean Squared Error: {mse_filtered}\")\n",
        "print(f\"R^2 Score: {r2_filtered}\")\n"
      ],
      "metadata": {
        "colab": {
          "base_uri": "https://localhost:8080/"
        },
        "id": "omuP6rwFEkkJ",
        "outputId": "4a37e864-73a3-4427-a212-3d59fdd81de9"
      },
      "execution_count": 101,
      "outputs": [
        {
          "output_type": "stream",
          "name": "stdout",
          "text": [
            "Mean Squared Error: 353.237391344725\n",
            "R^2 Score: -0.013829281090233625\n"
          ]
        }
      ]
    },
    {
      "cell_type": "code",
      "source": [
        "# Comparaison des résultats avec et sans données neutres\n",
        "print(\"Résultats sans filtrage des données neutres :\")\n",
        "print(f\"Mean Squared Error: {mse}\")\n",
        "print(f\"R^2 Score: {r2}\")\n",
        "print(\"\\nRésultats avec filtrage des données neutres :\")\n",
        "print(f\"Filtered Mean Squared Error: {mse_filtered}\")\n",
        "print(f\"Filtered R^2 Score: {r2_filtered}\")"
      ],
      "metadata": {
        "colab": {
          "base_uri": "https://localhost:8080/"
        },
        "id": "AIbxePPzGbhs",
        "outputId": "df88751b-7ecd-4e6f-c689-71fea3bf5c13"
      },
      "execution_count": 102,
      "outputs": [
        {
          "output_type": "stream",
          "name": "stdout",
          "text": [
            "Résultats sans filtrage des données neutres :\n",
            "Mean Squared Error: 292.4435299996879\n",
            "R^2 Score: -0.001134833974736127\n",
            "\n",
            "Résultats avec filtrage des données neutres :\n",
            "Filtered Mean Squared Error: 353.237391344725\n",
            "Filtered R^2 Score: -0.013829281090233625\n"
          ]
        }
      ]
    },
    {
      "cell_type": "markdown",
      "source": [
        "Les résultats montrent que ni le filtrage des données neutres ni l'inclusion de toutes les données n'améliorent significativement les performances du modèle. Voici une interprétation et une orientation future :\n",
        "\n",
        "1. **Résultats observés** :\n",
        "   - Le score R² reste négatif ou proche de zéro dans les deux cas, indiquant que les sentiments extraits ne permettent pas d'expliquer ou de prédire efficacement les prix ou les variations de prix des actions Tesla.\n",
        "   - L'augmentation du MSE après le filtrage suggère que l'exclusion des sentiments neutres ne réduit pas l'erreur globale mais peut accentuer le bruit ou les écarts résiduels dans les prédictions.\n",
        "\n",
        "2. **Implications** :\n",
        "   - Ces résultats montrent une absence de relation claire entre les sentiments textuels et les prix des actions sur cette période donnée ou avec ce type de données.\n",
        "   - Il est probable que d'autres facteurs influencent les prix, tels que des données financières spécifiques, des événements économiques globaux ou des indicateurs techniques."
      ],
      "metadata": {
        "id": "MFL09B0APrtn"
      }
    },
    {
      "cell_type": "markdown",
      "source": [
        "### Vérification de la stratégie basée sur la moyenne par jour"
      ],
      "metadata": {
        "id": "cobCTrG1R6BW"
      }
    },
    {
      "cell_type": "code",
      "source": [
        "# Calcul de la moyenne des sentiments par jour\n",
        "daily_sentiment = filtered_data.groupby('publishedAt')['sentiment'].mean().reset_index()\n",
        "\n",
        "# Joindre avec les prix journaliers\n",
        "daily_data = pd.merge(daily_sentiment, merged_data[['publishedAt', 'stock_price']].drop_duplicates(), on='publishedAt', how='inner')\n",
        "\n",
        "# Vérifier les données\n",
        "print(daily_data.head())"
      ],
      "metadata": {
        "colab": {
          "base_uri": "https://localhost:8080/"
        },
        "id": "xY-W62_4SACo",
        "outputId": "60e6f186-a1ba-4fd7-91bd-f220873419fa"
      },
      "execution_count": 103,
      "outputs": [
        {
          "output_type": "stream",
          "name": "stdout",
          "text": [
            "  publishedAt  sentiment  stock_price\n",
            "0  2024-11-07   0.302326   296.910004\n",
            "1  2024-11-08   0.529412   321.220001\n",
            "2  2024-11-11   0.516129   350.000000\n",
            "3  2024-11-12   0.111111   328.489990\n",
            "4  2024-11-13   0.027778   330.239990\n"
          ]
        }
      ]
    },
    {
      "cell_type": "code",
      "source": [
        "# Calcul de la corrélation\n",
        "corr_daily = daily_data[['sentiment', 'stock_price']].corr()\n",
        "print(corr_daily)"
      ],
      "metadata": {
        "colab": {
          "base_uri": "https://localhost:8080/"
        },
        "id": "LwQJi8kISCRY",
        "outputId": "4f160beb-8776-444e-961b-0a65587b9a7c"
      },
      "execution_count": 104,
      "outputs": [
        {
          "output_type": "stream",
          "name": "stdout",
          "text": [
            "             sentiment  stock_price\n",
            "sentiment     1.000000    -0.068429\n",
            "stock_price  -0.068429     1.000000\n"
          ]
        }
      ]
    },
    {
      "cell_type": "code",
      "source": [
        "# Redéfinir X et y\n",
        "X_daily = daily_data[['sentiment']]\n",
        "y_daily = daily_data['stock_price']\n",
        "\n",
        "# Diviser les données\n",
        "X_train_daily, X_test_daily, y_train_daily, y_test_daily = train_test_split(X_daily, y_daily, test_size=0.2, random_state=42)\n",
        "\n",
        "# Entraîner un modèle de régression\n",
        "model_daily = LinearRegression()\n",
        "model_daily.fit(X_train_daily, y_train_daily)\n",
        "\n",
        "# Prédictions et évaluation\n",
        "y_pred_daily = model_daily.predict(X_test_daily)\n",
        "mse_daily = mean_squared_error(y_test_daily, y_pred_daily)\n",
        "r2_daily = r2_score(y_test_daily, y_pred_daily)\n",
        "\n",
        "print(f\"Mean Squared Error (Daily): {mse_daily}\")\n",
        "print(f\"R^2 Score (Daily): {r2_daily}\")"
      ],
      "metadata": {
        "colab": {
          "base_uri": "https://localhost:8080/"
        },
        "id": "VtTZjT0NSICv",
        "outputId": "d18783ab-e496-48a4-c498-990a2343972e"
      },
      "execution_count": 105,
      "outputs": [
        {
          "output_type": "stream",
          "name": "stdout",
          "text": [
            "Mean Squared Error (Daily): 814.2443143585264\n",
            "R^2 Score (Daily): -0.7570303743632436\n"
          ]
        }
      ]
    },
    {
      "cell_type": "markdown",
      "source": [
        "Le score R² reste négatif, cela confirme que la relation entre les sentiments des titres et les prix des actions est inexistante ou trop complexe pour être capturée par un simple modèle.\n",
        "\n",
        "De plus la corrélation reste faible après agrégation, cela pourrait signifier que les sentiments textuels ne suffisent pas à eux seuls pour expliquer les variations des prix."
      ],
      "metadata": {
        "id": "63OUQLwySyFq"
      }
    },
    {
      "cell_type": "markdown",
      "source": [
        "### Vérification de la stratégie en ajoutant le nombre d'articles positifs et négatifs par jour puis en incluant les neutres"
      ],
      "metadata": {
        "id": "DhhEDcWsUae5"
      }
    },
    {
      "cell_type": "code",
      "source": [
        "# Compter les articles positifs et négatifs par jour\n",
        "daily_sentiment_count = filtered_data.groupby('publishedAt')['sentiment'].value_counts().unstack(fill_value=0).reset_index()\n",
        "\n",
        "# Renommer les colonnes pour plus de clarté\n",
        "daily_sentiment_count.rename(columns={1.0: 'positive_count', -1.0: 'negative_count'}, inplace=True)\n",
        "\n",
        "# Vérifier les données\n",
        "print(daily_sentiment_count.head())"
      ],
      "metadata": {
        "colab": {
          "base_uri": "https://localhost:8080/"
        },
        "id": "LyePb_tmS6DG",
        "outputId": "f6db824e-278b-4209-e7fa-60363e5be142"
      },
      "execution_count": 106,
      "outputs": [
        {
          "output_type": "stream",
          "name": "stdout",
          "text": [
            "sentiment publishedAt  negative_count  positive_count\n",
            "0          2024-11-07              30              56\n",
            "1          2024-11-08              12              39\n",
            "2          2024-11-11              15              47\n",
            "3          2024-11-12              20              25\n",
            "4          2024-11-13              35              37\n"
          ]
        }
      ]
    },
    {
      "cell_type": "code",
      "source": [
        "# Joindre les comptes avec les prix des actions\n",
        "daily_data_enriched = pd.merge(daily_sentiment_count, merged_data[['publishedAt', 'stock_price']].drop_duplicates(), on='publishedAt', how='inner')\n",
        "\n",
        "# Vérifier les données\n",
        "print(daily_data_enriched.head())"
      ],
      "metadata": {
        "colab": {
          "base_uri": "https://localhost:8080/"
        },
        "id": "e-cAoA5PUnez",
        "outputId": "0cd8681f-619c-4402-863b-80fd6dad840c"
      },
      "execution_count": 107,
      "outputs": [
        {
          "output_type": "stream",
          "name": "stdout",
          "text": [
            "  publishedAt  negative_count  positive_count  stock_price\n",
            "0  2024-11-07              30              56   296.910004\n",
            "1  2024-11-08              12              39   321.220001\n",
            "2  2024-11-11              15              47   350.000000\n",
            "3  2024-11-12              20              25   328.489990\n",
            "4  2024-11-13              35              37   330.239990\n"
          ]
        }
      ]
    },
    {
      "cell_type": "code",
      "source": [
        "# Corrélation avec les nouvelles variables\n",
        "correlation_enriched = daily_data_enriched[['positive_count', 'negative_count', 'stock_price']].corr()\n",
        "print(correlation_enriched)"
      ],
      "metadata": {
        "colab": {
          "base_uri": "https://localhost:8080/"
        },
        "id": "3BJul8bYUqW8",
        "outputId": "789b1e49-170f-472d-cfcd-0d70a9599232"
      },
      "execution_count": 108,
      "outputs": [
        {
          "output_type": "stream",
          "name": "stdout",
          "text": [
            "                positive_count  negative_count  stock_price\n",
            "positive_count        1.000000        0.121827    -0.227880\n",
            "negative_count        0.121827        1.000000    -0.013309\n",
            "stock_price          -0.227880       -0.013309     1.000000\n"
          ]
        }
      ]
    },
    {
      "cell_type": "code",
      "source": [
        "# Redéfinir X et y\n",
        "X_enriched = daily_data_enriched[['positive_count', 'negative_count']]\n",
        "y_enriched = daily_data_enriched['stock_price']\n",
        "\n",
        "# Diviser les données en ensemble d'entraînement et de test\n",
        "X_train_enriched, X_test_enriched, y_train_enriched, y_test_enriched = train_test_split(X_enriched, y_enriched, test_size=0.2, random_state=42)\n",
        "\n",
        "# Entraîner un modèle de régression linéaire\n",
        "model_enriched = LinearRegression()\n",
        "model_enriched.fit(X_train_enriched, y_train_enriched)\n",
        "\n",
        "# Prédictions et évaluation\n",
        "y_pred_enriched = model_enriched.predict(X_test_enriched)\n",
        "mse_enriched = mean_squared_error(y_test_enriched, y_pred_enriched)\n",
        "r2_enriched = r2_score(y_test_enriched, y_pred_enriched)\n",
        "\n",
        "print(f\"Mean Squared Error (Enriched): {mse_enriched}\")\n",
        "print(f\"R^2 Score (Enriched): {r2_enriched}\")"
      ],
      "metadata": {
        "colab": {
          "base_uri": "https://localhost:8080/"
        },
        "id": "72LXS0OFU22c",
        "outputId": "bd7b680a-98f0-428c-e50a-cdb10c31ee6e"
      },
      "execution_count": 110,
      "outputs": [
        {
          "output_type": "stream",
          "name": "stdout",
          "text": [
            "Mean Squared Error (Enriched): 911.1878228351039\n",
            "R^2 Score (Enriched): -0.9662215053137593\n"
          ]
        }
      ]
    },
    {
      "cell_type": "code",
      "source": [
        "# Calcul des variations des prix\n",
        "daily_data_enriched['price_change'] = daily_data_enriched['stock_price'].diff().fillna(0)\n",
        "\n",
        "# Réutiliser le modèle pour prédire les variations\n",
        "X_price_change = daily_data_enriched[['positive_count', 'negative_count']]\n",
        "y_price_change = daily_data_enriched['price_change']\n",
        "\n",
        "X_train_change, X_test_change, y_train_change, y_test_change = train_test_split(X_price_change, y_price_change, test_size=0.2, random_state=42)\n",
        "\n",
        "# Modèle de régression\n",
        "model_change = LinearRegression()\n",
        "model_change.fit(X_train_change, y_train_change)\n",
        "\n",
        "# Évaluation\n",
        "y_pred_change = model_change.predict(X_test_change)\n",
        "mse_change = mean_squared_error(y_test_change, y_pred_change)\n",
        "r2_change = r2_score(y_test_change, y_pred_change)\n",
        "\n",
        "print(f\"Mean Squared Error (Change): {mse_change}\")\n",
        "print(f\"R^2 Score (Change): {r2_change}\")"
      ],
      "metadata": {
        "colab": {
          "base_uri": "https://localhost:8080/"
        },
        "id": "0BI9j4nIVWPg",
        "outputId": "70845ff8-c829-4aed-a590-e7bf2d19256b"
      },
      "execution_count": 111,
      "outputs": [
        {
          "output_type": "stream",
          "name": "stdout",
          "text": [
            "Mean Squared Error (Change): 237.38893462105057\n",
            "R^2 Score (Change): -0.7754671084567424\n"
          ]
        }
      ]
    },
    {
      "cell_type": "code",
      "source": [
        "# Compter les articles par sentiment par jour\n",
        "daily_sentiment_count_all = merged_data.groupby('publishedAt')['sentiment'].value_counts().unstack(fill_value=0).reset_index()\n",
        "\n",
        "# Renommer les colonnes pour plus de clarté\n",
        "daily_sentiment_count_all.rename(columns={1.0: 'positive_count', -1.0: 'negative_count', 0.0: 'neutral_count'}, inplace=True)\n",
        "\n",
        "# Vérifier les données\n",
        "print(daily_sentiment_count_all.head())"
      ],
      "metadata": {
        "colab": {
          "base_uri": "https://localhost:8080/"
        },
        "id": "r06SmoLrWCvm",
        "outputId": "07c8a71f-dc55-46bf-e7fd-a8e1df244880"
      },
      "execution_count": 112,
      "outputs": [
        {
          "output_type": "stream",
          "name": "stdout",
          "text": [
            "sentiment publishedAt  negative_count  neutral_count  positive_count\n",
            "0          2024-11-07              30            124              56\n",
            "1          2024-11-08              12            150              39\n",
            "2          2024-11-11              15             95              47\n",
            "3          2024-11-12              20            116              25\n",
            "4          2024-11-13              35            233              37\n"
          ]
        }
      ]
    },
    {
      "cell_type": "code",
      "source": [
        "# Joindre avec les prix journaliers\n",
        "daily_data_all_sentiments = pd.merge(\n",
        "    daily_sentiment_count_all,\n",
        "    merged_data[['publishedAt', 'stock_price']].drop_duplicates(),\n",
        "    on='publishedAt',\n",
        "    how='inner'\n",
        ")\n",
        "\n",
        "# Vérifier les données\n",
        "print(daily_data_all_sentiments.head())"
      ],
      "metadata": {
        "colab": {
          "base_uri": "https://localhost:8080/"
        },
        "id": "OmuTwnJEWFG_",
        "outputId": "ddc1190f-8569-4041-958c-d77de1d62493"
      },
      "execution_count": 113,
      "outputs": [
        {
          "output_type": "stream",
          "name": "stdout",
          "text": [
            "  publishedAt  negative_count  neutral_count  positive_count  stock_price\n",
            "0  2024-11-07              30            124              56   296.910004\n",
            "1  2024-11-08              12            150              39   321.220001\n",
            "2  2024-11-11              15             95              47   350.000000\n",
            "3  2024-11-12              20            116              25   328.489990\n",
            "4  2024-11-13              35            233              37   330.239990\n"
          ]
        }
      ]
    },
    {
      "cell_type": "code",
      "source": [
        "# Corrélation entre les variables explicatives et les prix\n",
        "correlation_all = daily_data_all_sentiments[['positive_count', 'negative_count', 'neutral_count', 'stock_price']].corr()\n",
        "print(correlation_all)"
      ],
      "metadata": {
        "colab": {
          "base_uri": "https://localhost:8080/"
        },
        "id": "zA3WyADhWHaR",
        "outputId": "91e3a715-6c3a-45da-cbd6-42ee9649a2c3"
      },
      "execution_count": 114,
      "outputs": [
        {
          "output_type": "stream",
          "name": "stdout",
          "text": [
            "                positive_count  negative_count  neutral_count  stock_price\n",
            "positive_count        1.000000        0.121827       0.288903    -0.227880\n",
            "negative_count        0.121827        1.000000       0.574502    -0.013309\n",
            "neutral_count         0.288903        0.574502       1.000000    -0.094215\n",
            "stock_price          -0.227880       -0.013309      -0.094215     1.000000\n"
          ]
        }
      ]
    },
    {
      "cell_type": "code",
      "source": [
        "# Redéfinir X et y\n",
        "X_all = daily_data_all_sentiments[['positive_count', 'negative_count', 'neutral_count']]\n",
        "y_all = daily_data_all_sentiments['stock_price']\n",
        "\n",
        "# Diviser les données en ensemble d'entraînement et de test\n",
        "X_train_all, X_test_all, y_train_all, y_test_all = train_test_split(X_all, y_all, test_size=0.2, random_state=42)\n",
        "\n",
        "# Entraîner un modèle de régression linéaire\n",
        "model_all = LinearRegression()\n",
        "model_all.fit(X_train_all, y_train_all)\n",
        "\n",
        "# Prédictions et évaluation\n",
        "y_pred_all = model_all.predict(X_test_all)\n",
        "mse_all = mean_squared_error(y_test_all, y_pred_all)\n",
        "r2_all = r2_score(y_test_all, y_pred_all)\n",
        "\n",
        "print(f\"Mean Squared Error (All Sentiments): {mse_all}\")\n",
        "print(f\"R^2 Score (All Sentiments): {r2_all}\")"
      ],
      "metadata": {
        "colab": {
          "base_uri": "https://localhost:8080/"
        },
        "id": "FP5iqfKOWJZr",
        "outputId": "e1a3e81c-5767-484c-c13d-e6d9c0b93e81"
      },
      "execution_count": 115,
      "outputs": [
        {
          "output_type": "stream",
          "name": "stdout",
          "text": [
            "Mean Squared Error (All Sentiments): 1152.6393389074622\n",
            "R^2 Score (All Sentiments): -1.4872415974336644\n"
          ]
        }
      ]
    },
    {
      "cell_type": "code",
      "source": [
        "# Calculer la variation journalière des prix\n",
        "daily_data_all_sentiments['price_change'] = daily_data_all_sentiments['stock_price'].diff().fillna(0)\n",
        "\n",
        "# Vérifier les corrélations avec price_change\n",
        "correlation_price_change = daily_data_all_sentiments[['positive_count', 'negative_count', 'neutral_count', 'price_change']].corr()\n",
        "print(correlation_price_change)\n",
        "\n",
        "# Modèle pour prédire price_change\n",
        "X_variation = daily_data_all_sentiments[['positive_count', 'negative_count', 'neutral_count']]\n",
        "y_variation = daily_data_all_sentiments['price_change']\n",
        "\n",
        "X_train_var, X_test_var, y_train_var, y_test_var = train_test_split(X_variation, y_variation, test_size=0.2, random_state=42)\n",
        "\n",
        "model_variation = LinearRegression()\n",
        "model_variation.fit(X_train_var, y_train_var)\n",
        "\n",
        "y_pred_var = model_variation.predict(X_test_var)\n",
        "mse_var = mean_squared_error(y_test_var, y_pred_var)\n",
        "r2_var = r2_score(y_test_var, y_pred_var)\n",
        "\n",
        "print(f\"Mean Squared Error (Variation): {mse_var}\")\n",
        "print(f\"R^2 Score (Variation): {r2_var}\")"
      ],
      "metadata": {
        "colab": {
          "base_uri": "https://localhost:8080/"
        },
        "id": "-ztrb6f5WeVa",
        "outputId": "c3f915c2-58fa-4f52-bd96-f4dbc2e63c5d"
      },
      "execution_count": 116,
      "outputs": [
        {
          "output_type": "stream",
          "name": "stdout",
          "text": [
            "                positive_count  negative_count  neutral_count  price_change\n",
            "positive_count        1.000000        0.121827       0.288903      0.385702\n",
            "negative_count        0.121827        1.000000       0.574502     -0.332596\n",
            "neutral_count         0.288903        0.574502       1.000000     -0.132978\n",
            "price_change          0.385702       -0.332596      -0.132978      1.000000\n",
            "Mean Squared Error (Variation): 385.39969897553055\n",
            "R^2 Score (Variation): -1.8824616034967736\n"
          ]
        }
      ]
    },
    {
      "cell_type": "markdown",
      "source": [
        "Les corrélations faibles et les scores médiocres montrent que ni les sentiments, ni les quantités d'articles par sentiment, ne suffisent pour prédire efficacement les prix des actions Tesla.\n",
        "\n",
        "Les articles de presse seuls ne capturent pas les facteurs fondamentaux qui influencent les prix des actions (données financières, résultats d’entreprise, annonces économiques, etc.)."
      ],
      "metadata": {
        "id": "8gesrEJ1WbaR"
      }
    }
  ]
}