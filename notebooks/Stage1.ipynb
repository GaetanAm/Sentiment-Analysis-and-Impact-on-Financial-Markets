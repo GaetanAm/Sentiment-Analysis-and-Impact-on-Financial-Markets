{
  "nbformat": 4,
  "nbformat_minor": 0,
  "metadata": {
    "colab": {
      "provenance": [],
      "authorship_tag": "ABX9TyOGCTzeIOXyXNWBQU/qQc3I",
      "include_colab_link": true
    },
    "kernelspec": {
      "name": "python3",
      "display_name": "Python 3"
    },
    "language_info": {
      "name": "python"
    }
  },
  "cells": [
    {
      "cell_type": "markdown",
      "metadata": {
        "id": "view-in-github",
        "colab_type": "text"
      },
      "source": [
        "<a href=\"https://colab.research.google.com/github/GaetanAm/Sentiment-Analysis-and-Impact-on-Financial-Markets/blob/main/notebooks/Stage1.ipynb\" target=\"_parent\"><img src=\"https://colab.research.google.com/assets/colab-badge.svg\" alt=\"Open In Colab\"/></a>"
      ]
    },
    {
      "cell_type": "code",
      "source": [
        "from google.colab import files\n",
        "\n",
        "# Téléchargez le fichier directement dans l'environnement\n",
        "uploaded = files.upload()\n"
      ],
      "metadata": {
        "id": "BIArZ_D6Hy9L",
        "outputId": "0809e45b-7492-4677-ad75-1e169928cb3e",
        "colab": {
          "base_uri": "https://localhost:8080/",
          "height": 73
        }
      },
      "execution_count": 6,
      "outputs": [
        {
          "output_type": "display_data",
          "data": {
            "text/plain": [
              "<IPython.core.display.HTML object>"
            ],
            "text/html": [
              "\n",
              "     <input type=\"file\" id=\"files-5f6a7dc8-7a59-4400-997f-76b5f596742d\" name=\"files[]\" multiple disabled\n",
              "        style=\"border:none\" />\n",
              "     <output id=\"result-5f6a7dc8-7a59-4400-997f-76b5f596742d\">\n",
              "      Upload widget is only available when the cell has been executed in the\n",
              "      current browser session. Please rerun this cell to enable.\n",
              "      </output>\n",
              "      <script>// Copyright 2017 Google LLC\n",
              "//\n",
              "// Licensed under the Apache License, Version 2.0 (the \"License\");\n",
              "// you may not use this file except in compliance with the License.\n",
              "// You may obtain a copy of the License at\n",
              "//\n",
              "//      http://www.apache.org/licenses/LICENSE-2.0\n",
              "//\n",
              "// Unless required by applicable law or agreed to in writing, software\n",
              "// distributed under the License is distributed on an \"AS IS\" BASIS,\n",
              "// WITHOUT WARRANTIES OR CONDITIONS OF ANY KIND, either express or implied.\n",
              "// See the License for the specific language governing permissions and\n",
              "// limitations under the License.\n",
              "\n",
              "/**\n",
              " * @fileoverview Helpers for google.colab Python module.\n",
              " */\n",
              "(function(scope) {\n",
              "function span(text, styleAttributes = {}) {\n",
              "  const element = document.createElement('span');\n",
              "  element.textContent = text;\n",
              "  for (const key of Object.keys(styleAttributes)) {\n",
              "    element.style[key] = styleAttributes[key];\n",
              "  }\n",
              "  return element;\n",
              "}\n",
              "\n",
              "// Max number of bytes which will be uploaded at a time.\n",
              "const MAX_PAYLOAD_SIZE = 100 * 1024;\n",
              "\n",
              "function _uploadFiles(inputId, outputId) {\n",
              "  const steps = uploadFilesStep(inputId, outputId);\n",
              "  const outputElement = document.getElementById(outputId);\n",
              "  // Cache steps on the outputElement to make it available for the next call\n",
              "  // to uploadFilesContinue from Python.\n",
              "  outputElement.steps = steps;\n",
              "\n",
              "  return _uploadFilesContinue(outputId);\n",
              "}\n",
              "\n",
              "// This is roughly an async generator (not supported in the browser yet),\n",
              "// where there are multiple asynchronous steps and the Python side is going\n",
              "// to poll for completion of each step.\n",
              "// This uses a Promise to block the python side on completion of each step,\n",
              "// then passes the result of the previous step as the input to the next step.\n",
              "function _uploadFilesContinue(outputId) {\n",
              "  const outputElement = document.getElementById(outputId);\n",
              "  const steps = outputElement.steps;\n",
              "\n",
              "  const next = steps.next(outputElement.lastPromiseValue);\n",
              "  return Promise.resolve(next.value.promise).then((value) => {\n",
              "    // Cache the last promise value to make it available to the next\n",
              "    // step of the generator.\n",
              "    outputElement.lastPromiseValue = value;\n",
              "    return next.value.response;\n",
              "  });\n",
              "}\n",
              "\n",
              "/**\n",
              " * Generator function which is called between each async step of the upload\n",
              " * process.\n",
              " * @param {string} inputId Element ID of the input file picker element.\n",
              " * @param {string} outputId Element ID of the output display.\n",
              " * @return {!Iterable<!Object>} Iterable of next steps.\n",
              " */\n",
              "function* uploadFilesStep(inputId, outputId) {\n",
              "  const inputElement = document.getElementById(inputId);\n",
              "  inputElement.disabled = false;\n",
              "\n",
              "  const outputElement = document.getElementById(outputId);\n",
              "  outputElement.innerHTML = '';\n",
              "\n",
              "  const pickedPromise = new Promise((resolve) => {\n",
              "    inputElement.addEventListener('change', (e) => {\n",
              "      resolve(e.target.files);\n",
              "    });\n",
              "  });\n",
              "\n",
              "  const cancel = document.createElement('button');\n",
              "  inputElement.parentElement.appendChild(cancel);\n",
              "  cancel.textContent = 'Cancel upload';\n",
              "  const cancelPromise = new Promise((resolve) => {\n",
              "    cancel.onclick = () => {\n",
              "      resolve(null);\n",
              "    };\n",
              "  });\n",
              "\n",
              "  // Wait for the user to pick the files.\n",
              "  const files = yield {\n",
              "    promise: Promise.race([pickedPromise, cancelPromise]),\n",
              "    response: {\n",
              "      action: 'starting',\n",
              "    }\n",
              "  };\n",
              "\n",
              "  cancel.remove();\n",
              "\n",
              "  // Disable the input element since further picks are not allowed.\n",
              "  inputElement.disabled = true;\n",
              "\n",
              "  if (!files) {\n",
              "    return {\n",
              "      response: {\n",
              "        action: 'complete',\n",
              "      }\n",
              "    };\n",
              "  }\n",
              "\n",
              "  for (const file of files) {\n",
              "    const li = document.createElement('li');\n",
              "    li.append(span(file.name, {fontWeight: 'bold'}));\n",
              "    li.append(span(\n",
              "        `(${file.type || 'n/a'}) - ${file.size} bytes, ` +\n",
              "        `last modified: ${\n",
              "            file.lastModifiedDate ? file.lastModifiedDate.toLocaleDateString() :\n",
              "                                    'n/a'} - `));\n",
              "    const percent = span('0% done');\n",
              "    li.appendChild(percent);\n",
              "\n",
              "    outputElement.appendChild(li);\n",
              "\n",
              "    const fileDataPromise = new Promise((resolve) => {\n",
              "      const reader = new FileReader();\n",
              "      reader.onload = (e) => {\n",
              "        resolve(e.target.result);\n",
              "      };\n",
              "      reader.readAsArrayBuffer(file);\n",
              "    });\n",
              "    // Wait for the data to be ready.\n",
              "    let fileData = yield {\n",
              "      promise: fileDataPromise,\n",
              "      response: {\n",
              "        action: 'continue',\n",
              "      }\n",
              "    };\n",
              "\n",
              "    // Use a chunked sending to avoid message size limits. See b/62115660.\n",
              "    let position = 0;\n",
              "    do {\n",
              "      const length = Math.min(fileData.byteLength - position, MAX_PAYLOAD_SIZE);\n",
              "      const chunk = new Uint8Array(fileData, position, length);\n",
              "      position += length;\n",
              "\n",
              "      const base64 = btoa(String.fromCharCode.apply(null, chunk));\n",
              "      yield {\n",
              "        response: {\n",
              "          action: 'append',\n",
              "          file: file.name,\n",
              "          data: base64,\n",
              "        },\n",
              "      };\n",
              "\n",
              "      let percentDone = fileData.byteLength === 0 ?\n",
              "          100 :\n",
              "          Math.round((position / fileData.byteLength) * 100);\n",
              "      percent.textContent = `${percentDone}% done`;\n",
              "\n",
              "    } while (position < fileData.byteLength);\n",
              "  }\n",
              "\n",
              "  // All done.\n",
              "  yield {\n",
              "    response: {\n",
              "      action: 'complete',\n",
              "    }\n",
              "  };\n",
              "}\n",
              "\n",
              "scope.google = scope.google || {};\n",
              "scope.google.colab = scope.google.colab || {};\n",
              "scope.google.colab._files = {\n",
              "  _uploadFiles,\n",
              "  _uploadFilesContinue,\n",
              "};\n",
              "})(self);\n",
              "</script> "
            ]
          },
          "metadata": {}
        },
        {
          "output_type": "stream",
          "name": "stdout",
          "text": [
            "Saving tesla_news.csv to tesla_news.csv\n"
          ]
        }
      ]
    },
    {
      "cell_type": "code",
      "execution_count": 7,
      "metadata": {
        "colab": {
          "base_uri": "https://localhost:8080/"
        },
        "id": "GS84vR8KGKNV",
        "outputId": "6d47238c-a73b-4879-afad-000fde53b08b"
      },
      "outputs": [
        {
          "output_type": "stream",
          "name": "stdout",
          "text": [
            "                                               title publishedAt sentiment\n",
            "0  Tesla police cruiser, Trump voters love solar,...  2024-11-07  Positive\n",
            "1  Dow Jones Surges On Trump Win. What To Do As S...  2024-11-07  Positive\n",
            "2  Trump Lackey Elon Musk's Biggest Controversies...  2024-11-07  Negative\n",
            "3  How Elon Musk’s $130 million investment in Tru...  2024-11-07  Positive\n",
            "4                                          [Removed]  2024-11-07   Neutral\n",
            "<class 'pandas.core.frame.DataFrame'>\n",
            "RangeIndex: 4381 entries, 0 to 4380\n",
            "Data columns (total 3 columns):\n",
            " #   Column       Non-Null Count  Dtype \n",
            "---  ------       --------------  ----- \n",
            " 0   title        4380 non-null   object\n",
            " 1   publishedAt  4381 non-null   object\n",
            " 2   sentiment    4381 non-null   object\n",
            "dtypes: object(3)\n",
            "memory usage: 102.8+ KB\n",
            "None\n"
          ]
        }
      ],
      "source": [
        "import pandas as pd\n",
        "\n",
        "# Charger les données\n",
        "file_path = \"tesla_news.csv\"  # Remplacez par le chemin de votre fichier\n",
        "df = pd.read_csv(file_path)\n",
        "\n",
        "# Vérification des données\n",
        "print(df.head())\n",
        "print(df.info())\n"
      ]
    },
    {
      "cell_type": "code",
      "source": [
        "!pip install yfinance\n"
      ],
      "metadata": {
        "id": "pZNHpoCRKqCj",
        "outputId": "ef7c1429-d608-4bca-e227-01d94d05ed0b",
        "colab": {
          "base_uri": "https://localhost:8080/"
        }
      },
      "execution_count": null,
      "outputs": [
        {
          "output_type": "stream",
          "name": "stdout",
          "text": [
            "Requirement already satisfied: yfinance in /usr/local/lib/python3.10/dist-packages (0.2.50)\n",
            "Requirement already satisfied: pandas>=1.3.0 in /usr/local/lib/python3.10/dist-packages (from yfinance) (2.2.2)\n",
            "Requirement already satisfied: numpy>=1.16.5 in /usr/local/lib/python3.10/dist-packages (from yfinance) (1.26.4)\n",
            "Requirement already satisfied: requests>=2.31 in /usr/local/lib/python3.10/dist-packages (from yfinance) (2.32.3)\n",
            "Requirement already satisfied: multitasking>=0.0.7 in /usr/local/lib/python3.10/dist-packages (from yfinance) (0.0.11)\n",
            "Requirement already satisfied: lxml>=4.9.1 in /usr/local/lib/python3.10/dist-packages (from yfinance) (5.3.0)\n",
            "Requirement already satisfied: platformdirs>=2.0.0 in /usr/local/lib/python3.10/dist-packages (from yfinance) (4.3.6)\n",
            "Requirement already satisfied: pytz>=2022.5 in /usr/local/lib/python3.10/dist-packages (from yfinance) (2024.2)\n",
            "Requirement already satisfied: frozendict>=2.3.4 in /usr/local/lib/python3.10/dist-packages (from yfinance) (2.4.6)\n",
            "Requirement already satisfied: peewee>=3.16.2 in /usr/local/lib/python3.10/dist-packages (from yfinance) (3.17.8)\n",
            "Requirement already satisfied: beautifulsoup4>=4.11.1 in /usr/local/lib/python3.10/dist-packages (from yfinance) (4.12.3)\n",
            "Requirement already satisfied: html5lib>=1.1 in /usr/local/lib/python3.10/dist-packages (from yfinance) (1.1)\n",
            "Requirement already satisfied: soupsieve>1.2 in /usr/local/lib/python3.10/dist-packages (from beautifulsoup4>=4.11.1->yfinance) (2.6)\n",
            "Requirement already satisfied: six>=1.9 in /usr/local/lib/python3.10/dist-packages (from html5lib>=1.1->yfinance) (1.16.0)\n",
            "Requirement already satisfied: webencodings in /usr/local/lib/python3.10/dist-packages (from html5lib>=1.1->yfinance) (0.5.1)\n",
            "Requirement already satisfied: python-dateutil>=2.8.2 in /usr/local/lib/python3.10/dist-packages (from pandas>=1.3.0->yfinance) (2.8.2)\n",
            "Requirement already satisfied: tzdata>=2022.7 in /usr/local/lib/python3.10/dist-packages (from pandas>=1.3.0->yfinance) (2024.2)\n",
            "Requirement already satisfied: charset-normalizer<4,>=2 in /usr/local/lib/python3.10/dist-packages (from requests>=2.31->yfinance) (3.4.0)\n",
            "Requirement already satisfied: idna<4,>=2.5 in /usr/local/lib/python3.10/dist-packages (from requests>=2.31->yfinance) (3.10)\n",
            "Requirement already satisfied: urllib3<3,>=1.21.1 in /usr/local/lib/python3.10/dist-packages (from requests>=2.31->yfinance) (2.2.3)\n",
            "Requirement already satisfied: certifi>=2017.4.17 in /usr/local/lib/python3.10/dist-packages (from requests>=2.31->yfinance) (2024.8.30)\n"
          ]
        }
      ]
    },
    {
      "cell_type": "code",
      "source": [
        "import yfinance as yf\n",
        "\n",
        "# Récupérer les données historiques pour Tesla\n",
        "tesla = yf.Ticker(\"TSLA\")\n",
        "stock_data = tesla.history(start=\"2024-11-07\", end=\"2024-12-06\")  # Ajuster les dates si nécessaire\n",
        "\n",
        "# Garder uniquement les colonnes nécessaires\n",
        "stock_data = stock_data[['Close']]  # On utilise le prix de clôture\n",
        "stock_data.reset_index(inplace=True)\n",
        "stock_data.rename(columns={'Date': 'publishedAt', 'Close': 'stock_price'}, inplace=True)\n",
        "print(stock_data.head())\n"
      ],
      "metadata": {
        "id": "Zquyuq5EKtNv",
        "outputId": "7f4d700a-efaf-4d85-a9b7-a917a20b7a77",
        "colab": {
          "base_uri": "https://localhost:8080/"
        }
      },
      "execution_count": 8,
      "outputs": [
        {
          "output_type": "stream",
          "name": "stdout",
          "text": [
            "                publishedAt  stock_price\n",
            "0 2024-11-07 00:00:00-05:00   296.910004\n",
            "1 2024-11-08 00:00:00-05:00   321.220001\n",
            "2 2024-11-11 00:00:00-05:00   350.000000\n",
            "3 2024-11-12 00:00:00-05:00   328.489990\n",
            "4 2024-11-13 00:00:00-05:00   330.239990\n"
          ]
        }
      ]
    },
    {
      "cell_type": "code",
      "source": [
        "# Convertir les dates pour correspondre\n",
        "df['publishedAt'] = pd.to_datetime(df['publishedAt'])\n",
        "stock_data['publishedAt'] = pd.to_datetime(stock_data['publishedAt'])\n",
        "\n",
        "# Convertir en datetime sans fuseau horaire\n",
        "df['publishedAt'] = pd.to_datetime(df['publishedAt']).dt.tz_localize(None)\n",
        "stock_data['publishedAt'] = pd.to_datetime(stock_data['publishedAt']).dt.tz_localize(None)\n",
        "\n",
        "print(df['publishedAt'].dtype)\n",
        "print(stock_data['publishedAt'].dtype)\n",
        "\n",
        "# Fusionner les données\n",
        "merged_data = pd.merge(df, stock_data, on='publishedAt', how='inner')\n",
        "print(merged_data.head())"
      ],
      "metadata": {
        "id": "4dPzRq8ALLl9",
        "outputId": "b1cb2c17-bc81-4991-d4dd-3b350f2b38e5",
        "colab": {
          "base_uri": "https://localhost:8080/"
        }
      },
      "execution_count": 9,
      "outputs": [
        {
          "output_type": "stream",
          "name": "stdout",
          "text": [
            "datetime64[ns]\n",
            "datetime64[ns]\n",
            "                                               title publishedAt sentiment  \\\n",
            "0  Tesla police cruiser, Trump voters love solar,...  2024-11-07  Positive   \n",
            "1  Dow Jones Surges On Trump Win. What To Do As S...  2024-11-07  Positive   \n",
            "2  Trump Lackey Elon Musk's Biggest Controversies...  2024-11-07  Negative   \n",
            "3  How Elon Musk’s $130 million investment in Tru...  2024-11-07  Positive   \n",
            "4                                          [Removed]  2024-11-07   Neutral   \n",
            "\n",
            "   stock_price  \n",
            "0   296.910004  \n",
            "1   296.910004  \n",
            "2   296.910004  \n",
            "3   296.910004  \n",
            "4   296.910004  \n"
          ]
        }
      ]
    },
    {
      "cell_type": "code",
      "source": [
        "# Encoder les sentiments\n",
        "sentiment_map = {'Positive': 1, 'Neutral': 0, 'Negative': -1}\n",
        "merged_data['sentiment'] = merged_data['sentiment'].map(sentiment_map)\n",
        "\n",
        "# Diviser les données\n",
        "from sklearn.model_selection import train_test_split\n",
        "\n",
        "X = merged_data[['sentiment']]  # Variable explicative\n",
        "y = merged_data['stock_price']  # Variable cible\n",
        "X_train, X_test, y_train, y_test = train_test_split(X, y, test_size=0.2, random_state=42)\n",
        "\n",
        "\n"
      ],
      "metadata": {
        "id": "O9iNR8zPLUJZ"
      },
      "execution_count": 10,
      "outputs": []
    },
    {
      "cell_type": "code",
      "source": [
        "print(merged_data.head())"
      ],
      "metadata": {
        "id": "4dx8_u3xN1YZ",
        "outputId": "0d874e5f-ef38-46d8-b066-ba32d7ddc251",
        "colab": {
          "base_uri": "https://localhost:8080/"
        }
      },
      "execution_count": 11,
      "outputs": [
        {
          "output_type": "stream",
          "name": "stdout",
          "text": [
            "                                               title publishedAt  sentiment  \\\n",
            "0  Tesla police cruiser, Trump voters love solar,...  2024-11-07        1.0   \n",
            "1  Dow Jones Surges On Trump Win. What To Do As S...  2024-11-07        1.0   \n",
            "2  Trump Lackey Elon Musk's Biggest Controversies...  2024-11-07       -1.0   \n",
            "3  How Elon Musk’s $130 million investment in Tru...  2024-11-07        1.0   \n",
            "4                                          [Removed]  2024-11-07        0.0   \n",
            "\n",
            "   stock_price  \n",
            "0   296.910004  \n",
            "1   296.910004  \n",
            "2   296.910004  \n",
            "3   296.910004  \n",
            "4   296.910004  \n"
          ]
        }
      ]
    },
    {
      "cell_type": "code",
      "source": [
        "print(merged_data['sentiment'].unique())\n"
      ],
      "metadata": {
        "id": "Z1efsXvtNw08",
        "outputId": "cd79a86f-c30e-40b3-9f74-7300acbc3bd9",
        "colab": {
          "base_uri": "https://localhost:8080/"
        }
      },
      "execution_count": 12,
      "outputs": [
        {
          "output_type": "stream",
          "name": "stdout",
          "text": [
            "[ 1. -1.  0. nan]\n"
          ]
        }
      ]
    },
    {
      "cell_type": "code",
      "source": [
        "print(X_test.isnull().sum())  # Compte des NaN par colonne\n",
        "print(X_test[X_test.isnull().any(axis=1)])  # Lignes contenant des NaN\n"
      ],
      "metadata": {
        "id": "wet_l88EOoB0",
        "outputId": "5f0af860-385a-4410-939a-923a73ab1f60",
        "colab": {
          "base_uri": "https://localhost:8080/"
        }
      },
      "execution_count": 13,
      "outputs": [
        {
          "output_type": "stream",
          "name": "stdout",
          "text": [
            "sentiment    1\n",
            "dtype: int64\n",
            "     sentiment\n",
            "315        NaN\n"
          ]
        }
      ]
    },
    {
      "cell_type": "code",
      "source": [
        "print(X_test[X_test.isnull().any(axis=1)])\n"
      ],
      "metadata": {
        "id": "wR-EpMwMPD3F",
        "outputId": "eb318bcf-656e-4b38-ec9c-18797c80a024",
        "colab": {
          "base_uri": "https://localhost:8080/"
        }
      },
      "execution_count": 14,
      "outputs": [
        {
          "output_type": "stream",
          "name": "stdout",
          "text": [
            "     sentiment\n",
            "315        NaN\n"
          ]
        }
      ]
    },
    {
      "cell_type": "code",
      "source": [
        "X_test = X_test.dropna()\n",
        "y_test = y_test[X_test.index]  # Ajuster y_test pour correspondre aux indices mis à jour\n"
      ],
      "metadata": {
        "id": "sLhe49VoPHB2"
      },
      "execution_count": 15,
      "outputs": []
    },
    {
      "cell_type": "code",
      "source": [
        "print(X_test.isnull().sum())\n"
      ],
      "metadata": {
        "id": "ATFh1GP6PN4R",
        "outputId": "d691f313-127b-4956-e60c-5b19ce512dee",
        "colab": {
          "base_uri": "https://localhost:8080/"
        }
      },
      "execution_count": 16,
      "outputs": [
        {
          "output_type": "stream",
          "name": "stdout",
          "text": [
            "sentiment    0\n",
            "dtype: int64\n"
          ]
        }
      ]
    },
    {
      "cell_type": "code",
      "source": [
        "from sklearn.linear_model import LinearRegression\n",
        "from sklearn.metrics import mean_squared_error, r2_score\n",
        "\n",
        "# Entraîner le modèle\n",
        "model = LinearRegression()\n",
        "model.fit(X_train, y_train)\n",
        "\n",
        "# Prédictions\n",
        "y_pred = model.predict(X_test)\n",
        "\n",
        "# Évaluation\n",
        "mse = mean_squared_error(y_test, y_pred)\n",
        "r2 = r2_score(y_test, y_pred)\n",
        "print(f\"Mean Squared Error: {mse}\")\n",
        "print(f\"R^2 Score: {r2}\")\n"
      ],
      "metadata": {
        "id": "n2_mrtV9LVeb",
        "outputId": "d5c37323-656b-40fb-8e4a-b4f264b496d8",
        "colab": {
          "base_uri": "https://localhost:8080/"
        }
      },
      "execution_count": 17,
      "outputs": [
        {
          "output_type": "stream",
          "name": "stdout",
          "text": [
            "Mean Squared Error: 292.4435299996879\n",
            "R^2 Score: -0.001134833974736127\n"
          ]
        }
      ]
    },
    {
      "cell_type": "code",
      "source": [
        "import matplotlib.pyplot as plt\n",
        "\n",
        "plt.scatter(y_test, y_pred)\n",
        "plt.xlabel(\"Valeurs réelles\")\n",
        "plt.ylabel(\"Prédictions\")\n",
        "plt.title(\"Relation entre les valeurs réelles et prédites\")\n",
        "plt.show()\n"
      ],
      "metadata": {
        "id": "M48_zysULW4R",
        "outputId": "022c315e-67ca-420f-ffec-86f74122fcbe",
        "colab": {
          "base_uri": "https://localhost:8080/",
          "height": 472
        }
      },
      "execution_count": 18,
      "outputs": [
        {
          "output_type": "display_data",
          "data": {
            "text/plain": [
              "<Figure size 640x480 with 1 Axes>"
            ],
            "image/png": "[encoded data removed]"
          },
          "metadata": {}
        }
      ]
    },
    {
      "cell_type": "code",
      "source": [
        "from sklearn.ensemble import RandomForestRegressor\n",
        "\n",
        "# Entraîner un modèle Random Forest\n",
        "rf_model = RandomForestRegressor(random_state=42)\n",
        "rf_model.fit(X_train, y_train)\n",
        "\n",
        "# Prédictions\n",
        "y_pred_rf = rf_model.predict(X_test)\n",
        "\n",
        "# Évaluation\n",
        "mse_rf = mean_squared_error(y_test, y_pred_rf)\n",
        "r2_rf = r2_score(y_test, y_pred_rf)\n",
        "print(f\"Random Forest MSE: {mse_rf}\")\n",
        "print(f\"Random Forest R^2 Score: {r2_rf}\")\n"
      ],
      "metadata": {
        "id": "mtCLmJNSBVUW",
        "outputId": "9d15f7f3-c886-437c-d120-4b5f136db8b2",
        "colab": {
          "base_uri": "https://localhost:8080/"
        }
      },
      "execution_count": 19,
      "outputs": [
        {
          "output_type": "stream",
          "name": "stdout",
          "text": [
            "Random Forest MSE: 292.4204019931662\n",
            "Random Forest R^2 Score: -0.0010556588499890385\n"
          ]
        }
      ]
    },
    {
      "cell_type": "code",
      "source": [
        "import numpy as np\n",
        "\n",
        "# Ajouter sentiment et stock_price dans un DataFrame\n",
        "data_for_corr = merged_data[['sentiment', 'stock_price']]\n",
        "\n",
        "# Calcul de la corrélation\n",
        "correlation = data_for_corr.corr()\n",
        "print(correlation)\n"
      ],
      "metadata": {
        "id": "mUabWWRqCMaN",
        "outputId": "96397481-3aaf-4052-b5e9-5224975993cd",
        "colab": {
          "base_uri": "https://localhost:8080/"
        }
      },
      "execution_count": 20,
      "outputs": [
        {
          "output_type": "stream",
          "name": "stdout",
          "text": [
            "             sentiment  stock_price\n",
            "sentiment     1.000000    -0.025003\n",
            "stock_price  -0.025003     1.000000\n"
          ]
        }
      ]
    },
    {
      "cell_type": "code",
      "source": [
        "# Calcul des variations de prix\n",
        "merged_data['price_change'] = merged_data['stock_price'].diff().fillna(0)\n",
        "\n",
        "# Corrélation entre sentiments et variations\n",
        "data_for_corr = merged_data[['sentiment', 'price_change']]\n",
        "correlation = data_for_corr.corr()\n",
        "print(correlation)\n"
      ],
      "metadata": {
        "id": "JmknvGeYD4h6",
        "outputId": "2f9b7796-39be-450f-ac5f-eae23c3d903d",
        "colab": {
          "base_uri": "https://localhost:8080/"
        }
      },
      "execution_count": 54,
      "outputs": [
        {
          "output_type": "stream",
          "name": "stdout",
          "text": [
            "              sentiment  price_change\n",
            "sentiment      1.000000      0.041904\n",
            "price_change   0.041904      1.000000\n"
          ]
        }
      ]
    },
    {
      "cell_type": "code",
      "source": [
        "# Filtrer les données pour garder uniquement les sentiments positifs ou négatifs\n",
        "filtered_data = merged_data[merged_data['sentiment'] != 0]\n",
        "\n",
        "# Vérifier les nouvelles dimensions des données\n",
        "print(\"Taille après filtrage :\", filtered_data.shape)\n",
        "print(filtered_data['sentiment'].value_counts())\n"
      ],
      "metadata": {
        "id": "9Arcz69XEcD7",
        "outputId": "7b4cb8ee-dabe-4a15-c794-9afb1ea9f6fd",
        "colab": {
          "base_uri": "https://localhost:8080/"
        }
      },
      "execution_count": 22,
      "outputs": [
        {
          "output_type": "stream",
          "name": "stdout",
          "text": [
            "Taille après filtrage : (1060, 5)\n",
            "sentiment\n",
            " 1.0    594\n",
            "-1.0    465\n",
            "Name: count, dtype: int64\n"
          ]
        }
      ]
    },
    {
      "cell_type": "code",
      "source": [
        "# Corrélation sur les données filtrées\n",
        "data_for_corr_filtered = filtered_data[['sentiment', 'stock_price']]\n",
        "correlation_filtered = data_for_corr_filtered.corr()\n",
        "print(correlation_filtered)\n"
      ],
      "metadata": {
        "id": "rMHf77TYEfz4",
        "outputId": "fd8346f1-2578-4e04-dc3c-6da51e74c947",
        "colab": {
          "base_uri": "https://localhost:8080/"
        }
      },
      "execution_count": 23,
      "outputs": [
        {
          "output_type": "stream",
          "name": "stdout",
          "text": [
            "             sentiment  stock_price\n",
            "sentiment     1.000000    -0.041215\n",
            "stock_price  -0.041215     1.000000\n"
          ]
        }
      ]
    },
    {
      "cell_type": "code",
      "source": [
        "# Redéfinir X et y\n",
        "X = filtered_data[['sentiment']]\n",
        "y = filtered_data['stock_price']\n",
        "\n",
        "from sklearn.model_selection import train_test_split\n",
        "X_train, X_test, y_train, y_test = train_test_split(X, y, test_size=0.2, random_state=42)\n",
        "\n",
        "print(\"Taille de X_train :\", X_train.shape)\n",
        "print(\"Taille de y_train :\", y_train.shape)\n"
      ],
      "metadata": {
        "id": "ynhqf_0dEhDt",
        "outputId": "37d59061-361b-453d-c8b4-ddb267f499f9",
        "colab": {
          "base_uri": "https://localhost:8080/"
        }
      },
      "execution_count": 28,
      "outputs": [
        {
          "output_type": "stream",
          "name": "stdout",
          "text": [
            "Taille de X_train : (848, 1)\n",
            "Taille de y_train : (848,)\n"
          ]
        }
      ]
    },
    {
      "cell_type": "code",
      "source": [
        "print(filtered_data['sentiment'].unique())"
      ],
      "metadata": {
        "id": "4dQdX3m3FORV",
        "outputId": "20666f92-ca05-4fac-e27d-424705354048",
        "colab": {
          "base_uri": "https://localhost:8080/"
        }
      },
      "execution_count": 33,
      "outputs": [
        {
          "output_type": "stream",
          "name": "stdout",
          "text": [
            "[ 1. -1. nan]\n"
          ]
        }
      ]
    },
    {
      "cell_type": "code",
      "source": [
        "X_train = X_train.dropna()\n",
        "y_train = y_train[X_train.index]  # Ajuster y_train pour correspondre à X_train\n",
        "\n"
      ],
      "metadata": {
        "id": "bAwS_nrWFU0G"
      },
      "execution_count": 51,
      "outputs": []
    },
    {
      "cell_type": "code",
      "source": [
        "print(X_train.isnull().sum())  # Devrait afficher 0\n"
      ],
      "metadata": {
        "id": "rZjhCfokEvFi",
        "outputId": "67721d9f-fb21-4cce-ed74-1d8850b19fc9",
        "colab": {
          "base_uri": "https://localhost:8080/"
        }
      },
      "execution_count": 52,
      "outputs": [
        {
          "output_type": "stream",
          "name": "stdout",
          "text": [
            "sentiment    0\n",
            "dtype: int64\n"
          ]
        }
      ]
    },
    {
      "cell_type": "code",
      "source": [
        "from sklearn.linear_model import LinearRegression\n",
        "from sklearn.metrics import mean_squared_error, r2_score\n",
        "\n",
        "# Entraîner le modèle\n",
        "model = LinearRegression()\n",
        "model.fit(X_train, y_train)\n",
        "\n",
        "# Prédictions\n",
        "y_pred = model.predict(X_test)\n",
        "\n",
        "# Évaluation\n",
        "mse = mean_squared_error(y_test, y_pred)\n",
        "r2 = r2_score(y_test, y_pred)\n",
        "\n",
        "print(f\"Mean Squared Error: {mse}\")\n",
        "print(f\"R^2 Score: {r2}\")\n"
      ],
      "metadata": {
        "id": "omuP6rwFEkkJ",
        "outputId": "3ba4f9c2-ba6e-4927-9c4b-07ba9a1d4839",
        "colab": {
          "base_uri": "https://localhost:8080/"
        }
      },
      "execution_count": 53,
      "outputs": [
        {
          "output_type": "stream",
          "name": "stdout",
          "text": [
            "Mean Squared Error: 353.237391344725\n",
            "R^2 Score: -0.013829281090233625\n"
          ]
        }
      ]
    },
    {
      "cell_type": "code",
      "source": [
        "# Calcul des variations de prix\n",
        "merged_data['price_change'] = merged_data['stock_price'].diff().fillna(0)\n",
        "\n",
        "# Corrélation entre sentiments et variations\n",
        "data_for_corr = merged_data[['sentiment', 'price_change']]\n",
        "correlation = data_for_corr.corr()\n",
        "print(correlation)"
      ],
      "metadata": {
        "id": "AIbxePPzGbhs"
      },
      "execution_count": null,
      "outputs": []
    }
  ]
}