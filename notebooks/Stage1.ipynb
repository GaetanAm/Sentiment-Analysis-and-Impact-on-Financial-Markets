{
  "nbformat": 4,
  "nbformat_minor": 0,
  "metadata": {
    "colab": {
      "provenance": [],
      "authorship_tag": "ABX9TyNDV3WiLiwnyhBr1Tq/r0MB",
      "include_colab_link": true
    },
    "kernelspec": {
      "name": "python3",
      "display_name": "Python 3"
    },
    "language_info": {
      "name": "python"
    },
    "widgets": {
      "application/vnd.jupyter.widget-state+json": {
        "a66730df80704831b2f6fe5a43a43e1a": {
          "model_module": "@jupyter-widgets/controls",
          "model_name": "HBoxModel",
          "model_module_version": "1.5.0",
          "state": {
            "_dom_classes": [],
            "_model_module": "@jupyter-widgets/controls",
            "_model_module_version": "1.5.0",
            "_model_name": "HBoxModel",
            "_view_count": null,
            "_view_module": "@jupyter-widgets/controls",
            "_view_module_version": "1.5.0",
            "_view_name": "HBoxView",
            "box_style": "",
            "children": [
              "IPY_MODEL_ae6d82725b2342d496a5abcf49d6ee67",
              "IPY_MODEL_146dd9588b604e1f92ed3531e45f86bf",
              "IPY_MODEL_9e4d7e2a69d74069b626b53058f24a28"
            ],
            "layout": "IPY_MODEL_5338f4fe708247c08a6881d505c064d3"
          }
        },
        "ae6d82725b2342d496a5abcf49d6ee67": {
          "model_module": "@jupyter-widgets/controls",
          "model_name": "HTMLModel",
          "model_module_version": "1.5.0",
          "state": {
            "_dom_classes": [],
            "_model_module": "@jupyter-widgets/controls",
            "_model_module_version": "1.5.0",
            "_model_name": "HTMLModel",
            "_view_count": null,
            "_view_module": "@jupyter-widgets/controls",
            "_view_module_version": "1.5.0",
            "_view_name": "HTMLView",
            "description": "",
            "description_tooltip": null,
            "layout": "IPY_MODEL_ede59dab353c441c80687e67e9e22074",
            "placeholder": "​",
            "style": "IPY_MODEL_03e1d27a959146f4aec6c746badb19c0",
            "value": "config.json: 100%"
          }
        },
        "146dd9588b604e1f92ed3531e45f86bf": {
          "model_module": "@jupyter-widgets/controls",
          "model_name": "FloatProgressModel",
          "model_module_version": "1.5.0",
          "state": {
            "_dom_classes": [],
            "_model_module": "@jupyter-widgets/controls",
            "_model_module_version": "1.5.0",
            "_model_name": "FloatProgressModel",
            "_view_count": null,
            "_view_module": "@jupyter-widgets/controls",
            "_view_module_version": "1.5.0",
            "_view_name": "ProgressView",
            "bar_style": "success",
            "description": "",
            "description_tooltip": null,
            "layout": "IPY_MODEL_7d1d100f0dc840a5a18253c88de7076a",
            "max": 533,
            "min": 0,
            "orientation": "horizontal",
            "style": "IPY_MODEL_a2149321bcc64a869c9ab330399a95ed",
            "value": 533
          }
        },
        "9e4d7e2a69d74069b626b53058f24a28": {
          "model_module": "@jupyter-widgets/controls",
          "model_name": "HTMLModel",
          "model_module_version": "1.5.0",
          "state": {
            "_dom_classes": [],
            "_model_module": "@jupyter-widgets/controls",
            "_model_module_version": "1.5.0",
            "_model_name": "HTMLModel",
            "_view_count": null,
            "_view_module": "@jupyter-widgets/controls",
            "_view_module_version": "1.5.0",
            "_view_name": "HTMLView",
            "description": "",
            "description_tooltip": null,
            "layout": "IPY_MODEL_d194e792ea4e480f8f1dafe4f4905212",
            "placeholder": "​",
            "style": "IPY_MODEL_f9441d68e35a4fd18dd856ca4773ec71",
            "value": " 533/533 [00:00&lt;00:00, 13.6kB/s]"
          }
        },
        "5338f4fe708247c08a6881d505c064d3": {
          "model_module": "@jupyter-widgets/base",
          "model_name": "LayoutModel",
          "model_module_version": "1.2.0",
          "state": {
            "_model_module": "@jupyter-widgets/base",
            "_model_module_version": "1.2.0",
            "_model_name": "LayoutModel",
            "_view_count": null,
            "_view_module": "@jupyter-widgets/base",
            "_view_module_version": "1.2.0",
            "_view_name": "LayoutView",
            "align_content": null,
            "align_items": null,
            "align_self": null,
            "border": null,
            "bottom": null,
            "display": null,
            "flex": null,
            "flex_flow": null,
            "grid_area": null,
            "grid_auto_columns": null,
            "grid_auto_flow": null,
            "grid_auto_rows": null,
            "grid_column": null,
            "grid_gap": null,
            "grid_row": null,
            "grid_template_areas": null,
            "grid_template_columns": null,
            "grid_template_rows": null,
            "height": null,
            "justify_content": null,
            "justify_items": null,
            "left": null,
            "margin": null,
            "max_height": null,
            "max_width": null,
            "min_height": null,
            "min_width": null,
            "object_fit": null,
            "object_position": null,
            "order": null,
            "overflow": null,
            "overflow_x": null,
            "overflow_y": null,
            "padding": null,
            "right": null,
            "top": null,
            "visibility": null,
            "width": null
          }
        },
        "ede59dab353c441c80687e67e9e22074": {
          "model_module": "@jupyter-widgets/base",
          "model_name": "LayoutModel",
          "model_module_version": "1.2.0",
          "state": {
            "_model_module": "@jupyter-widgets/base",
            "_model_module_version": "1.2.0",
            "_model_name": "LayoutModel",
            "_view_count": null,
            "_view_module": "@jupyter-widgets/base",
            "_view_module_version": "1.2.0",
            "_view_name": "LayoutView",
            "align_content": null,
            "align_items": null,
            "align_self": null,
            "border": null,
            "bottom": null,
            "display": null,
            "flex": null,
            "flex_flow": null,
            "grid_area": null,
            "grid_auto_columns": null,
            "grid_auto_flow": null,
            "grid_auto_rows": null,
            "grid_column": null,
            "grid_gap": null,
            "grid_row": null,
            "grid_template_areas": null,
            "grid_template_columns": null,
            "grid_template_rows": null,
            "height": null,
            "justify_content": null,
            "justify_items": null,
            "left": null,
            "margin": null,
            "max_height": null,
            "max_width": null,
            "min_height": null,
            "min_width": null,
            "object_fit": null,
            "object_position": null,
            "order": null,
            "overflow": null,
            "overflow_x": null,
            "overflow_y": null,
            "padding": null,
            "right": null,
            "top": null,
            "visibility": null,
            "width": null
          }
        },
        "03e1d27a959146f4aec6c746badb19c0": {
          "model_module": "@jupyter-widgets/controls",
          "model_name": "DescriptionStyleModel",
          "model_module_version": "1.5.0",
          "state": {
            "_model_module": "@jupyter-widgets/controls",
            "_model_module_version": "1.5.0",
            "_model_name": "DescriptionStyleModel",
            "_view_count": null,
            "_view_module": "@jupyter-widgets/base",
            "_view_module_version": "1.2.0",
            "_view_name": "StyleView",
            "description_width": ""
          }
        },
        "7d1d100f0dc840a5a18253c88de7076a": {
          "model_module": "@jupyter-widgets/base",
          "model_name": "LayoutModel",
          "model_module_version": "1.2.0",
          "state": {
            "_model_module": "@jupyter-widgets/base",
            "_model_module_version": "1.2.0",
            "_model_name": "LayoutModel",
            "_view_count": null,
            "_view_module": "@jupyter-widgets/base",
            "_view_module_version": "1.2.0",
            "_view_name": "LayoutView",
            "align_content": null,
            "align_items": null,
            "align_self": null,
            "border": null,
            "bottom": null,
            "display": null,
            "flex": null,
            "flex_flow": null,
            "grid_area": null,
            "grid_auto_columns": null,
            "grid_auto_flow": null,
            "grid_auto_rows": null,
            "grid_column": null,
            "grid_gap": null,
            "grid_row": null,
            "grid_template_areas": null,
            "grid_template_columns": null,
            "grid_template_rows": null,
            "height": null,
            "justify_content": null,
            "justify_items": null,
            "left": null,
            "margin": null,
            "max_height": null,
            "max_width": null,
            "min_height": null,
            "min_width": null,
            "object_fit": null,
            "object_position": null,
            "order": null,
            "overflow": null,
            "overflow_x": null,
            "overflow_y": null,
            "padding": null,
            "right": null,
            "top": null,
            "visibility": null,
            "width": null
          }
        },
        "a2149321bcc64a869c9ab330399a95ed": {
          "model_module": "@jupyter-widgets/controls",
          "model_name": "ProgressStyleModel",
          "model_module_version": "1.5.0",
          "state": {
            "_model_module": "@jupyter-widgets/controls",
            "_model_module_version": "1.5.0",
            "_model_name": "ProgressStyleModel",
            "_view_count": null,
            "_view_module": "@jupyter-widgets/base",
            "_view_module_version": "1.2.0",
            "_view_name": "StyleView",
            "bar_color": null,
            "description_width": ""
          }
        },
        "d194e792ea4e480f8f1dafe4f4905212": {
          "model_module": "@jupyter-widgets/base",
          "model_name": "LayoutModel",
          "model_module_version": "1.2.0",
          "state": {
            "_model_module": "@jupyter-widgets/base",
            "_model_module_version": "1.2.0",
            "_model_name": "LayoutModel",
            "_view_count": null,
            "_view_module": "@jupyter-widgets/base",
            "_view_module_version": "1.2.0",
            "_view_name": "LayoutView",
            "align_content": null,
            "align_items": null,
            "align_self": null,
            "border": null,
            "bottom": null,
            "display": null,
            "flex": null,
            "flex_flow": null,
            "grid_area": null,
            "grid_auto_columns": null,
            "grid_auto_flow": null,
            "grid_auto_rows": null,
            "grid_column": null,
            "grid_gap": null,
            "grid_row": null,
            "grid_template_areas": null,
            "grid_template_columns": null,
            "grid_template_rows": null,
            "height": null,
            "justify_content": null,
            "justify_items": null,
            "left": null,
            "margin": null,
            "max_height": null,
            "max_width": null,
            "min_height": null,
            "min_width": null,
            "object_fit": null,
            "object_position": null,
            "order": null,
            "overflow": null,
            "overflow_x": null,
            "overflow_y": null,
            "padding": null,
            "right": null,
            "top": null,
            "visibility": null,
            "width": null
          }
        },
        "f9441d68e35a4fd18dd856ca4773ec71": {
          "model_module": "@jupyter-widgets/controls",
          "model_name": "DescriptionStyleModel",
          "model_module_version": "1.5.0",
          "state": {
            "_model_module": "@jupyter-widgets/controls",
            "_model_module_version": "1.5.0",
            "_model_name": "DescriptionStyleModel",
            "_view_count": null,
            "_view_module": "@jupyter-widgets/base",
            "_view_module_version": "1.2.0",
            "_view_name": "StyleView",
            "description_width": ""
          }
        },
        "a49dd1a037c74d90a6d8054367d46526": {
          "model_module": "@jupyter-widgets/controls",
          "model_name": "HBoxModel",
          "model_module_version": "1.5.0",
          "state": {
            "_dom_classes": [],
            "_model_module": "@jupyter-widgets/controls",
            "_model_module_version": "1.5.0",
            "_model_name": "HBoxModel",
            "_view_count": null,
            "_view_module": "@jupyter-widgets/controls",
            "_view_module_version": "1.5.0",
            "_view_name": "HBoxView",
            "box_style": "",
            "children": [
              "IPY_MODEL_79215f51904f4cd5ba70feb73d07bc3d",
              "IPY_MODEL_054acb47d0f8491299d6bbbb7fdb5de7",
              "IPY_MODEL_98cc8e27ebe7416d9c19c743291f4e8c"
            ],
            "layout": "IPY_MODEL_952b030020494da9a00185e6ab684b7d"
          }
        },
        "79215f51904f4cd5ba70feb73d07bc3d": {
          "model_module": "@jupyter-widgets/controls",
          "model_name": "HTMLModel",
          "model_module_version": "1.5.0",
          "state": {
            "_dom_classes": [],
            "_model_module": "@jupyter-widgets/controls",
            "_model_module_version": "1.5.0",
            "_model_name": "HTMLModel",
            "_view_count": null,
            "_view_module": "@jupyter-widgets/controls",
            "_view_module_version": "1.5.0",
            "_view_name": "HTMLView",
            "description": "",
            "description_tooltip": null,
            "layout": "IPY_MODEL_7b8b29918c374dc3b779a4c2e75e4a7d",
            "placeholder": "​",
            "style": "IPY_MODEL_b484b4f6a5894ddeb0bfcaec75d85971",
            "value": "pytorch_model.bin: 100%"
          }
        },
        "054acb47d0f8491299d6bbbb7fdb5de7": {
          "model_module": "@jupyter-widgets/controls",
          "model_name": "FloatProgressModel",
          "model_module_version": "1.5.0",
          "state": {
            "_dom_classes": [],
            "_model_module": "@jupyter-widgets/controls",
            "_model_module_version": "1.5.0",
            "_model_name": "FloatProgressModel",
            "_view_count": null,
            "_view_module": "@jupyter-widgets/controls",
            "_view_module_version": "1.5.0",
            "_view_name": "ProgressView",
            "bar_style": "success",
            "description": "",
            "description_tooltip": null,
            "layout": "IPY_MODEL_7fc53c9b375040d98cb29ef3bb509a69",
            "max": 439101405,
            "min": 0,
            "orientation": "horizontal",
            "style": "IPY_MODEL_157694bad274480387624b64c6cae7a8",
            "value": 439101405
          }
        },
        "98cc8e27ebe7416d9c19c743291f4e8c": {
          "model_module": "@jupyter-widgets/controls",
          "model_name": "HTMLModel",
          "model_module_version": "1.5.0",
          "state": {
            "_dom_classes": [],
            "_model_module": "@jupyter-widgets/controls",
            "_model_module_version": "1.5.0",
            "_model_name": "HTMLModel",
            "_view_count": null,
            "_view_module": "@jupyter-widgets/controls",
            "_view_module_version": "1.5.0",
            "_view_name": "HTMLView",
            "description": "",
            "description_tooltip": null,
            "layout": "IPY_MODEL_1e3c1868547c4a35851d6b974929268f",
            "placeholder": "​",
            "style": "IPY_MODEL_7166529e9308400b925527ef4db79407",
            "value": " 439M/439M [00:03&lt;00:00, 165MB/s]"
          }
        },
        "952b030020494da9a00185e6ab684b7d": {
          "model_module": "@jupyter-widgets/base",
          "model_name": "LayoutModel",
          "model_module_version": "1.2.0",
          "state": {
            "_model_module": "@jupyter-widgets/base",
            "_model_module_version": "1.2.0",
            "_model_name": "LayoutModel",
            "_view_count": null,
            "_view_module": "@jupyter-widgets/base",
            "_view_module_version": "1.2.0",
            "_view_name": "LayoutView",
            "align_content": null,
            "align_items": null,
            "align_self": null,
            "border": null,
            "bottom": null,
            "display": null,
            "flex": null,
            "flex_flow": null,
            "grid_area": null,
            "grid_auto_columns": null,
            "grid_auto_flow": null,
            "grid_auto_rows": null,
            "grid_column": null,
            "grid_gap": null,
            "grid_row": null,
            "grid_template_areas": null,
            "grid_template_columns": null,
            "grid_template_rows": null,
            "height": null,
            "justify_content": null,
            "justify_items": null,
            "left": null,
            "margin": null,
            "max_height": null,
            "max_width": null,
            "min_height": null,
            "min_width": null,
            "object_fit": null,
            "object_position": null,
            "order": null,
            "overflow": null,
            "overflow_x": null,
            "overflow_y": null,
            "padding": null,
            "right": null,
            "top": null,
            "visibility": null,
            "width": null
          }
        },
        "7b8b29918c374dc3b779a4c2e75e4a7d": {
          "model_module": "@jupyter-widgets/base",
          "model_name": "LayoutModel",
          "model_module_version": "1.2.0",
          "state": {
            "_model_module": "@jupyter-widgets/base",
            "_model_module_version": "1.2.0",
            "_model_name": "LayoutModel",
            "_view_count": null,
            "_view_module": "@jupyter-widgets/base",
            "_view_module_version": "1.2.0",
            "_view_name": "LayoutView",
            "align_content": null,
            "align_items": null,
            "align_self": null,
            "border": null,
            "bottom": null,
            "display": null,
            "flex": null,
            "flex_flow": null,
            "grid_area": null,
            "grid_auto_columns": null,
            "grid_auto_flow": null,
            "grid_auto_rows": null,
            "grid_column": null,
            "grid_gap": null,
            "grid_row": null,
            "grid_template_areas": null,
            "grid_template_columns": null,
            "grid_template_rows": null,
            "height": null,
            "justify_content": null,
            "justify_items": null,
            "left": null,
            "margin": null,
            "max_height": null,
            "max_width": null,
            "min_height": null,
            "min_width": null,
            "object_fit": null,
            "object_position": null,
            "order": null,
            "overflow": null,
            "overflow_x": null,
            "overflow_y": null,
            "padding": null,
            "right": null,
            "top": null,
            "visibility": null,
            "width": null
          }
        },
        "b484b4f6a5894ddeb0bfcaec75d85971": {
          "model_module": "@jupyter-widgets/controls",
          "model_name": "DescriptionStyleModel",
          "model_module_version": "1.5.0",
          "state": {
            "_model_module": "@jupyter-widgets/controls",
            "_model_module_version": "1.5.0",
            "_model_name": "DescriptionStyleModel",
            "_view_count": null,
            "_view_module": "@jupyter-widgets/base",
            "_view_module_version": "1.2.0",
            "_view_name": "StyleView",
            "description_width": ""
          }
        },
        "7fc53c9b375040d98cb29ef3bb509a69": {
          "model_module": "@jupyter-widgets/base",
          "model_name": "LayoutModel",
          "model_module_version": "1.2.0",
          "state": {
            "_model_module": "@jupyter-widgets/base",
            "_model_module_version": "1.2.0",
            "_model_name": "LayoutModel",
            "_view_count": null,
            "_view_module": "@jupyter-widgets/base",
            "_view_module_version": "1.2.0",
            "_view_name": "LayoutView",
            "align_content": null,
            "align_items": null,
            "align_self": null,
            "border": null,
            "bottom": null,
            "display": null,
            "flex": null,
            "flex_flow": null,
            "grid_area": null,
            "grid_auto_columns": null,
            "grid_auto_flow": null,
            "grid_auto_rows": null,
            "grid_column": null,
            "grid_gap": null,
            "grid_row": null,
            "grid_template_areas": null,
            "grid_template_columns": null,
            "grid_template_rows": null,
            "height": null,
            "justify_content": null,
            "justify_items": null,
            "left": null,
            "margin": null,
            "max_height": null,
            "max_width": null,
            "min_height": null,
            "min_width": null,
            "object_fit": null,
            "object_position": null,
            "order": null,
            "overflow": null,
            "overflow_x": null,
            "overflow_y": null,
            "padding": null,
            "right": null,
            "top": null,
            "visibility": null,
            "width": null
          }
        },
        "157694bad274480387624b64c6cae7a8": {
          "model_module": "@jupyter-widgets/controls",
          "model_name": "ProgressStyleModel",
          "model_module_version": "1.5.0",
          "state": {
            "_model_module": "@jupyter-widgets/controls",
            "_model_module_version": "1.5.0",
            "_model_name": "ProgressStyleModel",
            "_view_count": null,
            "_view_module": "@jupyter-widgets/base",
            "_view_module_version": "1.2.0",
            "_view_name": "StyleView",
            "bar_color": null,
            "description_width": ""
          }
        },
        "1e3c1868547c4a35851d6b974929268f": {
          "model_module": "@jupyter-widgets/base",
          "model_name": "LayoutModel",
          "model_module_version": "1.2.0",
          "state": {
            "_model_module": "@jupyter-widgets/base",
            "_model_module_version": "1.2.0",
            "_model_name": "LayoutModel",
            "_view_count": null,
            "_view_module": "@jupyter-widgets/base",
            "_view_module_version": "1.2.0",
            "_view_name": "LayoutView",
            "align_content": null,
            "align_items": null,
            "align_self": null,
            "border": null,
            "bottom": null,
            "display": null,
            "flex": null,
            "flex_flow": null,
            "grid_area": null,
            "grid_auto_columns": null,
            "grid_auto_flow": null,
            "grid_auto_rows": null,
            "grid_column": null,
            "grid_gap": null,
            "grid_row": null,
            "grid_template_areas": null,
            "grid_template_columns": null,
            "grid_template_rows": null,
            "height": null,
            "justify_content": null,
            "justify_items": null,
            "left": null,
            "margin": null,
            "max_height": null,
            "max_width": null,
            "min_height": null,
            "min_width": null,
            "object_fit": null,
            "object_position": null,
            "order": null,
            "overflow": null,
            "overflow_x": null,
            "overflow_y": null,
            "padding": null,
            "right": null,
            "top": null,
            "visibility": null,
            "width": null
          }
        },
        "7166529e9308400b925527ef4db79407": {
          "model_module": "@jupyter-widgets/controls",
          "model_name": "DescriptionStyleModel",
          "model_module_version": "1.5.0",
          "state": {
            "_model_module": "@jupyter-widgets/controls",
            "_model_module_version": "1.5.0",
            "_model_name": "DescriptionStyleModel",
            "_view_count": null,
            "_view_module": "@jupyter-widgets/base",
            "_view_module_version": "1.2.0",
            "_view_name": "StyleView",
            "description_width": ""
          }
        },
        "fa5e8c2654aa4a23a557dcb3fb74e1fb": {
          "model_module": "@jupyter-widgets/controls",
          "model_name": "HBoxModel",
          "model_module_version": "1.5.0",
          "state": {
            "_dom_classes": [],
            "_model_module": "@jupyter-widgets/controls",
            "_model_module_version": "1.5.0",
            "_model_name": "HBoxModel",
            "_view_count": null,
            "_view_module": "@jupyter-widgets/controls",
            "_view_module_version": "1.5.0",
            "_view_name": "HBoxView",
            "box_style": "",
            "children": [
              "IPY_MODEL_98befb4386d341ab93a54e850d19b2a5",
              "IPY_MODEL_8cd5f0e851b74a0eb0ec37d4b25a66ee",
              "IPY_MODEL_0e5ab3cc6a3b42f4a7f76daa4bf32e2d"
            ],
            "layout": "IPY_MODEL_54cd4051a6a14ef580aad4077d91fcf6"
          }
        },
        "98befb4386d341ab93a54e850d19b2a5": {
          "model_module": "@jupyter-widgets/controls",
          "model_name": "HTMLModel",
          "model_module_version": "1.5.0",
          "state": {
            "_dom_classes": [],
            "_model_module": "@jupyter-widgets/controls",
            "_model_module_version": "1.5.0",
            "_model_name": "HTMLModel",
            "_view_count": null,
            "_view_module": "@jupyter-widgets/controls",
            "_view_module_version": "1.5.0",
            "_view_name": "HTMLView",
            "description": "",
            "description_tooltip": null,
            "layout": "IPY_MODEL_5d3dd759bce043e790e3dcb9b52bbda7",
            "placeholder": "​",
            "style": "IPY_MODEL_4ce5489870194a16b029115d82d6ca1c",
            "value": "vocab.txt: 100%"
          }
        },
        "8cd5f0e851b74a0eb0ec37d4b25a66ee": {
          "model_module": "@jupyter-widgets/controls",
          "model_name": "FloatProgressModel",
          "model_module_version": "1.5.0",
          "state": {
            "_dom_classes": [],
            "_model_module": "@jupyter-widgets/controls",
            "_model_module_version": "1.5.0",
            "_model_name": "FloatProgressModel",
            "_view_count": null,
            "_view_module": "@jupyter-widgets/controls",
            "_view_module_version": "1.5.0",
            "_view_name": "ProgressView",
            "bar_style": "success",
            "description": "",
            "description_tooltip": null,
            "layout": "IPY_MODEL_887ae255ad9d4b8d9e39a2b77584833c",
            "max": 226122,
            "min": 0,
            "orientation": "horizontal",
            "style": "IPY_MODEL_e95d6a1342de41e98b246312895b0b0d",
            "value": 226122
          }
        },
        "0e5ab3cc6a3b42f4a7f76daa4bf32e2d": {
          "model_module": "@jupyter-widgets/controls",
          "model_name": "HTMLModel",
          "model_module_version": "1.5.0",
          "state": {
            "_dom_classes": [],
            "_model_module": "@jupyter-widgets/controls",
            "_model_module_version": "1.5.0",
            "_model_name": "HTMLModel",
            "_view_count": null,
            "_view_module": "@jupyter-widgets/controls",
            "_view_module_version": "1.5.0",
            "_view_name": "HTMLView",
            "description": "",
            "description_tooltip": null,
            "layout": "IPY_MODEL_6a23137ba70849e881685dd30aeef7a1",
            "placeholder": "​",
            "style": "IPY_MODEL_1950b60182e745b0ba30cefd1b2062da",
            "value": " 226k/226k [00:00&lt;00:00, 3.31MB/s]"
          }
        },
        "54cd4051a6a14ef580aad4077d91fcf6": {
          "model_module": "@jupyter-widgets/base",
          "model_name": "LayoutModel",
          "model_module_version": "1.2.0",
          "state": {
            "_model_module": "@jupyter-widgets/base",
            "_model_module_version": "1.2.0",
            "_model_name": "LayoutModel",
            "_view_count": null,
            "_view_module": "@jupyter-widgets/base",
            "_view_module_version": "1.2.0",
            "_view_name": "LayoutView",
            "align_content": null,
            "align_items": null,
            "align_self": null,
            "border": null,
            "bottom": null,
            "display": null,
            "flex": null,
            "flex_flow": null,
            "grid_area": null,
            "grid_auto_columns": null,
            "grid_auto_flow": null,
            "grid_auto_rows": null,
            "grid_column": null,
            "grid_gap": null,
            "grid_row": null,
            "grid_template_areas": null,
            "grid_template_columns": null,
            "grid_template_rows": null,
            "height": null,
            "justify_content": null,
            "justify_items": null,
            "left": null,
            "margin": null,
            "max_height": null,
            "max_width": null,
            "min_height": null,
            "min_width": null,
            "object_fit": null,
            "object_position": null,
            "order": null,
            "overflow": null,
            "overflow_x": null,
            "overflow_y": null,
            "padding": null,
            "right": null,
            "top": null,
            "visibility": null,
            "width": null
          }
        },
        "5d3dd759bce043e790e3dcb9b52bbda7": {
          "model_module": "@jupyter-widgets/base",
          "model_name": "LayoutModel",
          "model_module_version": "1.2.0",
          "state": {
            "_model_module": "@jupyter-widgets/base",
            "_model_module_version": "1.2.0",
            "_model_name": "LayoutModel",
            "_view_count": null,
            "_view_module": "@jupyter-widgets/base",
            "_view_module_version": "1.2.0",
            "_view_name": "LayoutView",
            "align_content": null,
            "align_items": null,
            "align_self": null,
            "border": null,
            "bottom": null,
            "display": null,
            "flex": null,
            "flex_flow": null,
            "grid_area": null,
            "grid_auto_columns": null,
            "grid_auto_flow": null,
            "grid_auto_rows": null,
            "grid_column": null,
            "grid_gap": null,
            "grid_row": null,
            "grid_template_areas": null,
            "grid_template_columns": null,
            "grid_template_rows": null,
            "height": null,
            "justify_content": null,
            "justify_items": null,
            "left": null,
            "margin": null,
            "max_height": null,
            "max_width": null,
            "min_height": null,
            "min_width": null,
            "object_fit": null,
            "object_position": null,
            "order": null,
            "overflow": null,
            "overflow_x": null,
            "overflow_y": null,
            "padding": null,
            "right": null,
            "top": null,
            "visibility": null,
            "width": null
          }
        },
        "4ce5489870194a16b029115d82d6ca1c": {
          "model_module": "@jupyter-widgets/controls",
          "model_name": "DescriptionStyleModel",
          "model_module_version": "1.5.0",
          "state": {
            "_model_module": "@jupyter-widgets/controls",
            "_model_module_version": "1.5.0",
            "_model_name": "DescriptionStyleModel",
            "_view_count": null,
            "_view_module": "@jupyter-widgets/base",
            "_view_module_version": "1.2.0",
            "_view_name": "StyleView",
            "description_width": ""
          }
        },
        "887ae255ad9d4b8d9e39a2b77584833c": {
          "model_module": "@jupyter-widgets/base",
          "model_name": "LayoutModel",
          "model_module_version": "1.2.0",
          "state": {
            "_model_module": "@jupyter-widgets/base",
            "_model_module_version": "1.2.0",
            "_model_name": "LayoutModel",
            "_view_count": null,
            "_view_module": "@jupyter-widgets/base",
            "_view_module_version": "1.2.0",
            "_view_name": "LayoutView",
            "align_content": null,
            "align_items": null,
            "align_self": null,
            "border": null,
            "bottom": null,
            "display": null,
            "flex": null,
            "flex_flow": null,
            "grid_area": null,
            "grid_auto_columns": null,
            "grid_auto_flow": null,
            "grid_auto_rows": null,
            "grid_column": null,
            "grid_gap": null,
            "grid_row": null,
            "grid_template_areas": null,
            "grid_template_columns": null,
            "grid_template_rows": null,
            "height": null,
            "justify_content": null,
            "justify_items": null,
            "left": null,
            "margin": null,
            "max_height": null,
            "max_width": null,
            "min_height": null,
            "min_width": null,
            "object_fit": null,
            "object_position": null,
            "order": null,
            "overflow": null,
            "overflow_x": null,
            "overflow_y": null,
            "padding": null,
            "right": null,
            "top": null,
            "visibility": null,
            "width": null
          }
        },
        "e95d6a1342de41e98b246312895b0b0d": {
          "model_module": "@jupyter-widgets/controls",
          "model_name": "ProgressStyleModel",
          "model_module_version": "1.5.0",
          "state": {
            "_model_module": "@jupyter-widgets/controls",
            "_model_module_version": "1.5.0",
            "_model_name": "ProgressStyleModel",
            "_view_count": null,
            "_view_module": "@jupyter-widgets/base",
            "_view_module_version": "1.2.0",
            "_view_name": "StyleView",
            "bar_color": null,
            "description_width": ""
          }
        },
        "6a23137ba70849e881685dd30aeef7a1": {
          "model_module": "@jupyter-widgets/base",
          "model_name": "LayoutModel",
          "model_module_version": "1.2.0",
          "state": {
            "_model_module": "@jupyter-widgets/base",
            "_model_module_version": "1.2.0",
            "_model_name": "LayoutModel",
            "_view_count": null,
            "_view_module": "@jupyter-widgets/base",
            "_view_module_version": "1.2.0",
            "_view_name": "LayoutView",
            "align_content": null,
            "align_items": null,
            "align_self": null,
            "border": null,
            "bottom": null,
            "display": null,
            "flex": null,
            "flex_flow": null,
            "grid_area": null,
            "grid_auto_columns": null,
            "grid_auto_flow": null,
            "grid_auto_rows": null,
            "grid_column": null,
            "grid_gap": null,
            "grid_row": null,
            "grid_template_areas": null,
            "grid_template_columns": null,
            "grid_template_rows": null,
            "height": null,
            "justify_content": null,
            "justify_items": null,
            "left": null,
            "margin": null,
            "max_height": null,
            "max_width": null,
            "min_height": null,
            "min_width": null,
            "object_fit": null,
            "object_position": null,
            "order": null,
            "overflow": null,
            "overflow_x": null,
            "overflow_y": null,
            "padding": null,
            "right": null,
            "top": null,
            "visibility": null,
            "width": null
          }
        },
        "1950b60182e745b0ba30cefd1b2062da": {
          "model_module": "@jupyter-widgets/controls",
          "model_name": "DescriptionStyleModel",
          "model_module_version": "1.5.0",
          "state": {
            "_model_module": "@jupyter-widgets/controls",
            "_model_module_version": "1.5.0",
            "_model_name": "DescriptionStyleModel",
            "_view_count": null,
            "_view_module": "@jupyter-widgets/base",
            "_view_module_version": "1.2.0",
            "_view_name": "StyleView",
            "description_width": ""
          }
        }
      }
    }
  },
  "cells": [
    {
      "cell_type": "markdown",
      "metadata": {
        "id": "view-in-github",
        "colab_type": "text"
      },
      "source": [
        "<a href=\"https://colab.research.google.com/github/GaetanAm/Sentiment-Analysis-and-Impact-on-Financial-Markets/blob/main/notebooks/Stage1.ipynb\" target=\"_parent\"><img src=\"https://colab.research.google.com/assets/colab-badge.svg\" alt=\"Open In Colab\"/></a>"
      ]
    },
    {
      "cell_type": "markdown",
      "source": [
        "# **Stage 1: Machine Learning Project Notebook**"
      ],
      "metadata": {
        "id": "yZG6nB0WdeMf"
      }
    },
    {
      "cell_type": "markdown",
      "source": [
        "## **1. Introduction**\n",
        "This notebook focuses on analyzing the impact of financial sentiments (from news articles and tweets) on stock price movements.\n",
        "\n",
        "The goal is to evaluate whether sentiment trends can predict price changes and their strength."
      ],
      "metadata": {
        "id": "IhB2NpAV_z1W"
      }
    },
    {
      "cell_type": "code",
      "source": [
        "# Required Libraries\n",
        "import pandas as pd\n",
        "import requests\n",
        "import numpy as np\n",
        "import matplotlib.pyplot as plt\n",
        "import seaborn as sns\n",
        "import tweepy\n",
        "import snscrape.modules.twitter as sntwitter\n",
        "from datetime import datetime, timedelta\n",
        "from google.colab import files\n",
        "from huggingface_hub import login\n",
        "from sklearn.model_selection import train_test_split\n",
        "from sklearn.linear_model import LinearRegression\n",
        "from sklearn.metrics import accuracy_score, f1_score, precision_score, recall_score, mean_squared_error, r2_score\n",
        "from sklearn.ensemble import RandomForestRegressor\n",
        "from transformers import pipeline\n",
        "from google.colab import userdata\n",
        "\n",
        "\n",
        "\n",
        "# Installer et importer yfinance pour récupérer les données boursières\n",
        "import yfinance as yf\n"
      ],
      "metadata": {
        "id": "hJL2h7VAdo1Z"
      },
      "execution_count": 3,
      "outputs": []
    },
    {
      "cell_type": "markdown",
      "source": [
        "## **2. Problem Formalization and ML Tasks**\n",
        "Objective:\n",
        "- Predict stock price movement based on sentiment analysis of financial news and tweets.\n",
        "\n",
        "ML Tasks:\n",
        "- Sentiment Classification.\n",
        "- Correlation and Regression Analysis.\n",
        "\n",
        "Models Chosen:\n",
        "- Twitter-roBERTa-base for tweets.\n",
        "- FinBERT for structured financial news.\n",
        "- Regression models to correlate sentiment scores with stock price changes."
      ],
      "metadata": {
        "id": "VPM8xkbze6jB"
      }
    },
    {
      "cell_type": "markdown",
      "source": [
        "## **3. Creation of the datasets**"
      ],
      "metadata": {
        "id": "5s7d-c6FfM4r"
      }
    },
    {
      "cell_type": "markdown",
      "source": [
        "### TWEETS DATASET"
      ],
      "metadata": {
        "id": "eduIi81Oi7j7"
      }
    },
    {
      "cell_type": "code",
      "source": [
        "# API key and configuration\n",
        "consumer_key_X = userdata.get('X_CONSUMER_KEY')\n",
        "consumer_secret_X = userdata.get('X_CONSUMER_SEC')\n",
        "access_token_X = userdata.get('X_TOKEN_ACCESS')\n",
        "access_token_secret_X = userdata.get('X_TOKEN_SECRET')\n",
        "\n",
        "# Authenticate with Twitter\n",
        "auth = tweepy.OAuthHandler(consumer_key_X, consumer_secret_X)\n",
        "auth.set_access_token(access_token_X, access_token_secret_X)\n",
        "api = tweepy.API(auth)\n",
        "\n",
        "# Example\n",
        "tweets = api.search_tweets(q=\"Apple OR AAPL\", lang=\"en\", count=5)\n",
        "for tweet in tweets:\n",
        "    print(tweet.text)"
      ],
      "metadata": {
        "colab": {
          "base_uri": "https://localhost:8080/",
          "height": 408
        },
        "id": "9VjP-SMffaUI",
        "outputId": "fc718e65-f16c-4186-8641-34853e2e79a0"
      },
      "execution_count": null,
      "outputs": [
        {
          "output_type": "error",
          "ename": "Forbidden",
          "evalue": "403 Forbidden\n453 - You currently have access to a subset of X API V2 endpoints and limited v1.1 endpoints (e.g. media post, oauth) only. If you need access to this endpoint, you may need a different access level. You can learn more here: https://developer.x.com/en/portal/product",
          "traceback": [
            "\u001b[0;31m---------------------------------------------------------------------------\u001b[0m",
            "\u001b[0;31mForbidden\u001b[0m                                 Traceback (most recent call last)",
            "\u001b[0;32m<ipython-input-143-8c6c38e84d47>\u001b[0m in \u001b[0;36m<cell line: 13>\u001b[0;34m()\u001b[0m\n\u001b[1;32m     11\u001b[0m \u001b[0;34m\u001b[0m\u001b[0m\n\u001b[1;32m     12\u001b[0m \u001b[0;31m# Example\u001b[0m\u001b[0;34m\u001b[0m\u001b[0;34m\u001b[0m\u001b[0m\n\u001b[0;32m---> 13\u001b[0;31m \u001b[0mtweets\u001b[0m \u001b[0;34m=\u001b[0m \u001b[0mapi\u001b[0m\u001b[0;34m.\u001b[0m\u001b[0msearch_tweets\u001b[0m\u001b[0;34m(\u001b[0m\u001b[0mq\u001b[0m\u001b[0;34m=\u001b[0m\u001b[0;34m\"Apple OR AAPL\"\u001b[0m\u001b[0;34m,\u001b[0m \u001b[0mlang\u001b[0m\u001b[0;34m=\u001b[0m\u001b[0;34m\"en\"\u001b[0m\u001b[0;34m,\u001b[0m \u001b[0mcount\u001b[0m\u001b[0;34m=\u001b[0m\u001b[0;36m5\u001b[0m\u001b[0;34m)\u001b[0m\u001b[0;34m\u001b[0m\u001b[0;34m\u001b[0m\u001b[0m\n\u001b[0m\u001b[1;32m     14\u001b[0m \u001b[0;32mfor\u001b[0m \u001b[0mtweet\u001b[0m \u001b[0;32min\u001b[0m \u001b[0mtweets\u001b[0m\u001b[0;34m:\u001b[0m\u001b[0;34m\u001b[0m\u001b[0;34m\u001b[0m\u001b[0m\n\u001b[1;32m     15\u001b[0m     \u001b[0mprint\u001b[0m\u001b[0;34m(\u001b[0m\u001b[0mtweet\u001b[0m\u001b[0;34m.\u001b[0m\u001b[0mtext\u001b[0m\u001b[0;34m)\u001b[0m\u001b[0;34m\u001b[0m\u001b[0;34m\u001b[0m\u001b[0m\n",
            "\u001b[0;32m/usr/local/lib/python3.10/dist-packages/tweepy/api.py\u001b[0m in \u001b[0;36mwrapper\u001b[0;34m(*args, **kwargs)\u001b[0m\n\u001b[1;32m     31\u001b[0m         \u001b[0;34m@\u001b[0m\u001b[0mfunctools\u001b[0m\u001b[0;34m.\u001b[0m\u001b[0mwraps\u001b[0m\u001b[0;34m(\u001b[0m\u001b[0mmethod\u001b[0m\u001b[0;34m)\u001b[0m\u001b[0;34m\u001b[0m\u001b[0;34m\u001b[0m\u001b[0m\n\u001b[1;32m     32\u001b[0m         \u001b[0;32mdef\u001b[0m \u001b[0mwrapper\u001b[0m\u001b[0;34m(\u001b[0m\u001b[0;34m*\u001b[0m\u001b[0margs\u001b[0m\u001b[0;34m,\u001b[0m \u001b[0;34m**\u001b[0m\u001b[0mkwargs\u001b[0m\u001b[0;34m)\u001b[0m\u001b[0;34m:\u001b[0m\u001b[0;34m\u001b[0m\u001b[0;34m\u001b[0m\u001b[0m\n\u001b[0;32m---> 33\u001b[0;31m             \u001b[0;32mreturn\u001b[0m \u001b[0mmethod\u001b[0m\u001b[0;34m(\u001b[0m\u001b[0;34m*\u001b[0m\u001b[0margs\u001b[0m\u001b[0;34m,\u001b[0m \u001b[0;34m**\u001b[0m\u001b[0mkwargs\u001b[0m\u001b[0;34m)\u001b[0m\u001b[0;34m\u001b[0m\u001b[0;34m\u001b[0m\u001b[0m\n\u001b[0m\u001b[1;32m     34\u001b[0m         \u001b[0mwrapper\u001b[0m\u001b[0;34m.\u001b[0m\u001b[0mpagination_mode\u001b[0m \u001b[0;34m=\u001b[0m \u001b[0mmode\u001b[0m\u001b[0;34m\u001b[0m\u001b[0;34m\u001b[0m\u001b[0m\n\u001b[1;32m     35\u001b[0m         \u001b[0;32mreturn\u001b[0m \u001b[0mwrapper\u001b[0m\u001b[0;34m\u001b[0m\u001b[0;34m\u001b[0m\u001b[0m\n",
            "\u001b[0;32m/usr/local/lib/python3.10/dist-packages/tweepy/api.py\u001b[0m in \u001b[0;36mwrapper\u001b[0;34m(*args, **kwargs)\u001b[0m\n\u001b[1;32m     44\u001b[0m             \u001b[0mkwargs\u001b[0m\u001b[0;34m[\u001b[0m\u001b[0;34m'payload_list'\u001b[0m\u001b[0;34m]\u001b[0m \u001b[0;34m=\u001b[0m \u001b[0mpayload_list\u001b[0m\u001b[0;34m\u001b[0m\u001b[0;34m\u001b[0m\u001b[0m\n\u001b[1;32m     45\u001b[0m             \u001b[0mkwargs\u001b[0m\u001b[0;34m[\u001b[0m\u001b[0;34m'payload_type'\u001b[0m\u001b[0;34m]\u001b[0m \u001b[0;34m=\u001b[0m \u001b[0mpayload_type\u001b[0m\u001b[0;34m\u001b[0m\u001b[0;34m\u001b[0m\u001b[0m\n\u001b[0;32m---> 46\u001b[0;31m             \u001b[0;32mreturn\u001b[0m \u001b[0mmethod\u001b[0m\u001b[0;34m(\u001b[0m\u001b[0;34m*\u001b[0m\u001b[0margs\u001b[0m\u001b[0;34m,\u001b[0m \u001b[0;34m**\u001b[0m\u001b[0mkwargs\u001b[0m\u001b[0;34m)\u001b[0m\u001b[0;34m\u001b[0m\u001b[0;34m\u001b[0m\u001b[0m\n\u001b[0m\u001b[1;32m     47\u001b[0m         \u001b[0mwrapper\u001b[0m\u001b[0;34m.\u001b[0m\u001b[0mpayload_list\u001b[0m \u001b[0;34m=\u001b[0m \u001b[0mpayload_list\u001b[0m\u001b[0;34m\u001b[0m\u001b[0;34m\u001b[0m\u001b[0m\n\u001b[1;32m     48\u001b[0m         \u001b[0mwrapper\u001b[0m\u001b[0;34m.\u001b[0m\u001b[0mpayload_type\u001b[0m \u001b[0;34m=\u001b[0m \u001b[0mpayload_type\u001b[0m\u001b[0;34m\u001b[0m\u001b[0;34m\u001b[0m\u001b[0m\n",
            "\u001b[0;32m/usr/local/lib/python3.10/dist-packages/tweepy/api.py\u001b[0m in \u001b[0;36msearch_tweets\u001b[0;34m(self, q, **kwargs)\u001b[0m\n\u001b[1;32m   1144\u001b[0m         \u001b[0;34m.\u001b[0m\u001b[0;34m.\u001b[0m \u001b[0m_Twitter\u001b[0m\u001b[0;31m'\u001b[0m\u001b[0ms\u001b[0m \u001b[0mdocumentation\u001b[0m \u001b[0mon\u001b[0m \u001b[0mthe\u001b[0m \u001b[0mstandard\u001b[0m \u001b[0msearch\u001b[0m \u001b[0mAPI\u001b[0m\u001b[0;34m:\u001b[0m \u001b[0mhttps\u001b[0m\u001b[0;34m:\u001b[0m\u001b[0;34m//\u001b[0m\u001b[0mdeveloper\u001b[0m\u001b[0;34m.\u001b[0m\u001b[0mtwitter\u001b[0m\u001b[0;34m.\u001b[0m\u001b[0mcom\u001b[0m\u001b[0;34m/\u001b[0m\u001b[0men\u001b[0m\u001b[0;34m/\u001b[0m\u001b[0mdocs\u001b[0m\u001b[0;34m/\u001b[0m\u001b[0mtwitter\u001b[0m\u001b[0;34m-\u001b[0m\u001b[0mapi\u001b[0m\u001b[0;34m/\u001b[0m\u001b[0mv1\u001b[0m\u001b[0;34m/\u001b[0m\u001b[0mtweets\u001b[0m\u001b[0;34m/\u001b[0m\u001b[0msearch\u001b[0m\u001b[0;34m/\u001b[0m\u001b[0moverview\u001b[0m\u001b[0;34m\u001b[0m\u001b[0;34m\u001b[0m\u001b[0m\n\u001b[1;32m   1145\u001b[0m         \"\"\"\n\u001b[0;32m-> 1146\u001b[0;31m         return self.request(\n\u001b[0m\u001b[1;32m   1147\u001b[0m             'GET', 'search/tweets', endpoint_parameters=(\n\u001b[1;32m   1148\u001b[0m                 \u001b[0;34m'q'\u001b[0m\u001b[0;34m,\u001b[0m \u001b[0;34m'geocode'\u001b[0m\u001b[0;34m,\u001b[0m \u001b[0;34m'lang'\u001b[0m\u001b[0;34m,\u001b[0m \u001b[0;34m'locale'\u001b[0m\u001b[0;34m,\u001b[0m \u001b[0;34m'result_type'\u001b[0m\u001b[0;34m,\u001b[0m \u001b[0;34m'count'\u001b[0m\u001b[0;34m,\u001b[0m\u001b[0;34m\u001b[0m\u001b[0;34m\u001b[0m\u001b[0m\n",
            "\u001b[0;32m/usr/local/lib/python3.10/dist-packages/tweepy/api.py\u001b[0m in \u001b[0;36mrequest\u001b[0;34m(self, method, endpoint, endpoint_parameters, params, headers, json_payload, parser, payload_list, payload_type, post_data, files, require_auth, return_cursors, upload_api, use_cache, **kwargs)\u001b[0m\n\u001b[1;32m    269\u001b[0m                 \u001b[0;32mraise\u001b[0m \u001b[0mUnauthorized\u001b[0m\u001b[0;34m(\u001b[0m\u001b[0mresp\u001b[0m\u001b[0;34m)\u001b[0m\u001b[0;34m\u001b[0m\u001b[0;34m\u001b[0m\u001b[0m\n\u001b[1;32m    270\u001b[0m             \u001b[0;32mif\u001b[0m \u001b[0mresp\u001b[0m\u001b[0;34m.\u001b[0m\u001b[0mstatus_code\u001b[0m \u001b[0;34m==\u001b[0m \u001b[0;36m403\u001b[0m\u001b[0;34m:\u001b[0m\u001b[0;34m\u001b[0m\u001b[0;34m\u001b[0m\u001b[0m\n\u001b[0;32m--> 271\u001b[0;31m                 \u001b[0;32mraise\u001b[0m \u001b[0mForbidden\u001b[0m\u001b[0;34m(\u001b[0m\u001b[0mresp\u001b[0m\u001b[0;34m)\u001b[0m\u001b[0;34m\u001b[0m\u001b[0;34m\u001b[0m\u001b[0m\n\u001b[0m\u001b[1;32m    272\u001b[0m             \u001b[0;32mif\u001b[0m \u001b[0mresp\u001b[0m\u001b[0;34m.\u001b[0m\u001b[0mstatus_code\u001b[0m \u001b[0;34m==\u001b[0m \u001b[0;36m404\u001b[0m\u001b[0;34m:\u001b[0m\u001b[0;34m\u001b[0m\u001b[0;34m\u001b[0m\u001b[0m\n\u001b[1;32m    273\u001b[0m                 \u001b[0;32mraise\u001b[0m \u001b[0mNotFound\u001b[0m\u001b[0;34m(\u001b[0m\u001b[0mresp\u001b[0m\u001b[0;34m)\u001b[0m\u001b[0;34m\u001b[0m\u001b[0;34m\u001b[0m\u001b[0m\n",
            "\u001b[0;31mForbidden\u001b[0m: 403 Forbidden\n453 - You currently have access to a subset of X API V2 endpoints and limited v1.1 endpoints (e.g. media post, oauth) only. If you need access to this endpoint, you may need a different access level. You can learn more here: https://developer.x.com/en/portal/product"
          ]
        }
      ]
    },
    {
      "cell_type": "code",
      "source": [
        "# Twitter API v2 key\n",
        "bearer_token = userdata.get('X_BEARER_TOKEN')\n",
        "\n",
        "# Create a client using Twitter API v2\n",
        "client = tweepy.Client(bearer_token=bearer_token)\n",
        "\n",
        "# Search recent tweets\n",
        "query = \"Apple OR AAPL lang:en\"\n",
        "tweets = client.search_recent_tweets(query=query, max_results=10)\n",
        "\n",
        "for tweet in tweets.data:\n",
        "    print(tweet.text)"
      ],
      "metadata": {
        "colab": {
          "base_uri": "https://localhost:8080/"
        },
        "id": "tEVKBbV2jTCB",
        "outputId": "5fb18310-5499-4606-b154-87e043849310"
      },
      "execution_count": null,
      "outputs": [
        {
          "output_type": "stream",
          "name": "stdout",
          "text": [
            "RT @TomJumboGrumbo: A puppy who only became available for adoption on Dec 18, Ebenezer #247668 is now at risk TBK in Apple Valley CA. Just…\n",
            "apple tv PLS im gonna cry https://t.co/ijVCUXFX7c\n",
            "RT @treblewoe: Since Silicon Valley hiring has everyone’s attention, here’s the experience of someone who was a hiring manager for over a d…\n",
            "It’s really amazing Place,\n",
            "Lot of thanks to this community...👇 \n",
            "https://t.co/WUfz59GZw8\n",
            "\n",
            "$TCEHY $RKT $FB $UBER $AYX $DDOG $BABA $BNGO $AAPL $TSLA https://t.co/LsJULaRyCG\n",
            "@Lordmangu @ira_mae0204 Can I cashapp you or Apple Pay you sum if yes drop your cashapp tag..... I’m fr\n",
            "RT @akiko_lawson: ＼ローソン × Mrs. GREEN APPLE／\n",
            "キャンペーン開催記念！\n",
            "@akiko_lawsonをフォローし「#ローソン_MGA」とコメントを入れて引用ポスト♪\n",
            "抽選で1名様にQUOカード1万円分が当たります(^^)\n",
            "#ローソン #Mr…\n",
            "This little scumbag CIA agent of a president is the worst human being on the planet Earth. Hold the alien hostage. Sell state secrets. Wreck the United States of America. The Nazi apple didn't fall far from the tree. https://t.co/eRWoAUcB8a\n",
            "@Apple_Dog_Sol @artsch00lreject 🍎🐶♾️\n",
            "RT @btsarmystreamer: Blue Side Outro PLs by @bts_tassie\n",
            "🟢https://t.co/dMFexqklmT\n",
            "\n",
            "🍎https://t.co/9TVCN5YN4m\n",
            "\n",
            "📦\n",
            "https://t.co/jPkO823MMn https…\n",
            "Our traders are seeing success with $SPY!\n",
            "\n",
            "https://t.co/7c9EUHKqQL\n",
            "\n",
            "$PARA $ANVS $DOYU $KOSS $STZ $TSLA $RDDT $ICU $IVP $VVPR $CNSP $IMMX $POET $QQQ $ZCAR $MULN $AAPL $AMZN $AMC https://t.co/eMelkczSya\n"
          ]
        }
      ]
    },
    {
      "cell_type": "markdown",
      "source": [
        "\n",
        "\n",
        "\n",
        "---\n",
        "\n",
        "\n",
        "**Apparently, the Tweepy library no longer works as expected due to the removal of free access to the Twitter API.**\n",
        "\n",
        "An alternative using Twitter API v2 initially worked, but we encountered severe limitations due to request rate restrictions.\n",
        "\n",
        "Ultimately, this resulted in the following error:\n",
        "\n",
        "> TooManyRequests: 429 Too Many Requests.\n",
        "\n",
        "\n",
        "---\n"
      ],
      "metadata": {
        "id": "2GUlnMCsiRc1"
      }
    },
    {
      "cell_type": "code",
      "source": [
        "# Set up query and list to store tweets\n",
        "query = \"Apple OR AAPL lang:en\"\n",
        "tweets = []\n",
        "\n",
        "# Collect tweets with snscrape\n",
        "for tweet in sntwitter.TwitterSearchScraper(f\"{query}\").get_items():\n",
        "    if len(tweets) >= 10:  # Limit the number of tweets to collect\n",
        "        break\n",
        "    tweets.append(tweet.content)\n",
        "\n",
        "# Display collected tweets\n",
        "for tweet in tweets:\n",
        "    print(tweet)"
      ],
      "metadata": {
        "colab": {
          "base_uri": "https://localhost:8080/",
          "height": 428
        },
        "id": "nh6wPbQXksVK",
        "outputId": "77505a90-8a64-4da5-d0db-c9ef10e32642"
      },
      "execution_count": null,
      "outputs": [
        {
          "output_type": "stream",
          "name": "stderr",
          "text": [
            "ERROR:snscrape.base:Error retrieving https://twitter.com/search?f=live&lang=en&q=Apple+OR+AAPL+lang%3Aen&src=spelling_expansion_revert_click: SSLError(MaxRetryError(\"HTTPSConnectionPool(host='twitter.com', port=443): Max retries exceeded with url: /search?f=live&lang=en&q=Apple+OR+AAPL+lang%3Aen&src=spelling_expansion_revert_click (Caused by SSLError(SSLCertVerificationError(1, '[SSL: CERTIFICATE_VERIFY_FAILED] certificate verify failed: unable to get local issuer certificate (_ssl.c:1007)')))\"))\n",
            "CRITICAL:snscrape.base:4 requests to https://twitter.com/search?f=live&lang=en&q=Apple+OR+AAPL+lang%3Aen&src=spelling_expansion_revert_click failed, giving up.\n",
            "CRITICAL:snscrape.base:Errors: SSLError(MaxRetryError(\"HTTPSConnectionPool(host='twitter.com', port=443): Max retries exceeded with url: /search?f=live&lang=en&q=Apple+OR+AAPL+lang%3Aen&src=spelling_expansion_revert_click (Caused by SSLError(SSLCertVerificationError(1, '[SSL: CERTIFICATE_VERIFY_FAILED] certificate verify failed: unable to get local issuer certificate (_ssl.c:1007)')))\")), SSLError(MaxRetryError(\"HTTPSConnectionPool(host='twitter.com', port=443): Max retries exceeded with url: /search?f=live&lang=en&q=Apple+OR+AAPL+lang%3Aen&src=spelling_expansion_revert_click (Caused by SSLError(SSLCertVerificationError(1, '[SSL: CERTIFICATE_VERIFY_FAILED] certificate verify failed: unable to get local issuer certificate (_ssl.c:1007)')))\")), SSLError(MaxRetryError(\"HTTPSConnectionPool(host='twitter.com', port=443): Max retries exceeded with url: /search?f=live&lang=en&q=Apple+OR+AAPL+lang%3Aen&src=spelling_expansion_revert_click (Caused by SSLError(SSLCertVerificationError(1, '[SSL: CERTIFICATE_VERIFY_FAILED] certificate verify failed: unable to get local issuer certificate (_ssl.c:1007)')))\")), SSLError(MaxRetryError(\"HTTPSConnectionPool(host='twitter.com', port=443): Max retries exceeded with url: /search?f=live&lang=en&q=Apple+OR+AAPL+lang%3Aen&src=spelling_expansion_revert_click (Caused by SSLError(SSLCertVerificationError(1, '[SSL: CERTIFICATE_VERIFY_FAILED] certificate verify failed: unable to get local issuer certificate (_ssl.c:1007)')))\"))\n"
          ]
        },
        {
          "output_type": "error",
          "ename": "ScraperException",
          "evalue": "4 requests to https://twitter.com/search?f=live&lang=en&q=Apple+OR+AAPL+lang%3Aen&src=spelling_expansion_revert_click failed, giving up.",
          "traceback": [
            "\u001b[0;31m---------------------------------------------------------------------------\u001b[0m",
            "\u001b[0;31mScraperException\u001b[0m                          Traceback (most recent call last)",
            "\u001b[0;32m<ipython-input-142-ae5441675a8d>\u001b[0m in \u001b[0;36m<cell line: 6>\u001b[0;34m()\u001b[0m\n\u001b[1;32m      4\u001b[0m \u001b[0;34m\u001b[0m\u001b[0m\n\u001b[1;32m      5\u001b[0m \u001b[0;31m# Collect tweets with snscrape\u001b[0m\u001b[0;34m\u001b[0m\u001b[0;34m\u001b[0m\u001b[0m\n\u001b[0;32m----> 6\u001b[0;31m \u001b[0;32mfor\u001b[0m \u001b[0mtweet\u001b[0m \u001b[0;32min\u001b[0m \u001b[0msntwitter\u001b[0m\u001b[0;34m.\u001b[0m\u001b[0mTwitterSearchScraper\u001b[0m\u001b[0;34m(\u001b[0m\u001b[0;34mf\"{query}\"\u001b[0m\u001b[0;34m)\u001b[0m\u001b[0;34m.\u001b[0m\u001b[0mget_items\u001b[0m\u001b[0;34m(\u001b[0m\u001b[0;34m)\u001b[0m\u001b[0;34m:\u001b[0m\u001b[0;34m\u001b[0m\u001b[0;34m\u001b[0m\u001b[0m\n\u001b[0m\u001b[1;32m      7\u001b[0m     \u001b[0;32mif\u001b[0m \u001b[0mlen\u001b[0m\u001b[0;34m(\u001b[0m\u001b[0mtweets\u001b[0m\u001b[0;34m)\u001b[0m \u001b[0;34m>=\u001b[0m \u001b[0;36m10\u001b[0m\u001b[0;34m:\u001b[0m  \u001b[0;31m# Limit the number of tweets to collect\u001b[0m\u001b[0;34m\u001b[0m\u001b[0;34m\u001b[0m\u001b[0m\n\u001b[1;32m      8\u001b[0m         \u001b[0;32mbreak\u001b[0m\u001b[0;34m\u001b[0m\u001b[0;34m\u001b[0m\u001b[0m\n",
            "\u001b[0;32m/usr/local/lib/python3.10/dist-packages/snscrape/modules/twitter.py\u001b[0m in \u001b[0;36mget_items\u001b[0;34m(self)\u001b[0m\n\u001b[1;32m   1761\u001b[0m                 \u001b[0mpaginationParams\u001b[0m \u001b[0;34m=\u001b[0m \u001b[0;34m{\u001b[0m\u001b[0;34m'variables'\u001b[0m\u001b[0;34m:\u001b[0m \u001b[0mpaginationVariables\u001b[0m\u001b[0;34m,\u001b[0m \u001b[0;34m'features'\u001b[0m\u001b[0;34m:\u001b[0m \u001b[0mfeatures\u001b[0m\u001b[0;34m}\u001b[0m\u001b[0;34m\u001b[0m\u001b[0;34m\u001b[0m\u001b[0m\n\u001b[1;32m   1762\u001b[0m \u001b[0;34m\u001b[0m\u001b[0m\n\u001b[0;32m-> 1763\u001b[0;31m                 \u001b[0;32mfor\u001b[0m \u001b[0mobj\u001b[0m \u001b[0;32min\u001b[0m \u001b[0mself\u001b[0m\u001b[0;34m.\u001b[0m\u001b[0m_iter_api_data\u001b[0m\u001b[0;34m(\u001b[0m\u001b[0;34m'https://twitter.com/i/api/graphql/7jT5GT59P8IFjgxwqnEdQw/SearchTimeline'\u001b[0m\u001b[0;34m,\u001b[0m \u001b[0m_TwitterAPIType\u001b[0m\u001b[0;34m.\u001b[0m\u001b[0mGRAPHQL\u001b[0m\u001b[0;34m,\u001b[0m \u001b[0mparams\u001b[0m\u001b[0;34m,\u001b[0m \u001b[0mpaginationParams\u001b[0m\u001b[0;34m,\u001b[0m \u001b[0mcursor\u001b[0m \u001b[0;34m=\u001b[0m \u001b[0mself\u001b[0m\u001b[0;34m.\u001b[0m\u001b[0m_cursor\u001b[0m\u001b[0;34m,\u001b[0m \u001b[0minstructionsPath\u001b[0m \u001b[0;34m=\u001b[0m \u001b[0;34m[\u001b[0m\u001b[0;34m'data'\u001b[0m\u001b[0;34m,\u001b[0m \u001b[0;34m'search_by_raw_query'\u001b[0m\u001b[0;34m,\u001b[0m \u001b[0;34m'search_timeline'\u001b[0m\u001b[0;34m,\u001b[0m \u001b[0;34m'timeline'\u001b[0m\u001b[0;34m,\u001b[0m \u001b[0;34m'instructions'\u001b[0m\u001b[0;34m]\u001b[0m\u001b[0;34m)\u001b[0m\u001b[0;34m:\u001b[0m\u001b[0;34m\u001b[0m\u001b[0;34m\u001b[0m\u001b[0m\n\u001b[0m\u001b[1;32m   1764\u001b[0m                         \u001b[0;32myield\u001b[0m \u001b[0;32mfrom\u001b[0m \u001b[0mself\u001b[0m\u001b[0;34m.\u001b[0m\u001b[0m_graphql_timeline_instructions_to_tweets\u001b[0m\u001b[0;34m(\u001b[0m\u001b[0mobj\u001b[0m\u001b[0;34m[\u001b[0m\u001b[0;34m'data'\u001b[0m\u001b[0;34m]\u001b[0m\u001b[0;34m[\u001b[0m\u001b[0;34m'search_by_raw_query'\u001b[0m\u001b[0;34m]\u001b[0m\u001b[0;34m[\u001b[0m\u001b[0;34m'search_timeline'\u001b[0m\u001b[0;34m]\u001b[0m\u001b[0;34m[\u001b[0m\u001b[0;34m'timeline'\u001b[0m\u001b[0;34m]\u001b[0m\u001b[0;34m[\u001b[0m\u001b[0;34m'instructions'\u001b[0m\u001b[0;34m]\u001b[0m\u001b[0;34m)\u001b[0m\u001b[0;34m\u001b[0m\u001b[0;34m\u001b[0m\u001b[0m\n\u001b[1;32m   1765\u001b[0m \u001b[0;34m\u001b[0m\u001b[0m\n",
            "\u001b[0;32m/usr/local/lib/python3.10/dist-packages/snscrape/modules/twitter.py\u001b[0m in \u001b[0;36m_iter_api_data\u001b[0;34m(self, endpoint, apiType, params, paginationParams, cursor, direction, instructionsPath)\u001b[0m\n\u001b[1;32m    913\u001b[0m                 \u001b[0;32mwhile\u001b[0m \u001b[0;32mTrue\u001b[0m\u001b[0;34m:\u001b[0m\u001b[0;34m\u001b[0m\u001b[0;34m\u001b[0m\u001b[0m\n\u001b[1;32m    914\u001b[0m                         \u001b[0m_logger\u001b[0m\u001b[0;34m.\u001b[0m\u001b[0minfo\u001b[0m\u001b[0;34m(\u001b[0m\u001b[0;34mf'Retrieving scroll page {cursor}'\u001b[0m\u001b[0;34m)\u001b[0m\u001b[0;34m\u001b[0m\u001b[0;34m\u001b[0m\u001b[0m\n\u001b[0;32m--> 915\u001b[0;31m                         \u001b[0mobj\u001b[0m \u001b[0;34m=\u001b[0m \u001b[0mself\u001b[0m\u001b[0;34m.\u001b[0m\u001b[0m_get_api_data\u001b[0m\u001b[0;34m(\u001b[0m\u001b[0mendpoint\u001b[0m\u001b[0;34m,\u001b[0m \u001b[0mapiType\u001b[0m\u001b[0;34m,\u001b[0m \u001b[0mreqParams\u001b[0m\u001b[0;34m,\u001b[0m \u001b[0minstructionsPath\u001b[0m \u001b[0;34m=\u001b[0m \u001b[0minstructionsPath\u001b[0m\u001b[0;34m)\u001b[0m\u001b[0;34m\u001b[0m\u001b[0;34m\u001b[0m\u001b[0m\n\u001b[0m\u001b[1;32m    916\u001b[0m                         \u001b[0;32myield\u001b[0m \u001b[0mobj\u001b[0m\u001b[0;34m\u001b[0m\u001b[0;34m\u001b[0m\u001b[0m\n\u001b[1;32m    917\u001b[0m \u001b[0;34m\u001b[0m\u001b[0m\n",
            "\u001b[0;32m/usr/local/lib/python3.10/dist-packages/snscrape/modules/twitter.py\u001b[0m in \u001b[0;36m_get_api_data\u001b[0;34m(self, endpoint, apiType, params, instructionsPath)\u001b[0m\n\u001b[1;32m    881\u001b[0m \u001b[0;34m\u001b[0m\u001b[0m\n\u001b[1;32m    882\u001b[0m         \u001b[0;32mdef\u001b[0m \u001b[0m_get_api_data\u001b[0m\u001b[0;34m(\u001b[0m\u001b[0mself\u001b[0m\u001b[0;34m,\u001b[0m \u001b[0mendpoint\u001b[0m\u001b[0;34m,\u001b[0m \u001b[0mapiType\u001b[0m\u001b[0;34m,\u001b[0m \u001b[0mparams\u001b[0m\u001b[0;34m,\u001b[0m \u001b[0minstructionsPath\u001b[0m \u001b[0;34m=\u001b[0m \u001b[0;32mNone\u001b[0m\u001b[0;34m)\u001b[0m\u001b[0;34m:\u001b[0m\u001b[0;34m\u001b[0m\u001b[0;34m\u001b[0m\u001b[0m\n\u001b[0;32m--> 883\u001b[0;31m                 \u001b[0mself\u001b[0m\u001b[0;34m.\u001b[0m\u001b[0m_ensure_guest_token\u001b[0m\u001b[0;34m(\u001b[0m\u001b[0;34m)\u001b[0m\u001b[0;34m\u001b[0m\u001b[0;34m\u001b[0m\u001b[0m\n\u001b[0m\u001b[1;32m    884\u001b[0m                 \u001b[0;32mif\u001b[0m \u001b[0mapiType\u001b[0m \u001b[0;32mis\u001b[0m \u001b[0m_TwitterAPIType\u001b[0m\u001b[0;34m.\u001b[0m\u001b[0mGRAPHQL\u001b[0m\u001b[0;34m:\u001b[0m\u001b[0;34m\u001b[0m\u001b[0;34m\u001b[0m\u001b[0m\n\u001b[1;32m    885\u001b[0m                         \u001b[0mparams\u001b[0m \u001b[0;34m=\u001b[0m \u001b[0murllib\u001b[0m\u001b[0;34m.\u001b[0m\u001b[0mparse\u001b[0m\u001b[0;34m.\u001b[0m\u001b[0murlencode\u001b[0m\u001b[0;34m(\u001b[0m\u001b[0;34m{\u001b[0m\u001b[0mk\u001b[0m\u001b[0;34m:\u001b[0m \u001b[0mjson\u001b[0m\u001b[0;34m.\u001b[0m\u001b[0mdumps\u001b[0m\u001b[0;34m(\u001b[0m\u001b[0mv\u001b[0m\u001b[0;34m,\u001b[0m \u001b[0mseparators\u001b[0m \u001b[0;34m=\u001b[0m \u001b[0;34m(\u001b[0m\u001b[0;34m','\u001b[0m\u001b[0;34m,\u001b[0m \u001b[0;34m':'\u001b[0m\u001b[0;34m)\u001b[0m\u001b[0;34m)\u001b[0m \u001b[0;32mfor\u001b[0m \u001b[0mk\u001b[0m\u001b[0;34m,\u001b[0m \u001b[0mv\u001b[0m \u001b[0;32min\u001b[0m \u001b[0mparams\u001b[0m\u001b[0;34m.\u001b[0m\u001b[0mitems\u001b[0m\u001b[0;34m(\u001b[0m\u001b[0;34m)\u001b[0m\u001b[0;34m}\u001b[0m\u001b[0;34m,\u001b[0m \u001b[0mquote_via\u001b[0m \u001b[0;34m=\u001b[0m \u001b[0murllib\u001b[0m\u001b[0;34m.\u001b[0m\u001b[0mparse\u001b[0m\u001b[0;34m.\u001b[0m\u001b[0mquote\u001b[0m\u001b[0;34m)\u001b[0m\u001b[0;34m\u001b[0m\u001b[0;34m\u001b[0m\u001b[0m\n",
            "\u001b[0;32m/usr/local/lib/python3.10/dist-packages/snscrape/modules/twitter.py\u001b[0m in \u001b[0;36m_ensure_guest_token\u001b[0;34m(self, url)\u001b[0m\n\u001b[1;32m    823\u001b[0m                 \u001b[0;32mif\u001b[0m \u001b[0mself\u001b[0m\u001b[0;34m.\u001b[0m\u001b[0m_guestTokenManager\u001b[0m\u001b[0;34m.\u001b[0m\u001b[0mtoken\u001b[0m \u001b[0;32mis\u001b[0m \u001b[0;32mNone\u001b[0m\u001b[0;34m:\u001b[0m\u001b[0;34m\u001b[0m\u001b[0;34m\u001b[0m\u001b[0m\n\u001b[1;32m    824\u001b[0m                         \u001b[0m_logger\u001b[0m\u001b[0;34m.\u001b[0m\u001b[0minfo\u001b[0m\u001b[0;34m(\u001b[0m\u001b[0;34m'Retrieving guest token'\u001b[0m\u001b[0;34m)\u001b[0m\u001b[0;34m\u001b[0m\u001b[0;34m\u001b[0m\u001b[0m\n\u001b[0;32m--> 825\u001b[0;31m                         \u001b[0mr\u001b[0m \u001b[0;34m=\u001b[0m \u001b[0mself\u001b[0m\u001b[0;34m.\u001b[0m\u001b[0m_get\u001b[0m\u001b[0;34m(\u001b[0m\u001b[0mself\u001b[0m\u001b[0;34m.\u001b[0m\u001b[0m_baseUrl\u001b[0m \u001b[0;32mif\u001b[0m \u001b[0murl\u001b[0m \u001b[0;32mis\u001b[0m \u001b[0;32mNone\u001b[0m \u001b[0;32melse\u001b[0m \u001b[0murl\u001b[0m\u001b[0;34m,\u001b[0m \u001b[0mresponseOkCallback\u001b[0m \u001b[0;34m=\u001b[0m \u001b[0mself\u001b[0m\u001b[0;34m.\u001b[0m\u001b[0m_check_guest_token_response\u001b[0m\u001b[0;34m)\u001b[0m\u001b[0;34m\u001b[0m\u001b[0;34m\u001b[0m\u001b[0m\n\u001b[0m\u001b[1;32m    826\u001b[0m                         \u001b[0;32mif\u001b[0m \u001b[0;34m(\u001b[0m\u001b[0mmatch\u001b[0m \u001b[0;34m:=\u001b[0m \u001b[0mre\u001b[0m\u001b[0;34m.\u001b[0m\u001b[0msearch\u001b[0m\u001b[0;34m(\u001b[0m\u001b[0;34mr'document\\.cookie = decodeURIComponent\\(\"gt=(\\d+); Max-Age=10800; Domain=\\.twitter\\.com; Path=/; Secure\"\\);'\u001b[0m\u001b[0;34m,\u001b[0m \u001b[0mr\u001b[0m\u001b[0;34m.\u001b[0m\u001b[0mtext\u001b[0m\u001b[0;34m)\u001b[0m\u001b[0;34m)\u001b[0m\u001b[0;34m:\u001b[0m\u001b[0;34m\u001b[0m\u001b[0;34m\u001b[0m\u001b[0m\n\u001b[1;32m    827\u001b[0m                                 \u001b[0m_logger\u001b[0m\u001b[0;34m.\u001b[0m\u001b[0mdebug\u001b[0m\u001b[0;34m(\u001b[0m\u001b[0;34m'Found guest token in HTML'\u001b[0m\u001b[0;34m)\u001b[0m\u001b[0;34m\u001b[0m\u001b[0;34m\u001b[0m\u001b[0m\n",
            "\u001b[0;32m/usr/local/lib/python3.10/dist-packages/snscrape/base.py\u001b[0m in \u001b[0;36m_get\u001b[0;34m(self, *args, **kwargs)\u001b[0m\n\u001b[1;32m    273\u001b[0m \u001b[0;34m\u001b[0m\u001b[0m\n\u001b[1;32m    274\u001b[0m         \u001b[0;32mdef\u001b[0m \u001b[0m_get\u001b[0m\u001b[0;34m(\u001b[0m\u001b[0mself\u001b[0m\u001b[0;34m,\u001b[0m \u001b[0;34m*\u001b[0m\u001b[0margs\u001b[0m\u001b[0;34m,\u001b[0m \u001b[0;34m**\u001b[0m\u001b[0mkwargs\u001b[0m\u001b[0;34m)\u001b[0m\u001b[0;34m:\u001b[0m\u001b[0;34m\u001b[0m\u001b[0;34m\u001b[0m\u001b[0m\n\u001b[0;32m--> 275\u001b[0;31m                 \u001b[0;32mreturn\u001b[0m \u001b[0mself\u001b[0m\u001b[0;34m.\u001b[0m\u001b[0m_request\u001b[0m\u001b[0;34m(\u001b[0m\u001b[0;34m'GET'\u001b[0m\u001b[0;34m,\u001b[0m \u001b[0;34m*\u001b[0m\u001b[0margs\u001b[0m\u001b[0;34m,\u001b[0m \u001b[0;34m**\u001b[0m\u001b[0mkwargs\u001b[0m\u001b[0;34m)\u001b[0m\u001b[0;34m\u001b[0m\u001b[0;34m\u001b[0m\u001b[0m\n\u001b[0m\u001b[1;32m    276\u001b[0m \u001b[0;34m\u001b[0m\u001b[0m\n\u001b[1;32m    277\u001b[0m         \u001b[0;32mdef\u001b[0m \u001b[0m_post\u001b[0m\u001b[0;34m(\u001b[0m\u001b[0mself\u001b[0m\u001b[0;34m,\u001b[0m \u001b[0;34m*\u001b[0m\u001b[0margs\u001b[0m\u001b[0;34m,\u001b[0m \u001b[0;34m**\u001b[0m\u001b[0mkwargs\u001b[0m\u001b[0;34m)\u001b[0m\u001b[0;34m:\u001b[0m\u001b[0;34m\u001b[0m\u001b[0;34m\u001b[0m\u001b[0m\n",
            "\u001b[0;32m/usr/local/lib/python3.10/dist-packages/snscrape/base.py\u001b[0m in \u001b[0;36m_request\u001b[0;34m(self, method, url, params, data, headers, timeout, responseOkCallback, allowRedirects, proxies)\u001b[0m\n\u001b[1;32m    269\u001b[0m                         \u001b[0m_logger\u001b[0m\u001b[0;34m.\u001b[0m\u001b[0mfatal\u001b[0m\u001b[0;34m(\u001b[0m\u001b[0mmsg\u001b[0m\u001b[0;34m)\u001b[0m\u001b[0;34m\u001b[0m\u001b[0;34m\u001b[0m\u001b[0m\n\u001b[1;32m    270\u001b[0m                         \u001b[0m_logger\u001b[0m\u001b[0;34m.\u001b[0m\u001b[0mfatal\u001b[0m\u001b[0;34m(\u001b[0m\u001b[0;34mf'Errors: {\", \".join(errors)}'\u001b[0m\u001b[0;34m)\u001b[0m\u001b[0;34m\u001b[0m\u001b[0;34m\u001b[0m\u001b[0m\n\u001b[0;32m--> 271\u001b[0;31m                         \u001b[0;32mraise\u001b[0m \u001b[0mScraperException\u001b[0m\u001b[0;34m(\u001b[0m\u001b[0mmsg\u001b[0m\u001b[0;34m)\u001b[0m\u001b[0;34m\u001b[0m\u001b[0;34m\u001b[0m\u001b[0m\n\u001b[0m\u001b[1;32m    272\u001b[0m                 \u001b[0;32mraise\u001b[0m \u001b[0mRuntimeError\u001b[0m\u001b[0;34m(\u001b[0m\u001b[0;34m'Reached unreachable code'\u001b[0m\u001b[0;34m)\u001b[0m\u001b[0;34m\u001b[0m\u001b[0;34m\u001b[0m\u001b[0m\n\u001b[1;32m    273\u001b[0m \u001b[0;34m\u001b[0m\u001b[0m\n",
            "\u001b[0;31mScraperException\u001b[0m: 4 requests to https://twitter.com/search?f=live&lang=en&q=Apple+OR+AAPL+lang%3Aen&src=spelling_expansion_revert_click failed, giving up."
          ]
        }
      ]
    },
    {
      "cell_type": "markdown",
      "source": [
        "\n",
        "\n",
        "---\n",
        "\n",
        "\n",
        "**As a result, we decided to explore `snscrape` as another alternative for collecting tweets. However, this approach also has its own limitations.**\n",
        "\n",
        "Specifically, we encountered the following error when attempting to scrape tweets:\n",
        "\n",
        "\n",
        "> ScraperException: 4 requests to https://twitter.com/search?f=live&lang=en&q=Apple+OR+AAPL+lang%3Aen&src=spelling_expansion_revert_click failed, giving up.\n",
        "\n",
        "This suggests that Twitter may have introduced restrictions or other mechanisms that limit scraping functionality.\n",
        "\n",
        "Further adjustments or alternative methods may be required to overcome these challenges.\n",
        "\n",
        "\n",
        "\n",
        "---\n",
        "\n",
        "\n",
        "\n",
        "**Given these challenges, we have temporarily abandoned the creation of the tweet database.**\n",
        "\n",
        "**Instead, we will focus on collecting newspaper headlines for the next phase of our project.**\n",
        "\n",
        "\n",
        "---\n",
        "\n"
      ],
      "metadata": {
        "id": "QloBCZNjvasY"
      }
    },
    {
      "cell_type": "markdown",
      "source": [
        "### NEWSPAPER HEADLINES DATASET"
      ],
      "metadata": {
        "id": "Yv7oRHd8wAi0"
      }
    },
    {
      "cell_type": "markdown",
      "source": [
        "We tried collecting newspaper headlines using yfinance.\n",
        "However, we encountered the following limitations:\n",
        "1. Only certain articles are accessible.\n",
        "2. The free plan restricts access to articles from only the past month.\n",
        "\n",
        "As a result, we will need to explore alternative methods or data sources to collect sufficient financial news data.\n",
        "\n",
        "\n",
        "---\n",
        "\n"
      ],
      "metadata": {
        "id": "ro3_gYBgzxhq"
      }
    },
    {
      "cell_type": "code",
      "source": [
        "# Récupérer les titres d'actualités pour Tesla\n",
        "tesla_test = yf.Ticker(\"TSLA\")\n",
        "news_test = tesla_test.news\n",
        "\n",
        "# Afficher les titres\n",
        "for item in news_test:\n",
        "    print(item['title'])"
      ],
      "metadata": {
        "colab": {
          "base_uri": "https://localhost:8080/"
        },
        "id": "KnHyPjSjxwLJ",
        "outputId": "4f9f4f68-39f4-40d4-fe2e-f426fef4edc4"
      },
      "execution_count": null,
      "outputs": [
        {
          "output_type": "stream",
          "name": "stdout",
          "text": [
            "Is Tesla Stock A Buy Or A Sell With 70% Trump Surge A 'Sharp Disconnect' From Fundamentals?\n",
            "Magnificent Seven Stocks: Nvidia, Tesla Tumble; Apple, Google, Meta Sell Off\n",
            "Tesla's Musk Uses Weight-Loss Drugs as Eli Lilly and Novo Nordisk Dominate the Market\n",
            "Why the Tesla Stock Rally Is Fading Today\n",
            "2025 is the year Tesla leaders need to deliver: Investor\n",
            "The Dow sinks 500 points as Nvidia and Tesla lead tech decline\n",
            "Tesla Stock Falls for a Second Day. Why Shares Are Limping Into Year End.\n",
            "Analyst: Tesla (TSLA) Will Benefit in ‘Tough’ Environment for EV Companies Under Trump Administration\n"
          ]
        }
      ]
    },
    {
      "cell_type": "code",
      "source": [
        "# Créer un DataFrame avec les titres\n",
        "tesla_news_test = pd.DataFrame(news_test)\n",
        "tesla_news_test = tesla_news_test[['title', 'providerPublishTime']]\n",
        "tesla_news_test['providerPublishTime'] = pd.to_datetime(tesla_news_test['providerPublishTime'], unit='s').dt.date\n",
        "\n",
        "# Filtrer les titres qui mentionnent Tesla explicitement\n",
        "tesla_news_test = tesla_news_test[tesla_news_test['title'].str.contains(\"Tesla\", case=False)]\n",
        "print(tesla_news_test.head())"
      ],
      "metadata": {
        "colab": {
          "base_uri": "https://localhost:8080/"
        },
        "id": "UbSQANPrx4cT",
        "outputId": "680639df-0b40-469b-d4a1-7e93af9467f9"
      },
      "execution_count": null,
      "outputs": [
        {
          "output_type": "stream",
          "name": "stdout",
          "text": [
            "                                               title providerPublishTime\n",
            "0  Is Tesla Stock A Buy Or A Sell With 70% Trump ...          2024-12-27\n",
            "1  Magnificent Seven Stocks: Nvidia, Tesla Tumble...          2024-12-27\n",
            "2  Tesla's Musk Uses Weight-Loss Drugs as Eli Lil...          2024-12-27\n",
            "3          Why the Tesla Stock Rally Is Fading Today          2024-12-27\n",
            "4  2025 is the year Tesla leaders need to deliver...          2024-12-27\n"
          ]
        }
      ]
    },
    {
      "cell_type": "markdown",
      "source": [
        "\n",
        "\n",
        "---\n",
        "\n",
        "\n",
        "After encountering limitations with yfinance, we turned to News API for collecting financial headlines.\n",
        "\n",
        "Due to the API's restriction on the number of articles retrievable per API key, we devised the following solution:\n",
        "1. Created multiple API keys to bypass the daily quota limitation.\n",
        "2. Set up a system to fetch all articles every 3 hours within the target period (from 2024-11-07 to 2024-12-07).\n",
        "\n",
        "**This approach allowed us to gather a more comprehensive dataset over the specified timeframe despite the API's limitations.**\n",
        "\n",
        "\n",
        "---\n",
        "\n",
        "\n"
      ],
      "metadata": {
        "id": "eafChZNtzs6E"
      }
    },
    {
      "cell_type": "code",
      "source": [
        "# Clé API et configuration\n",
        "API_KEY = userdata.get('NEWS_API_KEY')\n",
        "URL = \"https://newsapi.org/v2/everything\"\n",
        "\n",
        "# Période cible\n",
        "start_date = datetime(2024, 12, 4)\n",
        "end_date = datetime(2024, 12, 7)\n",
        "\n",
        "# Fonction pour récupérer les articles\n",
        "def fetch_articles(start, end):\n",
        "    articles = []\n",
        "    params = {\n",
        "        \"q\": \"Tesla\",\n",
        "        \"from\": start.strftime(\"%Y-%m-%dT%H:%M:%S\"),\n",
        "        \"to\": end.strftime(\"%Y-%m-%dT%H:%M:%S\"),\n",
        "        \"language\": \"en\",\n",
        "        \"sortBy\": \"relevancy\",\n",
        "        \"apiKey\": API_KEY,\n",
        "        \"pageSize\": 100,\n",
        "        \"page\": 1\n",
        "    }\n",
        "    while True:\n",
        "        response = requests.get(URL, params=params)\n",
        "        data = response.json()\n",
        "        if response.status_code != 200:\n",
        "            print(f\"Erreur : {data.get('message')}\")\n",
        "            break\n",
        "        articles.extend(data.get(\"articles\", []))\n",
        "        if len(data.get(\"articles\", [])) < 100:  # Si moins de 100 articles, pas de page suivante\n",
        "            break\n",
        "        params[\"page\"] += 1  # Passer à la page suivante\n",
        "    return articles\n",
        "\n",
        "# Itérer sur des intervalles de 3 heures\n",
        "all_articles = []\n",
        "current_date = start_date\n",
        "while current_date < end_date:\n",
        "    next_date = current_date + timedelta(hours=3)  # Timeline de 3 heures\n",
        "    if next_date > end_date:\n",
        "        next_date = end_date\n",
        "    print(f\"Récupération des articles du {current_date} au {next_date}\")\n",
        "    all_articles.extend(fetch_articles(current_date, next_date))\n",
        "    current_date = next_date  # Passer au prochain intervalle\n",
        "\n",
        "# Convertir les résultats en DataFrame\n",
        "tesla_news = pd.DataFrame(all_articles)\n",
        "tesla_news = tesla_news[['title', 'publishedAt']]\n",
        "tesla_news['publishedAt'] = pd.to_datetime(tesla_news['publishedAt']).dt.date\n",
        "tesla_news = tesla_news.drop_duplicates(subset=['title'])  # Supprimer les doublons\n",
        "print(f\"Nombre total d'articles récupérés : {len(tesla_news)}\")\n",
        "print(tesla_news.head())"
      ],
      "metadata": {
        "colab": {
          "base_uri": "https://localhost:8080/"
        },
        "id": "MScw21Zs2vNO",
        "outputId": "6ec9efcf-ba26-4048-a5a6-c4083c05a5f4"
      },
      "execution_count": null,
      "outputs": [
        {
          "output_type": "stream",
          "name": "stdout",
          "text": [
            "Récupération des articles du 2024-12-04 00:00:00 au 2024-12-04 03:00:00\n",
            "Récupération des articles du 2024-12-04 03:00:00 au 2024-12-04 06:00:00\n",
            "Récupération des articles du 2024-12-04 06:00:00 au 2024-12-04 09:00:00\n",
            "Récupération des articles du 2024-12-04 09:00:00 au 2024-12-04 12:00:00\n",
            "Récupération des articles du 2024-12-04 12:00:00 au 2024-12-04 15:00:00\n",
            "Récupération des articles du 2024-12-04 15:00:00 au 2024-12-04 18:00:00\n",
            "Récupération des articles du 2024-12-04 18:00:00 au 2024-12-04 21:00:00\n",
            "Récupération des articles du 2024-12-04 21:00:00 au 2024-12-05 00:00:00\n",
            "Erreur : You have requested too many results. Developer accounts are limited to a max of 100 results. You are trying to request results 100 to 200. Please upgrade to a paid plan if you need more results.\n",
            "Récupération des articles du 2024-12-05 00:00:00 au 2024-12-05 03:00:00\n",
            "Récupération des articles du 2024-12-05 03:00:00 au 2024-12-05 06:00:00\n",
            "Récupération des articles du 2024-12-05 06:00:00 au 2024-12-05 09:00:00\n",
            "Récupération des articles du 2024-12-05 09:00:00 au 2024-12-05 12:00:00\n",
            "Récupération des articles du 2024-12-05 12:00:00 au 2024-12-05 15:00:00\n",
            "Récupération des articles du 2024-12-05 15:00:00 au 2024-12-05 18:00:00\n",
            "Récupération des articles du 2024-12-05 18:00:00 au 2024-12-05 21:00:00\n",
            "Récupération des articles du 2024-12-05 21:00:00 au 2024-12-06 00:00:00\n",
            "Erreur : You have requested too many results. Developer accounts are limited to a max of 100 results. You are trying to request results 100 to 200. Please upgrade to a paid plan if you need more results.\n",
            "Récupération des articles du 2024-12-06 00:00:00 au 2024-12-06 03:00:00\n",
            "Récupération des articles du 2024-12-06 03:00:00 au 2024-12-06 06:00:00\n",
            "Récupération des articles du 2024-12-06 06:00:00 au 2024-12-06 09:00:00\n",
            "Récupération des articles du 2024-12-06 09:00:00 au 2024-12-06 12:00:00\n",
            "Récupération des articles du 2024-12-06 12:00:00 au 2024-12-06 15:00:00\n",
            "Récupération des articles du 2024-12-06 15:00:00 au 2024-12-06 18:00:00\n",
            "Récupération des articles du 2024-12-06 18:00:00 au 2024-12-06 21:00:00\n",
            "Récupération des articles du 2024-12-06 21:00:00 au 2024-12-07 00:00:00\n",
            "Nombre total d'articles récupérés : 517\n",
            "                                               title publishedAt\n",
            "0            Tesla Releases Official Apple Watch App  2024-12-04\n",
            "1  Tesla Announced Release of Hydrogen-Powered Ca...  2024-12-04\n",
            "2  The U.S. may have reached 'the high-water mark...  2024-12-04\n",
            "3  Daylight savings could actually come to an end...  2024-12-04\n",
            "4  Every Tesla Cybertruck Recall That's Happened ...  2024-12-04\n"
          ]
        }
      ]
    },
    {
      "cell_type": "markdown",
      "source": [
        "\n",
        "\n",
        "---\n",
        "\n",
        "\n",
        "During the data collection process with News API, we noticed a significant surge in the number of articles retrieved between 00:00 and 03:00 each day. This likely corresponds to the automatic publication schedules of news websites.\n",
        "\n",
        "Due to these surges, the API often returned the error:\n",
        "\n",
        "> You have requested too many results. Developer accounts are limited to a max of 100 results. You are trying to request results 100 to 200. Please upgrade to a paid plan if you need more results.\n",
        "\n",
        "**This issue underscores the challenges of collecting data within the constraints of a free API plan, particularly when dealing with spikes in content generation at specific times of the day.**\n",
        "\n",
        "\n",
        "---\n",
        "\n"
      ],
      "metadata": {
        "id": "rCsF5FvJ5SIj"
      }
    },
    {
      "cell_type": "code",
      "source": [
        "# Sauvegarder les titres et les sentiments dans un fichier CSV\n",
        "tesla_news.to_csv('tesla_news.csv', index=False)\n",
        "\n",
        "# OU\n",
        "\n",
        "# Ajouter les nouvelles données au fichier CSV existant\n",
        "tesla_news.to_csv('tesla_news.csv', mode='a', index=False, header=False)"
      ],
      "metadata": {
        "id": "5vprVPK34CbZ"
      },
      "execution_count": null,
      "outputs": []
    },
    {
      "cell_type": "code",
      "source": [
        "files.download('tesla_news.csv')"
      ],
      "metadata": {
        "id": "b7UMdFY64R7R"
      },
      "execution_count": null,
      "outputs": []
    },
    {
      "cell_type": "code",
      "source": [
        "# Téléchargement du fichier CSV contenant les données des articles\n",
        "uploaded = files.upload()"
      ],
      "metadata": {
        "id": "BIArZ_D6Hy9L",
        "outputId": "4c69e359-f93b-4d2b-d84c-9f88e307dca6",
        "colab": {
          "base_uri": "https://localhost:8080/",
          "height": 73
        }
      },
      "execution_count": 5,
      "outputs": [
        {
          "output_type": "display_data",
          "data": {
            "text/plain": [
              "<IPython.core.display.HTML object>"
            ],
            "text/html": [
              "\n",
              "     <input type=\"file\" id=\"files-db514ec6-2e49-4bac-bf50-f98d91666e21\" name=\"files[]\" multiple disabled\n",
              "        style=\"border:none\" />\n",
              "     <output id=\"result-db514ec6-2e49-4bac-bf50-f98d91666e21\">\n",
              "      Upload widget is only available when the cell has been executed in the\n",
              "      current browser session. Please rerun this cell to enable.\n",
              "      </output>\n",
              "      <script>// Copyright 2017 Google LLC\n",
              "//\n",
              "// Licensed under the Apache License, Version 2.0 (the \"License\");\n",
              "// you may not use this file except in compliance with the License.\n",
              "// You may obtain a copy of the License at\n",
              "//\n",
              "//      http://www.apache.org/licenses/LICENSE-2.0\n",
              "//\n",
              "// Unless required by applicable law or agreed to in writing, software\n",
              "// distributed under the License is distributed on an \"AS IS\" BASIS,\n",
              "// WITHOUT WARRANTIES OR CONDITIONS OF ANY KIND, either express or implied.\n",
              "// See the License for the specific language governing permissions and\n",
              "// limitations under the License.\n",
              "\n",
              "/**\n",
              " * @fileoverview Helpers for google.colab Python module.\n",
              " */\n",
              "(function(scope) {\n",
              "function span(text, styleAttributes = {}) {\n",
              "  const element = document.createElement('span');\n",
              "  element.textContent = text;\n",
              "  for (const key of Object.keys(styleAttributes)) {\n",
              "    element.style[key] = styleAttributes[key];\n",
              "  }\n",
              "  return element;\n",
              "}\n",
              "\n",
              "// Max number of bytes which will be uploaded at a time.\n",
              "const MAX_PAYLOAD_SIZE = 100 * 1024;\n",
              "\n",
              "function _uploadFiles(inputId, outputId) {\n",
              "  const steps = uploadFilesStep(inputId, outputId);\n",
              "  const outputElement = document.getElementById(outputId);\n",
              "  // Cache steps on the outputElement to make it available for the next call\n",
              "  // to uploadFilesContinue from Python.\n",
              "  outputElement.steps = steps;\n",
              "\n",
              "  return _uploadFilesContinue(outputId);\n",
              "}\n",
              "\n",
              "// This is roughly an async generator (not supported in the browser yet),\n",
              "// where there are multiple asynchronous steps and the Python side is going\n",
              "// to poll for completion of each step.\n",
              "// This uses a Promise to block the python side on completion of each step,\n",
              "// then passes the result of the previous step as the input to the next step.\n",
              "function _uploadFilesContinue(outputId) {\n",
              "  const outputElement = document.getElementById(outputId);\n",
              "  const steps = outputElement.steps;\n",
              "\n",
              "  const next = steps.next(outputElement.lastPromiseValue);\n",
              "  return Promise.resolve(next.value.promise).then((value) => {\n",
              "    // Cache the last promise value to make it available to the next\n",
              "    // step of the generator.\n",
              "    outputElement.lastPromiseValue = value;\n",
              "    return next.value.response;\n",
              "  });\n",
              "}\n",
              "\n",
              "/**\n",
              " * Generator function which is called between each async step of the upload\n",
              " * process.\n",
              " * @param {string} inputId Element ID of the input file picker element.\n",
              " * @param {string} outputId Element ID of the output display.\n",
              " * @return {!Iterable<!Object>} Iterable of next steps.\n",
              " */\n",
              "function* uploadFilesStep(inputId, outputId) {\n",
              "  const inputElement = document.getElementById(inputId);\n",
              "  inputElement.disabled = false;\n",
              "\n",
              "  const outputElement = document.getElementById(outputId);\n",
              "  outputElement.innerHTML = '';\n",
              "\n",
              "  const pickedPromise = new Promise((resolve) => {\n",
              "    inputElement.addEventListener('change', (e) => {\n",
              "      resolve(e.target.files);\n",
              "    });\n",
              "  });\n",
              "\n",
              "  const cancel = document.createElement('button');\n",
              "  inputElement.parentElement.appendChild(cancel);\n",
              "  cancel.textContent = 'Cancel upload';\n",
              "  const cancelPromise = new Promise((resolve) => {\n",
              "    cancel.onclick = () => {\n",
              "      resolve(null);\n",
              "    };\n",
              "  });\n",
              "\n",
              "  // Wait for the user to pick the files.\n",
              "  const files = yield {\n",
              "    promise: Promise.race([pickedPromise, cancelPromise]),\n",
              "    response: {\n",
              "      action: 'starting',\n",
              "    }\n",
              "  };\n",
              "\n",
              "  cancel.remove();\n",
              "\n",
              "  // Disable the input element since further picks are not allowed.\n",
              "  inputElement.disabled = true;\n",
              "\n",
              "  if (!files) {\n",
              "    return {\n",
              "      response: {\n",
              "        action: 'complete',\n",
              "      }\n",
              "    };\n",
              "  }\n",
              "\n",
              "  for (const file of files) {\n",
              "    const li = document.createElement('li');\n",
              "    li.append(span(file.name, {fontWeight: 'bold'}));\n",
              "    li.append(span(\n",
              "        `(${file.type || 'n/a'}) - ${file.size} bytes, ` +\n",
              "        `last modified: ${\n",
              "            file.lastModifiedDate ? file.lastModifiedDate.toLocaleDateString() :\n",
              "                                    'n/a'} - `));\n",
              "    const percent = span('0% done');\n",
              "    li.appendChild(percent);\n",
              "\n",
              "    outputElement.appendChild(li);\n",
              "\n",
              "    const fileDataPromise = new Promise((resolve) => {\n",
              "      const reader = new FileReader();\n",
              "      reader.onload = (e) => {\n",
              "        resolve(e.target.result);\n",
              "      };\n",
              "      reader.readAsArrayBuffer(file);\n",
              "    });\n",
              "    // Wait for the data to be ready.\n",
              "    let fileData = yield {\n",
              "      promise: fileDataPromise,\n",
              "      response: {\n",
              "        action: 'continue',\n",
              "      }\n",
              "    };\n",
              "\n",
              "    // Use a chunked sending to avoid message size limits. See b/62115660.\n",
              "    let position = 0;\n",
              "    do {\n",
              "      const length = Math.min(fileData.byteLength - position, MAX_PAYLOAD_SIZE);\n",
              "      const chunk = new Uint8Array(fileData, position, length);\n",
              "      position += length;\n",
              "\n",
              "      const base64 = btoa(String.fromCharCode.apply(null, chunk));\n",
              "      yield {\n",
              "        response: {\n",
              "          action: 'append',\n",
              "          file: file.name,\n",
              "          data: base64,\n",
              "        },\n",
              "      };\n",
              "\n",
              "      let percentDone = fileData.byteLength === 0 ?\n",
              "          100 :\n",
              "          Math.round((position / fileData.byteLength) * 100);\n",
              "      percent.textContent = `${percentDone}% done`;\n",
              "\n",
              "    } while (position < fileData.byteLength);\n",
              "  }\n",
              "\n",
              "  // All done.\n",
              "  yield {\n",
              "    response: {\n",
              "      action: 'complete',\n",
              "    }\n",
              "  };\n",
              "}\n",
              "\n",
              "scope.google = scope.google || {};\n",
              "scope.google.colab = scope.google.colab || {};\n",
              "scope.google.colab._files = {\n",
              "  _uploadFiles,\n",
              "  _uploadFilesContinue,\n",
              "};\n",
              "})(self);\n",
              "</script> "
            ]
          },
          "metadata": {}
        },
        {
          "output_type": "stream",
          "name": "stdout",
          "text": [
            "Saving tesla_news.csv to tesla_news.csv\n"
          ]
        }
      ]
    },
    {
      "cell_type": "code",
      "source": [
        "login(userdata.get('LOGIN_HF'))\n",
        "# Charger le fichier CSV\n",
        "file_path = \"tesla_news.csv\"  # Remplacez par le chemin vers votre fichier\n",
        "tesla_news = pd.read_csv(file_path)\n",
        "\n",
        "# Afficher un aperçu des données\n",
        "print(tesla_news.head())\n",
        "# Charger FinBERT\n",
        "sentiment_pipeline = pipeline(\"sentiment-analysis\", model=\"yiyanghkust/finbert-tone\")\n",
        "def analyze_sentiment(text):\n",
        "    try:\n",
        "        return sentiment_pipeline(inputs=text)[0]['label']  # Utiliser \"inputs\" si \"text\" ne fonctionne pas\n",
        "    except Exception as e:\n",
        "        print(f\"Erreur avec le texte : {text} -> {e}\")\n",
        "        return \"Error\"\n",
        "# Appliquer l'analyse des sentiments à tous les titres\n",
        "tesla_news['sentiment'] = tesla_news['title'].apply(analyze_sentiment)\n",
        "\n",
        "# Afficher un aperçu des résultats\n",
        "print(tesla_news[['title', 'sentiment']].head())"
      ],
      "metadata": {
        "colab": {
          "base_uri": "https://localhost:8080/",
          "height": 443,
          "referenced_widgets": [
            "a66730df80704831b2f6fe5a43a43e1a",
            "ae6d82725b2342d496a5abcf49d6ee67",
            "146dd9588b604e1f92ed3531e45f86bf",
            "9e4d7e2a69d74069b626b53058f24a28",
            "5338f4fe708247c08a6881d505c064d3",
            "ede59dab353c441c80687e67e9e22074",
            "03e1d27a959146f4aec6c746badb19c0",
            "7d1d100f0dc840a5a18253c88de7076a",
            "a2149321bcc64a869c9ab330399a95ed",
            "d194e792ea4e480f8f1dafe4f4905212",
            "f9441d68e35a4fd18dd856ca4773ec71",
            "a49dd1a037c74d90a6d8054367d46526",
            "79215f51904f4cd5ba70feb73d07bc3d",
            "054acb47d0f8491299d6bbbb7fdb5de7",
            "98cc8e27ebe7416d9c19c743291f4e8c",
            "952b030020494da9a00185e6ab684b7d",
            "7b8b29918c374dc3b779a4c2e75e4a7d",
            "b484b4f6a5894ddeb0bfcaec75d85971",
            "7fc53c9b375040d98cb29ef3bb509a69",
            "157694bad274480387624b64c6cae7a8",
            "1e3c1868547c4a35851d6b974929268f",
            "7166529e9308400b925527ef4db79407",
            "fa5e8c2654aa4a23a557dcb3fb74e1fb",
            "98befb4386d341ab93a54e850d19b2a5",
            "8cd5f0e851b74a0eb0ec37d4b25a66ee",
            "0e5ab3cc6a3b42f4a7f76daa4bf32e2d",
            "54cd4051a6a14ef580aad4077d91fcf6",
            "5d3dd759bce043e790e3dcb9b52bbda7",
            "4ce5489870194a16b029115d82d6ca1c",
            "887ae255ad9d4b8d9e39a2b77584833c",
            "e95d6a1342de41e98b246312895b0b0d",
            "6a23137ba70849e881685dd30aeef7a1",
            "1950b60182e745b0ba30cefd1b2062da"
          ]
        },
        "id": "g-EzRcPW6GUw",
        "outputId": "8a4a14cf-4d43-42b5-c822-7e9e2ac6a95b"
      },
      "execution_count": null,
      "outputs": [
        {
          "metadata": {
            "tags": null
          },
          "name": "stdout",
          "output_type": "stream",
          "text": [
            "                                               title publishedAt sentiment\n",
            "0  Tesla police cruiser, Trump voters love solar,...  2024-11-07  Positive\n",
            "1  Dow Jones Surges On Trump Win. What To Do As S...  2024-11-07  Positive\n",
            "2  Trump Lackey Elon Musk's Biggest Controversies...  2024-11-07  Negative\n",
            "3  How Elon Musk’s $130 million investment in Tru...  2024-11-07  Positive\n",
            "4                                          [Removed]  2024-11-07   Neutral\n"
          ]
        },
        {
          "metadata": {
            "tags": null
          },
          "name": "stderr",
          "output_type": "stream",
          "text": [
            "/usr/local/lib/python3.10/dist-packages/huggingface_hub/utils/_auth.py:104: UserWarning: \n",
            "Error while fetching `HF_TOKEN` secret value from your vault: 'Requesting secret HF_TOKEN timed out. Secrets can only be fetched when running from the Colab UI.'.\n",
            "You are not authenticated with the Hugging Face Hub in this notebook.\n",
            "If the error persists, please let us know by opening an issue on GitHub (https://github.com/huggingface/huggingface_hub/issues/new).\n",
            "  warnings.warn(\n"
          ]
        },
        {
          "data": {
            "application/vnd.jupyter.widget-view+json": {
              "model_id": "a66730df80704831b2f6fe5a43a43e1a",
              "version_major": 2,
              "version_minor": 0
            },
            "text/plain": [
              "config.json:   0%|          | 0.00/533 [00:00<?, ?B/s]"
            ]
          },
          "metadata": {},
          "output_type": "display_data"
        },
        {
          "data": {
            "application/vnd.jupyter.widget-view+json": {
              "model_id": "a49dd1a037c74d90a6d8054367d46526",
              "version_major": 2,
              "version_minor": 0
            },
            "text/plain": [
              "pytorch_model.bin:   0%|          | 0.00/439M [00:00<?, ?B/s]"
            ]
          },
          "metadata": {},
          "output_type": "display_data"
        },
        {
          "data": {
            "application/vnd.jupyter.widget-view+json": {
              "model_id": "fa5e8c2654aa4a23a557dcb3fb74e1fb",
              "version_major": 2,
              "version_minor": 0
            },
            "text/plain": [
              "vocab.txt:   0%|          | 0.00/226k [00:00<?, ?B/s]"
            ]
          },
          "metadata": {},
          "output_type": "display_data"
        },
        {
          "metadata": {
            "tags": null
          },
          "name": "stderr",
          "output_type": "stream",
          "text": [
            "Device set to use cpu\n"
          ]
        },
        {
          "output_type": "stream",
          "name": "stdout",
          "text": [
            "Erreur avec le texte : nan -> text input must be of type `str` (single example), `List[str]` (batch or single pretokenized example) or `List[List[str]]` (batch of pretokenized examples).\n",
            "                                               title sentiment\n",
            "0  Tesla police cruiser, Trump voters love solar,...  Positive\n",
            "1  Dow Jones Surges On Trump Win. What To Do As S...  Positive\n",
            "2  Trump Lackey Elon Musk's Biggest Controversies...  Negative\n",
            "3  How Elon Musk’s $130 million investment in Tru...  Positive\n",
            "4                                          [Removed]   Neutral\n"
          ]
        }
      ]
    },
    {
      "cell_type": "code",
      "source": [
        "# Répartition des sentiments\n",
        "tesla_news['sentiment'].value_counts().plot(kind='bar', title='Répartition des sentiments sur Tesla', figsize=(8, 5))\n",
        "plt.xlabel('Sentiments')\n",
        "plt.ylabel('Nombre de titres')\n",
        "plt.show()"
      ],
      "metadata": {
        "colab": {
          "base_uri": "https://localhost:8080/",
          "height": 536
        },
        "id": "8QNOAnZ662VO",
        "outputId": "4da17025-2c44-4329-daff-d17ae83514e3"
      },
      "execution_count": null,
      "outputs": [
        {
          "output_type": "display_data",
          "data": {
            "text/plain": [
              "<Figure size 800x500 with 1 Axes>"
            ],
            "image/png": "[encoded data removed]"
          },
          "metadata": {}
        }
      ]
    },
    {
      "cell_type": "code",
      "source": [
        "sentiment_trend = tesla_news.groupby(['publishedAt', 'sentiment']).size().unstack(fill_value=0)\n",
        "\n",
        "# Tracer les tendances\n",
        "sentiment_trend.plot(kind='line', figsize=(12, 6), title='Tendances des sentiments sur Tesla')\n",
        "plt.xlabel('Date')\n",
        "plt.ylabel('Nombre de titres')\n",
        "plt.grid(True)\n",
        "plt.xticks(rotation=45)\n",
        "plt.legend(title='Sentiment')\n",
        "plt.show()"
      ],
      "metadata": {
        "colab": {
          "base_uri": "https://localhost:8080/",
          "height": 617
        },
        "id": "KZcmxg-266r9",
        "outputId": "39145a12-a391-4651-ab02-3d2b49da680b"
      },
      "execution_count": null,
      "outputs": [
        {
          "output_type": "display_data",
          "data": {
            "text/plain": [
              "<Figure size 1200x600 with 1 Axes>"
            ],
            "image/png": "[encoded data removed]"
          },
          "metadata": {}
        }
      ]
    },
    {
      "cell_type": "markdown",
      "source": [
        "\n",
        "\n",
        "---\n",
        "\n",
        "\n",
        "- We observe a significantly higher number of articles classified as **neutral** compared to the other sentiment categories. This dominance remains consistent throughout the analyzed period.\n",
        "- Articles classified as **positive** and **negative** have similar volumes and appear to follow relatively stable trends over time.\n",
        "- In terms of temporal evolution, only the number of **neutral** articles shows noticeable variations, with significant peaks on specific dates. In contrast, the volumes of **positive** and **negative** articles remain fairly constant over time, without major fluctuations.\n",
        "\n",
        "**This suggests that most articles about Tesla tend to be factual or report information without strong emotional bias. Meanwhile, both positive and negative opinions on Tesla are published at a steady and consistent rate.**\n",
        "\n",
        "\n",
        "---\n",
        "\n"
      ],
      "metadata": {
        "id": "cmE81Uyu95rg"
      }
    },
    {
      "cell_type": "markdown",
      "source": [
        "## **4. Data Description and Exploration (EDA)**"
      ],
      "metadata": {
        "id": "pKFH9BSn-eQe"
      }
    },
    {
      "cell_type": "code",
      "execution_count": 6,
      "metadata": {
        "colab": {
          "base_uri": "https://localhost:8080/"
        },
        "id": "GS84vR8KGKNV",
        "outputId": "24a93f91-5ace-4ccf-8d42-2bd31b4d6ca4"
      },
      "outputs": [
        {
          "output_type": "stream",
          "name": "stdout",
          "text": [
            "                                               title publishedAt sentiment\n",
            "0  Tesla police cruiser, Trump voters love solar,...  2024-11-07  Positive\n",
            "1  Dow Jones Surges On Trump Win. What To Do As S...  2024-11-07  Positive\n",
            "2  Trump Lackey Elon Musk's Biggest Controversies...  2024-11-07  Negative\n",
            "3  How Elon Musk’s $130 million investment in Tru...  2024-11-07  Positive\n",
            "4                                          [Removed]  2024-11-07   Neutral\n",
            "<class 'pandas.core.frame.DataFrame'>\n",
            "RangeIndex: 4381 entries, 0 to 4380\n",
            "Data columns (total 3 columns):\n",
            " #   Column       Non-Null Count  Dtype \n",
            "---  ------       --------------  ----- \n",
            " 0   title        4380 non-null   object\n",
            " 1   publishedAt  4381 non-null   object\n",
            " 2   sentiment    4381 non-null   object\n",
            "dtypes: object(3)\n",
            "memory usage: 102.8+ KB\n",
            "None\n"
          ]
        }
      ],
      "source": [
        "# Chargement des données avec pandas\n",
        "file_path = \"tesla_news.csv\"  # Chemin du fichier CSV\n",
        "\n",
        "# Lecture du fichier CSV\n",
        "df = pd.read_csv(file_path)\n",
        "\n",
        "# Aperçu des premières lignes des données et vérification de la structure\n",
        "print(df.head())  # Affiche les 5 premières lignes\n",
        "print(df.info())  # Donne des informations sur le type des colonnes et les valeurs manquantes"
      ]
    },
    {
      "cell_type": "markdown",
      "source": [
        "Les colonnes contiennent :\n",
        "- **title** : le titre de l'article, texte non structué.\n",
        "- **publishedAt** : la date de publication, au format objet.\n",
        "- **sentiment** : sentiment associé (Positive, Neutral, Negative).\n"
      ],
      "metadata": {
        "id": "he2Q3n6cLodq"
      }
    },
    {
      "cell_type": "code",
      "source": [
        "# Récupération des données historiques pour l'action Tesla\n",
        "tesla = yf.Ticker(\"TSLA\")\n",
        "stock_data = tesla.history(start=\"2024-11-07\", end=\"2024-12-06\")\n",
        "\n",
        "# Filtrage pour ne garder que le prix de clôture\n",
        "stock_data = stock_data[[\"Close\"]]\n",
        "stock_data.reset_index(inplace=True)\n",
        "stock_data.rename(columns={\"Date\": \"publishedAt\", \"Close\": \"stock_price\"}, inplace=True)\n",
        "print(stock_data.head())"
      ],
      "metadata": {
        "id": "Zquyuq5EKtNv",
        "outputId": "dc646ca9-a1cb-4cdb-c7a6-f7b75030aadb",
        "colab": {
          "base_uri": "https://localhost:8080/"
        }
      },
      "execution_count": 8,
      "outputs": [
        {
          "output_type": "stream",
          "name": "stdout",
          "text": [
            "                publishedAt  stock_price\n",
            "0 2024-11-07 00:00:00-05:00   296.910004\n",
            "1 2024-11-08 00:00:00-05:00   321.220001\n",
            "2 2024-11-11 00:00:00-05:00   350.000000\n",
            "3 2024-11-12 00:00:00-05:00   328.489990\n",
            "4 2024-11-13 00:00:00-05:00   330.239990\n"
          ]
        }
      ]
    },
    {
      "cell_type": "markdown",
      "source": [
        "La plage de dates du 7 novembre 2024 au 6 décembre 2024 a été choisie car elle correspond à la période de publication des articles dans le fichier « tesla_news.csv ».\n"
      ],
      "metadata": {
        "id": "F-3gqoCxL2iF"
      }
    },
    {
      "cell_type": "code",
      "source": [
        "# Conversion des dates pour aligner les deux datasets\n",
        "df['publishedAt'] = pd.to_datetime(df['publishedAt']).dt.tz_localize(None)\n",
        "stock_data['publishedAt'] = pd.to_datetime(stock_data['publishedAt']).dt.tz_localize(None)\n",
        "\n",
        "print(df['publishedAt'].dtype)\n",
        "print(stock_data['publishedAt'].dtype)\n",
        "\n",
        "# Fusion des deux jeux de données sur la colonne \"publishedAt\"\n",
        "merged_data = pd.merge(df, stock_data, on='publishedAt', how='inner')\n",
        "print(merged_data.head())"
      ],
      "metadata": {
        "id": "4dPzRq8ALLl9",
        "outputId": "66b22b62-cb40-4d94-83da-3a965166dd03",
        "colab": {
          "base_uri": "https://localhost:8080/"
        }
      },
      "execution_count": 9,
      "outputs": [
        {
          "output_type": "stream",
          "name": "stdout",
          "text": [
            "datetime64[ns]\n",
            "datetime64[ns]\n",
            "                                               title publishedAt sentiment  \\\n",
            "0  Tesla police cruiser, Trump voters love solar,...  2024-11-07  Positive   \n",
            "1  Dow Jones Surges On Trump Win. What To Do As S...  2024-11-07  Positive   \n",
            "2  Trump Lackey Elon Musk's Biggest Controversies...  2024-11-07  Negative   \n",
            "3  How Elon Musk’s $130 million investment in Tru...  2024-11-07  Positive   \n",
            "4                                          [Removed]  2024-11-07   Neutral   \n",
            "\n",
            "   stock_price  \n",
            "0   296.910004  \n",
            "1   296.910004  \n",
            "2   296.910004  \n",
            "3   296.910004  \n",
            "4   296.910004  \n"
          ]
        }
      ]
    },
    {
      "cell_type": "markdown",
      "source": [
        "\n",
        "\n",
        "---\n",
        "\n",
        "\n",
        "La méthode \"inner\" est utilisée pour ne conserver que les lignes où les dates sont présentes dans les deux jeux de données. Cela garantit une correspondance stricte entre les sentiments et les prix des actions disponibles, réduisant le bruit potentiel dans l'analyse.\n",
        "\n",
        "\n",
        "---\n",
        "\n"
      ],
      "metadata": {
        "id": "VObjtMZgMGiU"
      }
    },
    {
      "cell_type": "code",
      "source": [
        "# Encodage des sentiments pour qu'ils soient utilisables par les modèles\n",
        "sentiment_map = {'Positive': 1, 'Neutral': 0, 'Negative': -1}\n",
        "merged_data['sentiment'] = merged_data['sentiment'].map(sentiment_map)\n",
        "print(merged_data.head())"
      ],
      "metadata": {
        "colab": {
          "base_uri": "https://localhost:8080/"
        },
        "id": "rhhb7lkwB8iD",
        "outputId": "7c670673-ae91-45ba-b77d-03250cea7f8c"
      },
      "execution_count": 10,
      "outputs": [
        {
          "output_type": "stream",
          "name": "stdout",
          "text": [
            "                                               title publishedAt  sentiment  \\\n",
            "0  Tesla police cruiser, Trump voters love solar,...  2024-11-07        1.0   \n",
            "1  Dow Jones Surges On Trump Win. What To Do As S...  2024-11-07        1.0   \n",
            "2  Trump Lackey Elon Musk's Biggest Controversies...  2024-11-07       -1.0   \n",
            "3  How Elon Musk’s $130 million investment in Tru...  2024-11-07        1.0   \n",
            "4                                          [Removed]  2024-11-07        0.0   \n",
            "\n",
            "   stock_price  \n",
            "0   296.910004  \n",
            "1   296.910004  \n",
            "2   296.910004  \n",
            "3   296.910004  \n",
            "4   296.910004  \n"
          ]
        }
      ]
    },
    {
      "cell_type": "code",
      "source": [
        "# Ajouter sentiment et stock_price dans un DataFrame\n",
        "data_for_corr = merged_data[['sentiment', 'stock_price']]\n",
        "\n",
        "# Calcul de la corrélation\n",
        "correlation = data_for_corr.corr()\n",
        "print(correlation)"
      ],
      "metadata": {
        "colab": {
          "base_uri": "https://localhost:8080/"
        },
        "id": "mUabWWRqCMaN",
        "outputId": "3e2012fb-7d60-4648-c49c-bf19b5991df2"
      },
      "execution_count": 11,
      "outputs": [
        {
          "output_type": "stream",
          "name": "stdout",
          "text": [
            "             sentiment  stock_price\n",
            "sentiment     1.000000    -0.025003\n",
            "stock_price  -0.025003     1.000000\n"
          ]
        }
      ]
    },
    {
      "cell_type": "code",
      "source": [
        "# Exploratory plots\n",
        "sns.heatmap(data_for_corr.corr(), annot=True, cmap=\"coolwarm\")\n",
        "plt.title(\"Correlation Heatmap\")\n",
        "plt.show()\n",
        "\n",
        "sns.countplot(data=merged_data, x=\"sentiment\")\n",
        "plt.title(\"Sentiment Distribution\")\n",
        "plt.show()"
      ],
      "metadata": {
        "colab": {
          "base_uri": "https://localhost:8080/",
          "height": 907
        },
        "id": "Cz5M63TsBOVa",
        "outputId": "2090a757-7f7e-43e2-e758-763f93e87991"
      },
      "execution_count": null,
      "outputs": [
        {
          "output_type": "display_data",
          "data": {
            "text/plain": [
              "<Figure size 640x480 with 2 Axes>"
            ],
            "image/png": "[encoded data removed]"
          },
          "metadata": {}
        },
        {
          "output_type": "display_data",
          "data": {
            "text/plain": [
              "<Figure size 640x480 with 1 Axes>"
            ],
            "image/png": "[encoded data removed]"
          },
          "metadata": {}
        }
      ]
    },
    {
      "cell_type": "markdown",
      "source": [
        "\n",
        "\n",
        "---\n",
        "\n",
        "\n",
        "La corrélation mesure la relation linéaire entre deux variables. Une corrélation proche de 0 entre \"sentiment\" et \"stock_price\" indique qu'il n'y a pas de relation linéaire évidente entre ces deux variables. Cela suggère que les sentiments des articles n'influencent pas directement les prix des actions Tesla.\n",
        "\n",
        "Les variations de prix (différences entre les jours consécutifs) permettent d'analyser les changements quotidiens du prix de l'action Tesla, plutôt que les valeurs absolues. Cette approche peut révéler des relations subtiles entre les sentiments et les mouvements de marché qui ne seraient pas visibles dans une simple analyse des prix bruts.\n",
        "\n",
        "\n",
        "---\n",
        "\n"
      ],
      "metadata": {
        "id": "6z95g3bzNixG"
      }
    },
    {
      "cell_type": "code",
      "source": [
        "# Séparation des données en variables explicatives (X) et variable cible (y)\n",
        "from sklearn.model_selection import train_test_split\n",
        "\n",
        "X = merged_data[['sentiment']]  # Variable explicative\n",
        "y = merged_data['stock_price']  # Variable cible\n",
        "X_train, X_test, y_train, y_test = train_test_split(X, y, test_size=0.2, random_state=42)\n",
        "\n",
        "print(merged_data.head())"
      ],
      "metadata": {
        "id": "O9iNR8zPLUJZ",
        "colab": {
          "base_uri": "https://localhost:8080/"
        },
        "outputId": "0ae62ecc-e661-42b7-8a1b-bdeccf11497e"
      },
      "execution_count": 35,
      "outputs": [
        {
          "output_type": "stream",
          "name": "stdout",
          "text": [
            "                                               title publishedAt  sentiment  \\\n",
            "0  Tesla police cruiser, Trump voters love solar,...  2024-11-07        1.0   \n",
            "1  Dow Jones Surges On Trump Win. What To Do As S...  2024-11-07        1.0   \n",
            "2  Trump Lackey Elon Musk's Biggest Controversies...  2024-11-07       -1.0   \n",
            "3  How Elon Musk’s $130 million investment in Tru...  2024-11-07        1.0   \n",
            "4                                          [Removed]  2024-11-07        0.0   \n",
            "\n",
            "   stock_price  price_change  \n",
            "0   296.910004           0.0  \n",
            "1   296.910004           0.0  \n",
            "2   296.910004           0.0  \n",
            "3   296.910004           0.0  \n",
            "4   296.910004           0.0  \n"
          ]
        }
      ]
    },
    {
      "cell_type": "code",
      "source": [
        "print(merged_data['sentiment'].unique())"
      ],
      "metadata": {
        "colab": {
          "base_uri": "https://localhost:8080/"
        },
        "id": "6EwFQYDHJLGI",
        "outputId": "2e673fa5-6603-45a4-99a0-06f5135492d5"
      },
      "execution_count": 36,
      "outputs": [
        {
          "output_type": "stream",
          "name": "stdout",
          "text": [
            "[ 1. -1.  0. nan]\n"
          ]
        }
      ]
    },
    {
      "cell_type": "code",
      "source": [
        "# Vérification des valeurs manquantes dans X_test\n",
        "print(X_test.isnull().sum())  # Compte des NaN par colonne\n",
        "print(X_test[X_test.isnull().any(axis=1)])  # Lignes contenant des NaN"
      ],
      "metadata": {
        "id": "wet_l88EOoB0",
        "outputId": "1ba53d23-3c5e-4e76-ece1-9c0c6739b1c5",
        "colab": {
          "base_uri": "https://localhost:8080/"
        }
      },
      "execution_count": 37,
      "outputs": [
        {
          "output_type": "stream",
          "name": "stdout",
          "text": [
            "sentiment    1\n",
            "dtype: int64\n",
            "     sentiment\n",
            "315        NaN\n"
          ]
        }
      ]
    },
    {
      "cell_type": "code",
      "source": [
        "X_test = X_test.dropna()\n",
        "y_test = y_test[X_test.index]  # Ajuster y_test pour correspondre aux indices mis à jour\n",
        "\n",
        "print(X_test.isnull().sum())"
      ],
      "metadata": {
        "id": "sLhe49VoPHB2",
        "colab": {
          "base_uri": "https://localhost:8080/"
        },
        "outputId": "6647595c-bae4-4c11-aa1b-b393f3533ceb"
      },
      "execution_count": 38,
      "outputs": [
        {
          "output_type": "stream",
          "name": "stdout",
          "text": [
            "sentiment    0\n",
            "dtype: int64\n"
          ]
        }
      ]
    },
    {
      "cell_type": "markdown",
      "source": [
        "## **5. Model Implementation**"
      ],
      "metadata": {
        "id": "A6SMoodUEyVs"
      }
    },
    {
      "cell_type": "markdown",
      "source": [
        "### Modélisation avec une régression linéaire"
      ],
      "metadata": {
        "id": "DRI_lnQgE1NR"
      }
    },
    {
      "cell_type": "code",
      "source": [
        "# Entraîner le modèle\n",
        "model = LinearRegression()\n",
        "model.fit(X_train, y_train)\n",
        "\n",
        "# Prédictions et évaluation\n",
        "y_pred = model.predict(X_test)\n",
        "mse = mean_squared_error(y_test, y_pred)\n",
        "r2 = r2_score(y_test, y_pred)\n",
        "\n",
        "print(f\"Mean Squared Error: {mse}\")\n",
        "print(f\"R^2 Score: {r2}\")"
      ],
      "metadata": {
        "id": "n2_mrtV9LVeb",
        "outputId": "cd5593a8-47ec-4563-ff46-f19b9af3599f",
        "colab": {
          "base_uri": "https://localhost:8080/"
        }
      },
      "execution_count": 39,
      "outputs": [
        {
          "output_type": "stream",
          "name": "stdout",
          "text": [
            "Mean Squared Error: 292.4435299996879\n",
            "R^2 Score: -0.001134833974736127\n"
          ]
        }
      ]
    },
    {
      "cell_type": "markdown",
      "source": [
        "Le Mean Squared Error (MSE) représente la moyenne des carrés des erreurs entre les valeurs réelles et prédites. Il mesure l'écart moyen au carré entre les prédictions du modèle et les valeurs réelles. Plus le MSE est faible, meilleure est la qualité des prédictions. Ici il est très élevé ce qui nous indique que la prédiction est quasi inexistante.\n",
        "\n",
        "Le score R² est une mesure de la proportion de la variance dans la variable cible qui est expliquée par les variables explicatives. Un score faible (négatif ou proche de zéro) indique que le modèle explique très peu les variations des prix des actions Tesla en fonction des sentiments, ce qui suggère une faible prédictibilité basée uniquement sur ces données, ce qui est le cas ici.\n"
      ],
      "metadata": {
        "id": "mbObU7aUMhIG"
      }
    },
    {
      "cell_type": "code",
      "source": [
        "# Visualisation des prédictions vs valeurs réelles\n",
        "\n",
        "plt.scatter(y_test, y_pred)\n",
        "plt.xlabel(\"Valeurs réelles\")\n",
        "plt.ylabel(\"Prédictions\")\n",
        "plt.title(\"Relation entre les valeurs réelles et prédites\")\n",
        "plt.show()"
      ],
      "metadata": {
        "id": "M48_zysULW4R",
        "outputId": "535effa7-0a32-4498-8f0d-61e423f8382c",
        "colab": {
          "base_uri": "https://localhost:8080/",
          "height": 472
        }
      },
      "execution_count": 40,
      "outputs": [
        {
          "output_type": "display_data",
          "data": {
            "text/plain": [
              "<Figure size 640x480 with 1 Axes>"
            ],
            "image/png": "[encoded data removed]"
          },
          "metadata": {}
        }
      ]
    },
    {
      "cell_type": "markdown",
      "source": [
        "### Modélisation avec une random forest"
      ],
      "metadata": {
        "id": "IOFB4riI55d7"
      }
    },
    {
      "cell_type": "code",
      "source": [
        "# Modèle Random Forest\n",
        "# Entraîner un modèle Random Forest\n",
        "rf_model = RandomForestRegressor(random_state=42)\n",
        "rf_model.fit(X_train, y_train)\n",
        "\n",
        "# Prédictions et évaluation pour Random Forest\n",
        "y_pred_rf = rf_model.predict(X_test)\n",
        "mse_rf = mean_squared_error(y_test, y_pred_rf)\n",
        "r2_rf = r2_score(y_test, y_pred_rf)\n",
        "print(f\"Random Forest MSE: {mse_rf}\")\n",
        "print(f\"Random Forest R^2 Score: {r2_rf}\")"
      ],
      "metadata": {
        "colab": {
          "base_uri": "https://localhost:8080/"
        },
        "id": "mtCLmJNSBVUW",
        "outputId": "835f95a5-3e61-41be-e09c-d4efb3c57e6f"
      },
      "execution_count": 41,
      "outputs": [
        {
          "output_type": "stream",
          "name": "stdout",
          "text": [
            "Random Forest MSE: 292.4204019931662\n",
            "Random Forest R^2 Score: -0.0010556588499890385\n"
          ]
        }
      ]
    },
    {
      "cell_type": "code",
      "source": [
        "# Calcul des variations de prix pour mieux comprendre l'impact des sentiments\n",
        "merged_data['price_change'] = merged_data['stock_price'].diff().fillna(0)\n",
        "\n",
        "# Corrélation entre sentiments et variations\n",
        "data_for_corr_rand_forest = merged_data[['sentiment', 'price_change']]\n",
        "correlation = data_for_corr_rand_forest.corr()\n",
        "print(correlation)\n",
        "\n",
        "# Exploratory plots\n",
        "sns.heatmap(data_for_corr_rand_forest.corr(), annot=True, cmap=\"coolwarm\")\n",
        "plt.title(\"Correlation Heatmap\")\n",
        "plt.show()"
      ],
      "metadata": {
        "colab": {
          "base_uri": "https://localhost:8080/",
          "height": 504
        },
        "id": "JmknvGeYD4h6",
        "outputId": "50280cf5-47e9-49e1-f85e-552554c5c305"
      },
      "execution_count": 42,
      "outputs": [
        {
          "output_type": "stream",
          "name": "stdout",
          "text": [
            "              sentiment  price_change\n",
            "sentiment      1.000000      0.041904\n",
            "price_change   0.041904      1.000000\n"
          ]
        },
        {
          "output_type": "display_data",
          "data": {
            "text/plain": [
              "<Figure size 640x480 with 2 Axes>"
            ],
            "image/png": "[encoded data removed]"
          },
          "metadata": {}
        }
      ]
    },
    {
      "cell_type": "markdown",
      "source": [
        "La corrélation avec les variations est également très faible ce qui suggère qu'on ne peut pas utiliser la base de données tel quel.\n",
        "\n",
        "En filtrant les sentiments neutres, nous réduisons l'effet des données qui n'ont pas de contribution claire à la variabilité des prix des actions. Ce filtrage permet de se concentrer sur les relations entre les sentiments clairement positifs ou négatifs et les mouvements des prix, ce qui pourrait améliorer la corrélation et permettre une interprétation plus précise des résultats des modèles.\n"
      ],
      "metadata": {
        "id": "-FsOPxZtN8LQ"
      }
    },
    {
      "cell_type": "markdown",
      "source": [
        "### Vérification de la stratégie basée uniquement sur les sentiments positifs/négatifs"
      ],
      "metadata": {
        "id": "vuHVc9RgUQzS"
      }
    },
    {
      "cell_type": "code",
      "source": [
        "# Filtrage des articles neutres pour voir l'effet des sentiments positifs/négatifs\n",
        "filtered_data = merged_data[merged_data['sentiment'] != 0]\n",
        "\n",
        "# Vérifier les nouvelles dimensions des données\n",
        "print(\"Taille après filtrage :\", filtered_data.shape)\n",
        "print(filtered_data['sentiment'].value_counts())\n"
      ],
      "metadata": {
        "colab": {
          "base_uri": "https://localhost:8080/"
        },
        "id": "9Arcz69XEcD7",
        "outputId": "6f8f069e-fe24-425d-881f-771c63c98d86"
      },
      "execution_count": 43,
      "outputs": [
        {
          "output_type": "stream",
          "name": "stdout",
          "text": [
            "Taille après filtrage : (1060, 5)\n",
            "sentiment\n",
            " 1.0    594\n",
            "-1.0    465\n",
            "Name: count, dtype: int64\n"
          ]
        }
      ]
    },
    {
      "cell_type": "code",
      "source": [
        "# Corrélation sur les données filtrées\n",
        "data_for_corr_filtered = filtered_data[['sentiment', 'stock_price']]\n",
        "correlation_filtered = data_for_corr_filtered.corr()\n",
        "print(correlation_filtered)\n",
        "\n",
        "# Exploratory plots\n",
        "sns.heatmap(correlation_filtered, annot=True, cmap=\"coolwarm\")\n",
        "plt.title(\"Correlation Heatmap\")\n",
        "plt.show()"
      ],
      "metadata": {
        "colab": {
          "base_uri": "https://localhost:8080/",
          "height": 504
        },
        "id": "rMHf77TYEfz4",
        "outputId": "4a7b4dd6-cfe2-4ad0-8e38-2709c2a357bf"
      },
      "execution_count": 44,
      "outputs": [
        {
          "output_type": "stream",
          "name": "stdout",
          "text": [
            "             sentiment  stock_price\n",
            "sentiment     1.000000    -0.041215\n",
            "stock_price  -0.041215     1.000000\n"
          ]
        },
        {
          "output_type": "display_data",
          "data": {
            "text/plain": [
              "<Figure size 640x480 with 2 Axes>"
            ],
            "image/png": "[encoded data removed]"
          },
          "metadata": {}
        }
      ]
    },
    {
      "cell_type": "code",
      "source": [
        "# Redéfinir X et y\n",
        "X_filtered = filtered_data[['sentiment']]\n",
        "y_filtered = filtered_data['stock_price']\n",
        "\n",
        "from sklearn.model_selection import train_test_split\n",
        "X_filtered_train, X_filtered_test, y_filtered_train, y_filtered_test = train_test_split(X_filtered, y_filtered, test_size=0.2, random_state=42)\n",
        "\n",
        "print(\"Taille de X_filtered_train :\", X_filtered_train.shape)\n",
        "print(\"Taille de y_filtered_train :\", y_filtered_train.shape)\n"
      ],
      "metadata": {
        "colab": {
          "base_uri": "https://localhost:8080/"
        },
        "id": "ynhqf_0dEhDt",
        "outputId": "43cd0366-59b8-4454-fc88-3d51ce5ff30e"
      },
      "execution_count": 45,
      "outputs": [
        {
          "output_type": "stream",
          "name": "stdout",
          "text": [
            "Taille de X_filtered_train : (848, 1)\n",
            "Taille de y_filtered_train : (848,)\n"
          ]
        }
      ]
    },
    {
      "cell_type": "code",
      "source": [
        "print(filtered_data['sentiment'].unique())"
      ],
      "metadata": {
        "colab": {
          "base_uri": "https://localhost:8080/"
        },
        "id": "4dQdX3m3FORV",
        "outputId": "8c8a761e-5692-43fc-de59-68e37320d442"
      },
      "execution_count": 46,
      "outputs": [
        {
          "output_type": "stream",
          "name": "stdout",
          "text": [
            "[ 1. -1. nan]\n"
          ]
        }
      ]
    },
    {
      "cell_type": "code",
      "source": [
        "X_filtered_train = X_filtered_train.dropna()\n",
        "y_filtered_train = y_filtered_train[X_filtered_train.index]  # Ajuster y_train pour correspondre à X_train\n",
        "print(X_filtered_train.isnull().sum())  # Doit afficher 0"
      ],
      "metadata": {
        "colab": {
          "base_uri": "https://localhost:8080/"
        },
        "id": "bAwS_nrWFU0G",
        "outputId": "5693dd91-7980-4c64-fd9f-d6ddee1a0b67"
      },
      "execution_count": 47,
      "outputs": [
        {
          "output_type": "stream",
          "name": "stdout",
          "text": [
            "sentiment    0\n",
            "dtype: int64\n"
          ]
        }
      ]
    },
    {
      "cell_type": "code",
      "source": [
        "# Entraîner le modèle\n",
        "model = LinearRegression()\n",
        "model.fit(X_filtered_train, y_filtered_train)\n",
        "\n",
        "# Prédictions\n",
        "y_filtered_pred = model.predict(X_filtered_test)\n",
        "\n",
        "# Évaluation\n",
        "mse_filtered = mean_squared_error(y_filtered_test, y_filtered_pred)\n",
        "r2_filtered = r2_score(y_filtered_test, y_filtered_pred)\n",
        "\n",
        "print(f\"Mean Squared Error: {mse_filtered}\")\n",
        "print(f\"R^2 Score: {r2_filtered}\")\n"
      ],
      "metadata": {
        "colab": {
          "base_uri": "https://localhost:8080/"
        },
        "id": "omuP6rwFEkkJ",
        "outputId": "9b4f39cc-4220-4243-ebb0-15e09fb56174"
      },
      "execution_count": 48,
      "outputs": [
        {
          "output_type": "stream",
          "name": "stdout",
          "text": [
            "Mean Squared Error: 353.237391344725\n",
            "R^2 Score: -0.013829281090233625\n"
          ]
        }
      ]
    },
    {
      "cell_type": "code",
      "source": [
        "# Comparaison des résultats avec et sans données neutres\n",
        "print(\"Résultats sans filtrage des données neutres :\")\n",
        "print(f\"Mean Squared Error: {mse}\")\n",
        "print(f\"R^2 Score: {r2}\")\n",
        "print(\"\\nRésultats avec filtrage des données neutres :\")\n",
        "print(f\"Filtered Mean Squared Error: {mse_filtered}\")\n",
        "print(f\"Filtered R^2 Score: {r2_filtered}\")"
      ],
      "metadata": {
        "colab": {
          "base_uri": "https://localhost:8080/"
        },
        "id": "AIbxePPzGbhs",
        "outputId": "f3fb74e4-1a8f-4c05-8354-f482031a5ba1"
      },
      "execution_count": 49,
      "outputs": [
        {
          "output_type": "stream",
          "name": "stdout",
          "text": [
            "Résultats sans filtrage des données neutres :\n",
            "Mean Squared Error: 292.4435299996879\n",
            "R^2 Score: -0.001134833974736127\n",
            "\n",
            "Résultats avec filtrage des données neutres :\n",
            "Filtered Mean Squared Error: 353.237391344725\n",
            "Filtered R^2 Score: -0.013829281090233625\n"
          ]
        }
      ]
    },
    {
      "cell_type": "markdown",
      "source": [
        "Les résultats montrent que ni le filtrage des données neutres ni l'inclusion de toutes les données n'améliorent significativement les performances du modèle. Voici une interprétation et une orientation future :\n",
        "\n",
        "1. **Résultats observés** :\n",
        "   - Le score R² reste négatif ou proche de zéro dans les deux cas, indiquant que les sentiments extraits ne permettent pas d'expliquer ou de prédire efficacement les prix ou les variations de prix des actions Tesla.\n",
        "   - L'augmentation du MSE après le filtrage suggère que l'exclusion des sentiments neutres ne réduit pas l'erreur globale mais peut accentuer le bruit ou les écarts résiduels dans les prédictions.\n",
        "\n",
        "2. **Implications** :\n",
        "   - Ces résultats montrent une absence de relation claire entre les sentiments textuels et les prix des actions sur cette période donnée ou avec ce type de données.\n",
        "   - Il est probable que d'autres facteurs influencent les prix, tels que des données financières spécifiques, des événements économiques globaux ou des indicateurs techniques."
      ],
      "metadata": {
        "id": "MFL09B0APrtn"
      }
    },
    {
      "cell_type": "markdown",
      "source": [
        "### Vérification de la stratégie basée sur la moyenne par jour"
      ],
      "metadata": {
        "id": "cobCTrG1R6BW"
      }
    },
    {
      "cell_type": "code",
      "source": [
        "# Calcul de la moyenne des sentiments par jour\n",
        "daily_sentiment = filtered_data.groupby('publishedAt')['sentiment'].mean().reset_index()\n",
        "\n",
        "# Joindre avec les prix journaliers\n",
        "daily_data = pd.merge(daily_sentiment, merged_data[['publishedAt', 'stock_price']].drop_duplicates(), on='publishedAt', how='inner')\n",
        "\n",
        "# Vérifier les données\n",
        "print(daily_data.head())\n",
        "\n",
        "fig, ax1 = plt.subplots(figsize=(10, 6))\n",
        "\n",
        "# Premier axe (sentiments)\n",
        "ax1.set_xlabel('Date')\n",
        "ax1.set_ylabel('Moyenne des Sentiments', color='tab:blue')\n",
        "ax1.plot(daily_data['publishedAt'], daily_data['sentiment'], label='Sentiment', color='tab:blue')\n",
        "ax1.tick_params(axis='y', labelcolor='tab:blue')\n",
        "\n",
        "# Second axe (prix)\n",
        "ax2 = ax1.twinx()\n",
        "ax2.set_ylabel('Prix de l\\'Action', color='tab:green')\n",
        "ax2.plot(daily_data['publishedAt'], daily_data['stock_price'], label='Prix de l\\'Action', color='tab:green')\n",
        "ax2.tick_params(axis='y', labelcolor='tab:green')\n",
        "\n",
        "# Ajouter un titre et une légende\n",
        "plt.title('Moyenne des Sentiments et Prix de l\\'Action par Jour')\n",
        "fig.tight_layout()\n",
        "\n",
        "# Affichage du graphique\n",
        "plt.show()"
      ],
      "metadata": {
        "colab": {
          "base_uri": "https://localhost:8080/",
          "height": 711
        },
        "id": "xY-W62_4SACo",
        "outputId": "9bc9983b-b545-4e7d-c1ec-97c5dd438fbd"
      },
      "execution_count": 64,
      "outputs": [
        {
          "output_type": "stream",
          "name": "stdout",
          "text": [
            "  publishedAt  sentiment  stock_price\n",
            "0  2024-11-07   0.302326   296.910004\n",
            "1  2024-11-08   0.529412   321.220001\n",
            "2  2024-11-11   0.516129   350.000000\n",
            "3  2024-11-12   0.111111   328.489990\n",
            "4  2024-11-13   0.027778   330.239990\n"
          ]
        },
        {
          "output_type": "display_data",
          "data": {
            "text/plain": [
              "<Figure size 1000x600 with 2 Axes>"
            ],
            "image/png": "[encoded data removed]"
          },
          "metadata": {}
        }
      ]
    },
    {
      "cell_type": "code",
      "source": [
        "# Calcul de la corrélation\n",
        "corr_daily = daily_data[['sentiment', 'stock_price']].corr()\n",
        "print(corr_daily)\n",
        "# Exploratory plots\n",
        "sns.heatmap(corr_daily, annot=True, cmap=\"coolwarm\")\n",
        "plt.title(\"Correlation Heatmap\")\n",
        "plt.show()"
      ],
      "metadata": {
        "colab": {
          "base_uri": "https://localhost:8080/",
          "height": 504
        },
        "id": "LwQJi8kISCRY",
        "outputId": "00c32a64-b0de-4778-fbb4-767d6b10ea08"
      },
      "execution_count": 51,
      "outputs": [
        {
          "output_type": "stream",
          "name": "stdout",
          "text": [
            "             sentiment  stock_price\n",
            "sentiment     1.000000    -0.068429\n",
            "stock_price  -0.068429     1.000000\n"
          ]
        },
        {
          "output_type": "display_data",
          "data": {
            "text/plain": [
              "<Figure size 640x480 with 2 Axes>"
            ],
            "image/png": "[encoded data removed]"
          },
          "metadata": {}
        }
      ]
    },
    {
      "cell_type": "code",
      "source": [
        "# Redéfinir X et y\n",
        "X_daily = daily_data[['sentiment']]\n",
        "y_daily = daily_data['stock_price']\n",
        "\n",
        "# Diviser les données\n",
        "X_train_daily, X_test_daily, y_train_daily, y_test_daily = train_test_split(X_daily, y_daily, test_size=0.2, random_state=42)\n",
        "\n",
        "# Entraîner un modèle de régression\n",
        "model_daily = LinearRegression()\n",
        "model_daily.fit(X_train_daily, y_train_daily)\n",
        "\n",
        "# Prédictions et évaluation\n",
        "y_pred_daily = model_daily.predict(X_test_daily)\n",
        "mse_daily = mean_squared_error(y_test_daily, y_pred_daily)\n",
        "r2_daily = r2_score(y_test_daily, y_pred_daily)\n",
        "\n",
        "print(f\"Mean Squared Error (Daily): {mse_daily}\")\n",
        "print(f\"R^2 Score (Daily): {r2_daily}\")"
      ],
      "metadata": {
        "colab": {
          "base_uri": "https://localhost:8080/"
        },
        "id": "VtTZjT0NSICv",
        "outputId": "640fcc4c-a3fc-4c28-ac93-81bc801e6153"
      },
      "execution_count": 52,
      "outputs": [
        {
          "output_type": "stream",
          "name": "stdout",
          "text": [
            "Mean Squared Error (Daily): 814.2443143585264\n",
            "R^2 Score (Daily): -0.7570303743632436\n"
          ]
        }
      ]
    },
    {
      "cell_type": "markdown",
      "source": [
        "Le score R² reste négatif, cela confirme que la relation entre les sentiments des titres et les prix des actions est inexistante ou trop complexe pour être capturée par un simple modèle.\n",
        "\n",
        "De plus la corrélation reste faible après agrégation, cela pourrait signifier que les sentiments textuels ne suffisent pas à eux seuls pour expliquer les variations des prix."
      ],
      "metadata": {
        "id": "63OUQLwySyFq"
      }
    },
    {
      "cell_type": "markdown",
      "source": [
        "### Vérification de la stratégie en ajoutant le nombre d'articles positifs et négatifs par jour puis en incluant les neutres"
      ],
      "metadata": {
        "id": "DhhEDcWsUae5"
      }
    },
    {
      "cell_type": "code",
      "source": [
        "# Compter les articles positifs et négatifs par jour\n",
        "daily_sentiment_count = filtered_data.groupby('publishedAt')['sentiment'].value_counts().unstack(fill_value=0).reset_index()\n",
        "\n",
        "# Renommer les colonnes pour plus de clarté\n",
        "daily_sentiment_count.rename(columns={1.0: 'positive_count', -1.0: 'negative_count'}, inplace=True)\n",
        "\n",
        "# Vérifier les données\n",
        "print(daily_sentiment_count.head())"
      ],
      "metadata": {
        "colab": {
          "base_uri": "https://localhost:8080/"
        },
        "id": "LyePb_tmS6DG",
        "outputId": "cd955fd2-78e6-4534-de26-342de24b438f"
      },
      "execution_count": 53,
      "outputs": [
        {
          "output_type": "stream",
          "name": "stdout",
          "text": [
            "sentiment publishedAt  negative_count  positive_count\n",
            "0          2024-11-07              30              56\n",
            "1          2024-11-08              12              39\n",
            "2          2024-11-11              15              47\n",
            "3          2024-11-12              20              25\n",
            "4          2024-11-13              35              37\n"
          ]
        }
      ]
    },
    {
      "cell_type": "code",
      "source": [
        "# Joindre les comptes avec les prix des actions\n",
        "daily_data_enriched = pd.merge(daily_sentiment_count, merged_data[['publishedAt', 'stock_price']].drop_duplicates(), on='publishedAt', how='inner')\n",
        "\n",
        "# Vérifier les données\n",
        "print(daily_data_enriched.head())"
      ],
      "metadata": {
        "colab": {
          "base_uri": "https://localhost:8080/"
        },
        "id": "e-cAoA5PUnez",
        "outputId": "5a75751b-92f8-413d-fea9-b3903d3f6c04"
      },
      "execution_count": 54,
      "outputs": [
        {
          "output_type": "stream",
          "name": "stdout",
          "text": [
            "  publishedAt  negative_count  positive_count  stock_price\n",
            "0  2024-11-07              30              56   296.910004\n",
            "1  2024-11-08              12              39   321.220001\n",
            "2  2024-11-11              15              47   350.000000\n",
            "3  2024-11-12              20              25   328.489990\n",
            "4  2024-11-13              35              37   330.239990\n"
          ]
        }
      ]
    },
    {
      "cell_type": "code",
      "source": [
        "# Corrélation avec les nouvelles variables\n",
        "correlation_enriched = daily_data_enriched[['positive_count', 'negative_count', 'stock_price']].corr()\n",
        "print(correlation_enriched)\n",
        "\n",
        "# Exploratory plots\n",
        "sns.heatmap(correlation_enriched, annot=True, cmap=\"coolwarm\")\n",
        "plt.title(\"Correlation Heatmap\")\n",
        "plt.show()"
      ],
      "metadata": {
        "colab": {
          "base_uri": "https://localhost:8080/",
          "height": 521
        },
        "id": "3BJul8bYUqW8",
        "outputId": "6543d9ac-0a80-4216-cac9-5a79eda22d0d"
      },
      "execution_count": 55,
      "outputs": [
        {
          "output_type": "stream",
          "name": "stdout",
          "text": [
            "                positive_count  negative_count  stock_price\n",
            "positive_count        1.000000        0.121827    -0.227880\n",
            "negative_count        0.121827        1.000000    -0.013309\n",
            "stock_price          -0.227880       -0.013309     1.000000\n"
          ]
        },
        {
          "output_type": "display_data",
          "data": {
            "text/plain": [
              "<Figure size 640x480 with 2 Axes>"
            ],
            "image/png": "[encoded data removed]"
          },
          "metadata": {}
        }
      ]
    },
    {
      "cell_type": "code",
      "source": [
        "# Redéfinir X et y\n",
        "X_enriched = daily_data_enriched[['positive_count', 'negative_count']]\n",
        "y_enriched = daily_data_enriched['stock_price']\n",
        "\n",
        "# Diviser les données en ensemble d'entraînement et de test\n",
        "X_train_enriched, X_test_enriched, y_train_enriched, y_test_enriched = train_test_split(X_enriched, y_enriched, test_size=0.2, random_state=42)\n",
        "\n",
        "# Entraîner un modèle de régression linéaire\n",
        "model_enriched = LinearRegression()\n",
        "model_enriched.fit(X_train_enriched, y_train_enriched)\n",
        "\n",
        "# Prédictions et évaluation\n",
        "y_pred_enriched = model_enriched.predict(X_test_enriched)\n",
        "mse_enriched = mean_squared_error(y_test_enriched, y_pred_enriched)\n",
        "r2_enriched = r2_score(y_test_enriched, y_pred_enriched)\n",
        "\n",
        "print(f\"Mean Squared Error (Enriched): {mse_enriched}\")\n",
        "print(f\"R^2 Score (Enriched): {r2_enriched}\")"
      ],
      "metadata": {
        "colab": {
          "base_uri": "https://localhost:8080/"
        },
        "id": "72LXS0OFU22c",
        "outputId": "76412f1a-40ba-458a-93d1-02042d8c75a2"
      },
      "execution_count": 56,
      "outputs": [
        {
          "output_type": "stream",
          "name": "stdout",
          "text": [
            "Mean Squared Error (Enriched): 911.1878228351039\n",
            "R^2 Score (Enriched): -0.9662215053137593\n"
          ]
        }
      ]
    },
    {
      "cell_type": "code",
      "source": [
        "# Calcul des variations des prix\n",
        "daily_data_enriched['price_change'] = daily_data_enriched['stock_price'].diff().fillna(0)\n",
        "\n",
        "# Réutiliser le modèle pour prédire les variations\n",
        "X_price_change = daily_data_enriched[['positive_count', 'negative_count']]\n",
        "y_price_change = daily_data_enriched['price_change']\n",
        "\n",
        "X_train_change, X_test_change, y_train_change, y_test_change = train_test_split(X_price_change, y_price_change, test_size=0.2, random_state=42)\n",
        "\n",
        "# Modèle de régression\n",
        "model_change = LinearRegression()\n",
        "model_change.fit(X_train_change, y_train_change)\n",
        "\n",
        "# Évaluation\n",
        "y_pred_change = model_change.predict(X_test_change)\n",
        "mse_change = mean_squared_error(y_test_change, y_pred_change)\n",
        "r2_change = r2_score(y_test_change, y_pred_change)\n",
        "\n",
        "print(f\"Mean Squared Error (Change): {mse_change}\")\n",
        "print(f\"R^2 Score (Change): {r2_change}\")"
      ],
      "metadata": {
        "colab": {
          "base_uri": "https://localhost:8080/"
        },
        "id": "0BI9j4nIVWPg",
        "outputId": "0d892022-e47b-421e-a1fc-51c30e285107"
      },
      "execution_count": 57,
      "outputs": [
        {
          "output_type": "stream",
          "name": "stdout",
          "text": [
            "Mean Squared Error (Change): 237.38893462105057\n",
            "R^2 Score (Change): -0.7754671084567424\n"
          ]
        }
      ]
    },
    {
      "cell_type": "code",
      "source": [
        "# Compter les articles par sentiment par jour\n",
        "daily_sentiment_count_all = merged_data.groupby('publishedAt')['sentiment'].value_counts().unstack(fill_value=0).reset_index()\n",
        "\n",
        "# Renommer les colonnes pour plus de clarté\n",
        "daily_sentiment_count_all.rename(columns={1.0: 'positive_count', -1.0: 'negative_count', 0.0: 'neutral_count'}, inplace=True)\n",
        "\n",
        "# Vérifier les données\n",
        "print(daily_sentiment_count_all.head())"
      ],
      "metadata": {
        "colab": {
          "base_uri": "https://localhost:8080/"
        },
        "id": "r06SmoLrWCvm",
        "outputId": "94f0185d-4e4f-44a7-9517-0dcc92e2a108"
      },
      "execution_count": 58,
      "outputs": [
        {
          "output_type": "stream",
          "name": "stdout",
          "text": [
            "sentiment publishedAt  negative_count  neutral_count  positive_count\n",
            "0          2024-11-07              30            124              56\n",
            "1          2024-11-08              12            150              39\n",
            "2          2024-11-11              15             95              47\n",
            "3          2024-11-12              20            116              25\n",
            "4          2024-11-13              35            233              37\n"
          ]
        }
      ]
    },
    {
      "cell_type": "code",
      "source": [
        "# Joindre avec les prix journaliers\n",
        "daily_data_all_sentiments = pd.merge(\n",
        "    daily_sentiment_count_all,\n",
        "    merged_data[['publishedAt', 'stock_price']].drop_duplicates(),\n",
        "    on='publishedAt',\n",
        "    how='inner'\n",
        ")\n",
        "\n",
        "# Vérifier les données\n",
        "print(daily_data_all_sentiments.head())"
      ],
      "metadata": {
        "colab": {
          "base_uri": "https://localhost:8080/"
        },
        "id": "OmuTwnJEWFG_",
        "outputId": "f42e6adb-d24b-4466-d5b7-766520a06fe7"
      },
      "execution_count": 59,
      "outputs": [
        {
          "output_type": "stream",
          "name": "stdout",
          "text": [
            "  publishedAt  negative_count  neutral_count  positive_count  stock_price\n",
            "0  2024-11-07              30            124              56   296.910004\n",
            "1  2024-11-08              12            150              39   321.220001\n",
            "2  2024-11-11              15             95              47   350.000000\n",
            "3  2024-11-12              20            116              25   328.489990\n",
            "4  2024-11-13              35            233              37   330.239990\n"
          ]
        }
      ]
    },
    {
      "cell_type": "code",
      "source": [
        "# Corrélation entre les variables explicatives et les prix\n",
        "correlation_all = daily_data_all_sentiments[['positive_count', 'negative_count', 'neutral_count', 'stock_price']].corr()\n",
        "print(correlation_all)\n",
        "\n",
        "# Exploratory plots\n",
        "sns.heatmap(correlation_all, annot=True, cmap=\"coolwarm\")\n",
        "plt.title(\"Correlation Heatmap\")\n",
        "plt.show()"
      ],
      "metadata": {
        "colab": {
          "base_uri": "https://localhost:8080/",
          "height": 632
        },
        "id": "zA3WyADhWHaR",
        "outputId": "52e99cbd-b567-4854-8ffa-db19674e3245"
      },
      "execution_count": 60,
      "outputs": [
        {
          "output_type": "stream",
          "name": "stdout",
          "text": [
            "                positive_count  negative_count  neutral_count  stock_price\n",
            "positive_count        1.000000        0.121827       0.288903    -0.227880\n",
            "negative_count        0.121827        1.000000       0.574502    -0.013309\n",
            "neutral_count         0.288903        0.574502       1.000000    -0.094215\n",
            "stock_price          -0.227880       -0.013309      -0.094215     1.000000\n"
          ]
        },
        {
          "output_type": "display_data",
          "data": {
            "text/plain": [
              "<Figure size 640x480 with 2 Axes>"
            ],
            "image/png": "[encoded data removed]"
          },
          "metadata": {}
        }
      ]
    },
    {
      "cell_type": "code",
      "source": [
        "# Redéfinir X et y\n",
        "X_all = daily_data_all_sentiments[['positive_count', 'negative_count', 'neutral_count']]\n",
        "y_all = daily_data_all_sentiments['stock_price']\n",
        "\n",
        "# Diviser les données en ensemble d'entraînement et de test\n",
        "X_train_all, X_test_all, y_train_all, y_test_all = train_test_split(X_all, y_all, test_size=0.2, random_state=42)\n",
        "\n",
        "# Entraîner un modèle de régression linéaire\n",
        "model_all = LinearRegression()\n",
        "model_all.fit(X_train_all, y_train_all)\n",
        "\n",
        "# Prédictions et évaluation\n",
        "y_pred_all = model_all.predict(X_test_all)\n",
        "mse_all = mean_squared_error(y_test_all, y_pred_all)\n",
        "r2_all = r2_score(y_test_all, y_pred_all)\n",
        "\n",
        "print(f\"Mean Squared Error (All Sentiments): {mse_all}\")\n",
        "print(f\"R^2 Score (All Sentiments): {r2_all}\")"
      ],
      "metadata": {
        "colab": {
          "base_uri": "https://localhost:8080/"
        },
        "id": "FP5iqfKOWJZr",
        "outputId": "c8f2b666-cd63-45c7-ff4a-24cc3a5063b5"
      },
      "execution_count": 61,
      "outputs": [
        {
          "output_type": "stream",
          "name": "stdout",
          "text": [
            "Mean Squared Error (All Sentiments): 1152.6393389074622\n",
            "R^2 Score (All Sentiments): -1.4872415974336644\n"
          ]
        }
      ]
    },
    {
      "cell_type": "code",
      "source": [
        "# Calculer la variation journalière des prix\n",
        "daily_data_all_sentiments['price_change'] = daily_data_all_sentiments['stock_price'].diff().fillna(0)\n",
        "\n",
        "# Vérifier les corrélations avec price_change\n",
        "correlation_price_change = daily_data_all_sentiments[['positive_count', 'negative_count', 'neutral_count', 'price_change']].corr()\n",
        "print(correlation_price_change)\n",
        "# Exploratory plots\n",
        "sns.heatmap(correlation_price_change, annot=True, cmap=\"coolwarm\")\n",
        "plt.title(\"Correlation Heatmap\")\n",
        "plt.show()\n",
        "\n",
        "# Modèle pour prédire price_change\n",
        "X_variation = daily_data_all_sentiments[['positive_count', 'negative_count', 'neutral_count']]\n",
        "y_variation = daily_data_all_sentiments['price_change']\n",
        "\n",
        "X_train_var, X_test_var, y_train_var, y_test_var = train_test_split(X_variation, y_variation, test_size=0.2, random_state=42)\n",
        "\n",
        "model_variation = LinearRegression()\n",
        "model_variation.fit(X_train_var, y_train_var)\n",
        "\n",
        "y_pred_var = model_variation.predict(X_test_var)\n",
        "mse_var = mean_squared_error(y_test_var, y_pred_var)\n",
        "r2_var = r2_score(y_test_var, y_pred_var)\n",
        "\n",
        "print(f\"Mean Squared Error (Variation): {mse_var}\")\n",
        "print(f\"R^2 Score (Variation): {r2_var}\")"
      ],
      "metadata": {
        "colab": {
          "base_uri": "https://localhost:8080/",
          "height": 667
        },
        "id": "-ztrb6f5WeVa",
        "outputId": "33347318-736e-4175-d99c-5b28f04efa64"
      },
      "execution_count": 62,
      "outputs": [
        {
          "output_type": "stream",
          "name": "stdout",
          "text": [
            "                positive_count  negative_count  neutral_count  price_change\n",
            "positive_count        1.000000        0.121827       0.288903      0.385702\n",
            "negative_count        0.121827        1.000000       0.574502     -0.332596\n",
            "neutral_count         0.288903        0.574502       1.000000     -0.132978\n",
            "price_change          0.385702       -0.332596      -0.132978      1.000000\n"
          ]
        },
        {
          "output_type": "display_data",
          "data": {
            "text/plain": [
              "<Figure size 640x480 with 2 Axes>"
            ],
            "image/png": "[encoded data removed]"
          },
          "metadata": {}
        },
        {
          "output_type": "stream",
          "name": "stdout",
          "text": [
            "Mean Squared Error (Variation): 385.39969897553055\n",
            "R^2 Score (Variation): -1.8824616034967736\n"
          ]
        }
      ]
    },
    {
      "cell_type": "markdown",
      "source": [
        "Les corrélations faibles et les scores médiocres montrent que ni les sentiments, ni les quantités d'articles par sentiment, ne suffisent pour prédire efficacement les prix des actions Tesla.\n",
        "\n",
        "Les articles de presse seuls ne capturent pas les facteurs fondamentaux qui influencent les prix des actions (données financières, résultats d’entreprise, annonces économiques, etc.)."
      ],
      "metadata": {
        "id": "8gesrEJ1WbaR"
      }
    }
  ]
}